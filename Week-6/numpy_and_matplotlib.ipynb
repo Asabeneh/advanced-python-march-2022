{
 "cells": [
  {
   "cell_type": "markdown",
   "metadata": {},
   "source": [
    "# Introduction NumPy"
   ]
  },
  {
   "cell_type": "code",
   "execution_count": 191,
   "metadata": {},
   "outputs": [],
   "source": [
    "# importing numPy \n",
    "\n",
    "import numpy as np\n",
    "import matplotlib.pyplot as plt\n",
    "import requests\n",
    "from collections import Counter\n",
    "import re\n",
    "\n",
    "from pprint import pprint\n",
    "import pandas as pd"
   ]
  },
  {
   "cell_type": "code",
   "execution_count": 192,
   "metadata": {},
   "outputs": [
    {
     "name": "stdout",
     "output_type": "stream",
     "text": [
      "1.19.2\n"
     ]
    }
   ],
   "source": [
    "print(np.__version__)"
   ]
  },
  {
   "cell_type": "code",
   "execution_count": 193,
   "metadata": {},
   "outputs": [
    {
     "data": {
      "text/plain": [
       "array([1, 2, 3, 4, 5, 6])"
      ]
     },
     "execution_count": 193,
     "metadata": {},
     "output_type": "execute_result"
    }
   ],
   "source": [
    "nums = [1, 2, 3, 4, 5, 6]\n",
    "nums_arr = np.array(nums)\n",
    "nums_arr"
   ]
  },
  {
   "cell_type": "code",
   "execution_count": 194,
   "metadata": {},
   "outputs": [
    {
     "data": {
      "text/plain": [
       "array([ 2,  4,  6,  8, 10, 12])"
      ]
     },
     "execution_count": 194,
     "metadata": {},
     "output_type": "execute_result"
    }
   ],
   "source": [
    "nums_arr * 2"
   ]
  },
  {
   "cell_type": "code",
   "execution_count": 195,
   "metadata": {},
   "outputs": [
    {
     "data": {
      "text/plain": [
       "array([11, 12, 13, 14, 15, 16])"
      ]
     },
     "execution_count": 195,
     "metadata": {},
     "output_type": "execute_result"
    }
   ],
   "source": [
    "nums_arr + 10"
   ]
  },
  {
   "cell_type": "code",
   "execution_count": 196,
   "metadata": {},
   "outputs": [
    {
     "data": {
      "text/plain": [
       "array([10, 20, 30, 40, 50, 60])"
      ]
     },
     "execution_count": 196,
     "metadata": {},
     "output_type": "execute_result"
    }
   ],
   "source": [
    "nums_arr * 10"
   ]
  },
  {
   "cell_type": "code",
   "execution_count": 197,
   "metadata": {},
   "outputs": [
    {
     "data": {
      "text/plain": [
       "1"
      ]
     },
     "execution_count": 197,
     "metadata": {},
     "output_type": "execute_result"
    }
   ],
   "source": [
    "nums_arr.ndim"
   ]
  },
  {
   "cell_type": "code",
   "execution_count": 198,
   "metadata": {},
   "outputs": [],
   "source": [
    "lst_lst = [[1, 2], [3, 4]]\n",
    "arr = np.array(lst_lst)"
   ]
  },
  {
   "cell_type": "code",
   "execution_count": 199,
   "metadata": {},
   "outputs": [
    {
     "name": "stdout",
     "output_type": "stream",
     "text": [
      "[[1 2]\n",
      " [3 4]]\n"
     ]
    }
   ],
   "source": [
    "print(arr)"
   ]
  },
  {
   "cell_type": "code",
   "execution_count": 200,
   "metadata": {},
   "outputs": [
    {
     "name": "stdout",
     "output_type": "stream",
     "text": [
      "2\n"
     ]
    }
   ],
   "source": [
    "print(arr.ndim)"
   ]
  },
  {
   "cell_type": "code",
   "execution_count": 201,
   "metadata": {},
   "outputs": [
    {
     "data": {
      "text/plain": [
       "(2, 2)"
      ]
     },
     "execution_count": 201,
     "metadata": {},
     "output_type": "execute_result"
    }
   ],
   "source": [
    "arr.shape"
   ]
  },
  {
   "cell_type": "code",
   "execution_count": null,
   "metadata": {},
   "outputs": [],
   "source": []
  },
  {
   "cell_type": "code",
   "execution_count": null,
   "metadata": {},
   "outputs": [],
   "source": []
  },
  {
   "cell_type": "code",
   "execution_count": 202,
   "metadata": {},
   "outputs": [
    {
     "name": "stdout",
     "output_type": "stream",
     "text": [
      "[0 1 2 3 4 5 6 7 8 9]\n",
      "[ 0  2  4  6  8 10 12 14 16 18]\n",
      "[ 0  1  4  9 16 25 36 49 64 81]\n"
     ]
    }
   ],
   "source": [
    "x = np.arange(10)\n",
    "print(x)\n",
    "print(x * 2)\n",
    "print(x ** 2)\n"
   ]
  },
  {
   "cell_type": "code",
   "execution_count": 203,
   "metadata": {},
   "outputs": [
    {
     "data": {
      "image/png": "[encoded data removed]",
      "text/plain": [
       "<Figure size 432x288 with 1 Axes>"
      ]
     },
     "metadata": {
      "needs_background": "light"
     },
     "output_type": "display_data"
    }
   ],
   "source": [
    "x = np.arange(100)\n",
    "y = 2 * x + 10\n",
    "plt.scatter(x,y)\n",
    "plt.xlabel('Temperature')\n",
    "plt.ylabel('Pressure')\n",
    "plt.title('Temperature vs Pressure')\n",
    "plt.show()"
   ]
  },
  {
   "cell_type": "code",
   "execution_count": 204,
   "metadata": {},
   "outputs": [
    {
     "data": {
      "image/png": "[encoded data removed]",
      "text/plain": [
       "<Figure size 432x288 with 1 Axes>"
      ]
     },
     "metadata": {
      "needs_background": "light"
     },
     "output_type": "display_data"
    }
   ],
   "source": [
    "x = np.arange(10)\n",
    "y = 2 * x + 10\n",
    "plt.scatter(x,y)\n",
    "plt.xlabel('X')\n",
    "plt.ylabel('Y')\n",
    "plt.title('Linear Equation')\n",
    "plt.show()"
   ]
  },
  {
   "cell_type": "code",
   "execution_count": 205,
   "metadata": {},
   "outputs": [
    {
     "data": {
      "image/png": "[encoded data removed]",
      "text/plain": [
       "<Figure size 432x288 with 1 Axes>"
      ]
     },
     "metadata": {
      "needs_background": "light"
     },
     "output_type": "display_data"
    }
   ],
   "source": [
    "x = np.arange(10)\n",
    "y = -x\n",
    "plt.scatter(x,y)\n",
    "plt.xlabel('X')\n",
    "plt.ylabel('Y')\n",
    "plt.title('Linear Equation')\n",
    "plt.show()"
   ]
  },
  {
   "cell_type": "code",
   "execution_count": 206,
   "metadata": {},
   "outputs": [
    {
     "data": {
      "image/png": "[encoded data removed]",
      "text/plain": [
       "<Figure size 432x288 with 1 Axes>"
      ]
     },
     "metadata": {
      "needs_background": "light"
     },
     "output_type": "display_data"
    }
   ],
   "source": [
    "x = np.linspace(-10, 10, 1000)\n",
    "y = x ** 2\n",
    "plt.scatter(x,y)\n",
    "plt.xlabel('X')\n",
    "plt.ylabel('Y')\n",
    "plt.title('Quadratic Equation')\n",
    "plt.show()"
   ]
  },
  {
   "cell_type": "code",
   "execution_count": 207,
   "metadata": {},
   "outputs": [
    {
     "data": {
      "image/png": "[encoded data removed]",
      "text/plain": [
       "<Figure size 432x288 with 1 Axes>"
      ]
     },
     "metadata": {
      "needs_background": "light"
     },
     "output_type": "display_data"
    }
   ],
   "source": [
    "x = np.linspace(-10, 10, 1000)\n",
    "y = -x ** 2\n",
    "plt.scatter(x,y)\n",
    "plt.xlabel('X')\n",
    "plt.ylabel('Y')\n",
    "plt.title('Quadratic Equation')\n",
    "plt.show()"
   ]
  },
  {
   "cell_type": "code",
   "execution_count": 208,
   "metadata": {},
   "outputs": [
    {
     "data": {
      "text/plain": [
       "Text(0.5, 1.0, 'Polynomial')"
      ]
     },
     "execution_count": 208,
     "metadata": {},
     "output_type": "execute_result"
    },
    {
     "data": {
      "image/png": "[encoded data removed]",
      "text/plain": [
       "<Figure size 432x288 with 1 Axes>"
      ]
     },
     "metadata": {
      "needs_background": "light"
     },
     "output_type": "display_data"
    }
   ],
   "source": [
    "x = np.linspace(-10, 10, 1000)\n",
    "y = x ** 5\n",
    "plt.scatter(x,y)\n",
    "plt.xlabel('X')\n",
    "plt.ylabel('Y')\n",
    "plt.title('Polynomial')"
   ]
  },
  {
   "cell_type": "code",
   "execution_count": 209,
   "metadata": {},
   "outputs": [],
   "source": [
    "def load_data(url):\n",
    "    response = requests.get(url)\n",
    "    return response.json()\n",
    "data = load_data('https://api.thecatapi.com/v1/breeds')\n"
   ]
  },
  {
   "cell_type": "code",
   "execution_count": 210,
   "metadata": {},
   "outputs": [
    {
     "data": {
      "text/plain": [
       "[{'weight': {'imperial': '7  -  10', 'metric': '3 - 5'}, 'id': 'abys', 'name': 'Abyssinian', 'cfa_url': 'http://cfa.org/Breeds/BreedsAB/Abyssinian.aspx', 'vetstreet_url': 'http://www.vetstreet.com/cats/abyssinian', 'vcahospitals_url': 'https://vcahospitals.com/know-your-pet/cat-breeds/abyssinian', 'temperament': 'Active, Energetic, Independent, Intelligent, Gentle', 'origin': 'Egypt', 'country_codes': 'EG', 'country_code': 'EG', 'description': 'The Abyssinian is easy to care for, and a joy to have in your home. They’re affectionate cats and love both people and other animals.', 'life_span': '14 - 15', 'indoor': 0, 'lap': 1, 'alt_names': '', 'adaptability': 5, 'affection_level': 5, 'child_friendly': 3, 'dog_friendly': 4, 'energy_level': 5, 'grooming': 1, 'health_issues': 2, 'intelligence': 5, 'shedding_level': 2, 'social_needs': 5, 'stranger_friendly': 5, 'vocalisation': 1, 'experimental': 0, 'hairless': 0, 'natural': 1, 'rare': 0, 'rex': 0, 'suppressed_tail': 0, 'short_legs': 0, 'wikipedia_url': 'https://en.wikipedia.org/wiki/Abyssinian_(cat)', 'hypoallergenic': 0, 'reference_image_id': '0XYvRd7oD', 'image': {'id': '0XYvRd7oD', 'width': 1204, 'height': 1445, 'url': 'https://cdn2.thecatapi.com/images/0XYvRd7oD.jpg'}}, {'weight': {'imperial': '7 - 10', 'metric': '3 - 5'}, 'id': 'aege', 'name': 'Aegean', 'vetstreet_url': 'http://www.vetstreet.com/cats/aegean-cat', 'temperament': 'Affectionate, Social, Intelligent, Playful, Active', 'origin': 'Greece', 'country_codes': 'GR', 'country_code': 'GR', 'description': 'Native to the Greek islands known as the Cyclades in the Aegean Sea, these are natural cats, meaning they developed without humans getting involved in their breeding. As a breed, Aegean Cats are rare, although they are numerous on their home islands. They are generally friendly toward people and can be excellent cats for families with children.', 'life_span': '9 - 12', 'indoor': 0, 'alt_names': '', 'adaptability': 5, 'affection_level': 4, 'child_friendly': 4, 'dog_friendly': 4, 'energy_level': 3, 'grooming': 3, 'health_issues': 1, 'intelligence': 3, 'shedding_level': 3, 'social_needs': 4, 'stranger_friendly': 4, 'vocalisation': 3, 'experimental': 0, 'hairless': 0, 'natural': 0, 'rare': 0, 'rex': 0, 'suppressed_tail': 0, 'short_legs': 0, 'wikipedia_url': 'https://en.wikipedia.org/wiki/Aegean_cat', 'hypoallergenic': 0, 'reference_image_id': 'ozEvzdVM-', 'image': {'id': 'ozEvzdVM-', 'width': 1200, 'height': 800, 'url': 'https://cdn2.thecatapi.com/images/ozEvzdVM-.jpg'}}, {'weight': {'imperial': '7 - 16', 'metric': '3 - 7'}, 'id': 'abob', 'name': 'American Bobtail', 'cfa_url': 'http://cfa.org/Breeds/BreedsAB/AmericanBobtail.aspx', 'vetstreet_url': 'http://www.vetstreet.com/cats/american-bobtail', 'vcahospitals_url': 'https://vcahospitals.com/know-your-pet/cat-breeds/american-bobtail', 'temperament': 'Intelligent, Interactive, Lively, Playful, Sensitive', 'origin': 'United States', 'country_codes': 'US', 'country_code': 'US', 'description': 'American Bobtails are loving and incredibly intelligent cats possessing a distinctive wild appearance. They are extremely interactive cats that bond with their human family with great devotion.', 'life_span': '11 - 15', 'indoor': 0, 'lap': 1, 'alt_names': '', 'adaptability': 5, 'affection_level': 5, 'child_friendly': 4, 'dog_friendly': 5, 'energy_level': 3, 'grooming': 1, 'health_issues': 1, 'intelligence': 5, 'shedding_level': 3, 'social_needs': 3, 'stranger_friendly': 3, 'vocalisation': 3, 'experimental': 0, 'hairless': 0, 'natural': 0, 'rare': 0, 'rex': 0, 'suppressed_tail': 1, 'short_legs': 0, 'wikipedia_url': 'https://en.wikipedia.org/wiki/American_Bobtail', 'hypoallergenic': 0, 'reference_image_id': 'hBXicehMA', 'image': {'id': 'hBXicehMA', 'width': 1600, 'height': 951, 'url': 'https://cdn2.thecatapi.com/images/hBXicehMA.jpg'}}, {'weight': {'imperial': '5 - 10', 'metric': '2 - 5'}, 'id': 'acur', 'name': 'American Curl', 'cfa_url': 'http://cfa.org/Breeds/BreedsAB/AmericanCurl.aspx', 'vetstreet_url': 'http://www.vetstreet.com/cats/american-curl', 'vcahospitals_url': 'https://vcahospitals.com/know-your-pet/cat-breeds/american-curl', 'temperament': 'Affectionate, Curious, Intelligent, Interactive, Lively, Playful, Social', 'origin': 'United States', 'country_codes': 'US', 'country_code': 'US', 'description': 'Distinguished by truly unique ears that curl back in a graceful arc, offering an alert, perky, happily surprised expression, they cause people to break out into a big smile when viewing their first Curl. Curls are very people-oriented, faithful, affectionate soulmates, adjusting remarkably fast to other pets, children, and new situations.', 'life_span': '12 - 16', 'indoor': 0, 'lap': 1, 'alt_names': '', 'adaptability': 5, 'affection_level': 5, 'child_friendly': 4, 'dog_friendly': 5, 'energy_level': 3, 'grooming': 2, 'health_issues': 1, 'intelligence': 3, 'shedding_level': 3, 'social_needs': 3, 'stranger_friendly': 3, 'vocalisation': 3, 'experimental': 0, 'hairless': 0, 'natural': 0, 'rare': 0, 'rex': 0, 'suppressed_tail': 0, 'short_legs': 0, 'wikipedia_url': 'https://en.wikipedia.org/wiki/American_Curl', 'hypoallergenic': 0, 'reference_image_id': 'xnsqonbjW', 'image': {'id': 'xnsqonbjW', 'width': 1000, 'height': 964, 'url': 'https://cdn2.thecatapi.com/images/xnsqonbjW.jpg'}}, {'weight': {'imperial': '8 - 15', 'metric': '4 - 7'}, 'id': 'asho', 'name': 'American Shorthair', 'cfa_url': 'http://cfa.org/Breeds/BreedsAB/AmericanShorthair.aspx', 'vetstreet_url': 'http://www.vetstreet.com/cats/american-shorthair', 'vcahospitals_url': 'https://vcahospitals.com/know-your-pet/cat-breeds/american-shorthair', 'temperament': 'Active, Curious, Easy Going, Playful, Calm', 'origin': 'United States', 'country_codes': 'US', 'country_code': 'US', 'description': 'The American Shorthair is known for its longevity, robust health, good looks, sweet personality, and amiability with children, dogs, and other pets.', 'life_span': '15 - 17', 'indoor': 0, 'lap': 1, 'alt_names': 'Domestic Shorthair', 'adaptability': 5, 'affection_level': 5, 'child_friendly': 4, 'dog_friendly': 5, 'energy_level': 3, 'grooming': 1, 'health_issues': 3, 'intelligence': 3, 'shedding_level': 3, 'social_needs': 4, 'stranger_friendly': 3, 'vocalisation': 3, 'experimental': 0, 'hairless': 0, 'natural': 1, 'rare': 0, 'rex': 0, 'suppressed_tail': 0, 'short_legs': 0, 'wikipedia_url': 'https://en.wikipedia.org/wiki/American_Shorthair', 'hypoallergenic': 0, 'reference_image_id': 'JFPROfGtQ', 'image': {'id': 'JFPROfGtQ', 'width': 1600, 'height': 1200, 'url': 'https://cdn2.thecatapi.com/images/JFPROfGtQ.jpg'}}, {'weight': {'imperial': '8 - 15', 'metric': '4 - 7'}, 'id': 'awir', 'name': 'American Wirehair', 'cfa_url': 'http://cfa.org/Breeds/BreedsAB/AmericanWirehair.aspx', 'vetstreet_url': 'http://www.vetstreet.com/cats/american-wirehair', 'temperament': 'Affectionate, Curious, Gentle, Intelligent, Interactive, Lively, Loyal, Playful, Sensible, Social', 'origin': 'United States', 'country_codes': 'US', 'country_code': 'US', 'description': 'The American Wirehair tends to be a calm and tolerant cat who takes life as it comes. His favorite hobby is bird-watching from a sunny windowsill, and his hunting ability will stand you in good stead if insects enter the house.', 'life_span': '14 - 18', 'indoor': 0, 'lap': 1, 'alt_names': '', 'adaptability': 5, 'affection_level': 5, 'child_friendly': 4, 'dog_friendly': 5, 'energy_level': 3, 'grooming': 1, 'health_issues': 3, 'intelligence': 3, 'shedding_level': 1, 'social_needs': 3, 'stranger_friendly': 3, 'vocalisation': 3, 'experimental': 0, 'hairless': 0, 'natural': 0, 'rare': 0, 'rex': 0, 'suppressed_tail': 0, 'short_legs': 0, 'wikipedia_url': 'https://en.wikipedia.org/wiki/American_Wirehair', 'hypoallergenic': 0, 'reference_image_id': '8D--jCd21', 'image': {'id': '8D--jCd21', 'width': 1280, 'height': 936, 'url': 'https://cdn2.thecatapi.com/images/8D--jCd21.jpg'}}, {'weight': {'imperial': '8 - 16', 'metric': '4 - 7'}, 'id': 'amau', 'name': 'Arabian Mau', 'vcahospitals_url': '', 'temperament': 'Affectionate, Agile, Curious, Independent, Playful, Loyal', 'origin': 'United Arab Emirates', 'country_codes': 'AE', 'country_code': 'AE', 'description': 'Arabian Mau cats are social and energetic. Due to their energy levels, these cats do best in homes where their owners will be able to provide them with plenty of playtime, attention and interaction from their owners. These kitties are friendly, intelligent, and adaptable, and will even get along well with other pets and children.', 'life_span': '12 - 14', 'indoor': 0, 'alt_names': 'Alley cat', 'adaptability': 5, 'affection_level': 5, 'child_friendly': 4, 'dog_friendly': 5, 'energy_level': 4, 'grooming': 1, 'health_issues': 1, 'intelligence': 3, 'shedding_level': 1, 'social_needs': 3, 'stranger_friendly': 3, 'vocalisation': 1, 'experimental': 0, 'hairless': 0, 'natural': 1, 'rare': 0, 'rex': 0, 'suppressed_tail': 0, 'short_legs': 0, 'wikipedia_url': 'https://en.wikipedia.org/wiki/Arabian_Mau', 'hypoallergenic': 0, 'reference_image_id': 'k71ULYfRr', 'image': {'id': 'k71ULYfRr', 'width': 2048, 'height': 1554, 'url': 'https://cdn2.thecatapi.com/images/k71ULYfRr.jpg'}}, {'weight': {'imperial': '7 - 15', 'metric': '3 - 7'}, 'id': 'amis', 'name': 'Australian Mist', 'temperament': 'Lively, Social, Fun-loving, Relaxed, Affectionate', 'origin': 'Australia', 'country_codes': 'AU', 'country_code': 'AU', 'description': 'The Australian Mist thrives on human companionship. Tolerant of even the youngest of children, these friendly felines enjoy playing games and being part of the hustle and bustle of a busy household. They make entertaining companions for people of all ages, and are happy to remain indoors between dusk and dawn or to be wholly indoor pets.', 'life_span': '12 - 16', 'indoor': 0, 'lap': 1, 'alt_names': 'Spotted Mist', 'adaptability': 5, 'affection_level': 5, 'child_friendly': 4, 'dog_friendly': 5, 'energy_level': 4, 'grooming': 3, 'health_issues': 1, 'intelligence': 4, 'shedding_level': 3, 'social_needs': 4, 'stranger_friendly': 4, 'vocalisation': 3, 'experimental': 0, 'hairless': 0, 'natural': 0, 'rare': 0, 'rex': 0, 'suppressed_tail': 0, 'short_legs': 0, 'wikipedia_url': 'https://en.wikipedia.org/wiki/Australian_Mist', 'hypoallergenic': 0, 'reference_image_id': '_6x-3TiCA', 'image': {'id': '_6x-3TiCA', 'width': 1231, 'height': 1165, 'url': 'https://cdn2.thecatapi.com/images/_6x-3TiCA.jpg'}}, {'weight': {'imperial': '4 - 10', 'metric': '2 - 5'}, 'id': 'bali', 'name': 'Balinese', 'cfa_url': 'http://cfa.org/Breeds/BreedsAB/Balinese.aspx', 'vetstreet_url': 'http://www.vetstreet.com/cats/balinese', 'vcahospitals_url': 'https://vcahospitals.com/know-your-pet/cat-breeds/balinese', 'temperament': 'Affectionate, Intelligent, Playful', 'origin': 'United States', 'country_codes': 'US', 'country_code': 'US', 'description': 'Balinese are curious, outgoing, intelligent cats with excellent communication skills. They are known for their chatty personalities and are always eager to tell you their views on life, love, and what you’ve served them for dinner. ', 'life_span': '10 - 15', 'indoor': 0, 'alt_names': 'Long-haired Siamese', 'adaptability': 5, 'affection_level': 5, 'child_friendly': 4, 'dog_friendly': 5, 'energy_level': 5, 'grooming': 3, 'health_issues': 3, 'intelligence': 5, 'shedding_level': 3, 'social_needs': 5, 'stranger_friendly': 5, 'vocalisation': 5, 'experimental': 0, 'hairless': 0, 'natural': 0, 'rare': 0, 'rex': 0, 'suppressed_tail': 0, 'short_legs': 0, 'wikipedia_url': 'https://en.wikipedia.org/wiki/Balinese_(cat)', 'hypoallergenic': 1, 'reference_image_id': '13MkvUreZ', 'image': {'id': '13MkvUreZ', 'width': 1600, 'height': 1000, 'url': 'https://cdn2.thecatapi.com/images/13MkvUreZ.jpg'}}, {'weight': {'imperial': '4 - 9', 'metric': '2 - 4'}, 'id': 'bamb', 'name': 'Bambino', 'temperament': 'Affectionate, Lively, Friendly, Intelligent', 'origin': 'United States', 'country_codes': 'US', 'country_code': 'US', 'description': 'The Bambino is a breed of cat that was created as a cross between the Sphynx and the Munchkin breeds. The Bambino cat has short legs, large upright ears, and is usually hairless. They love to be handled and cuddled up on the laps of their family members.', 'life_span': '12 - 14', 'indoor': 0, 'lap': 1, 'alt_names': '', 'adaptability': 5, 'affection_level': 5, 'child_friendly': 4, 'dog_friendly': 5, 'energy_level': 5, 'grooming': 1, 'health_issues': 1, 'intelligence': 5, 'shedding_level': 1, 'social_needs': 3, 'stranger_friendly': 3, 'vocalisation': 3, 'experimental': 1, 'hairless': 1, 'natural': 0, 'rare': 0, 'rex': 0, 'suppressed_tail': 0, 'short_legs': 1, 'wikipedia_url': 'https://en.wikipedia.org/wiki/Bambino_cat', 'hypoallergenic': 0, 'reference_image_id': '5AdhMjeEu', 'image': {'id': '5AdhMjeEu', 'width': 1296, 'height': 1030, 'url': 'https://cdn2.thecatapi.com/images/5AdhMjeEu.jpg'}}, {'weight': {'imperial': '6 - 12', 'metric': '3 - 7'}, 'id': 'beng', 'name': 'Bengal', 'cfa_url': 'http://cfa.org/Breeds/BreedsAB/Bengal.aspx', 'vetstreet_url': 'http://www.vetstreet.com/cats/bengal', 'vcahospitals_url': 'https://vcahospitals.com/know-your-pet/cat-breeds/bengal', 'temperament': 'Alert, Agile, Energetic, Demanding, Intelligent', 'origin': 'United States', 'country_codes': 'US', 'country_code': 'US', 'description': \"Bengals are a lot of fun to live with, but they're definitely not the cat for everyone, or for first-time cat owners. Extremely intelligent, curious and active, they demand a lot of interaction and woe betide the owner who doesn't provide it.\", 'life_span': '12 - 15', 'indoor': 0, 'lap': 0, 'adaptability': 5, 'affection_level': 5, 'child_friendly': 4, 'cat_friendly': 4, 'dog_friendly': 5, 'energy_level': 5, 'grooming': 1, 'health_issues': 3, 'intelligence': 5, 'shedding_level': 3, 'social_needs': 5, 'stranger_friendly': 3, 'vocalisation': 5, 'bidability': 3, 'experimental': 0, 'hairless': 0, 'natural': 0, 'rare': 0, 'rex': 0, 'suppressed_tail': 0, 'short_legs': 0, 'wikipedia_url': 'https://en.wikipedia.org/wiki/Bengal_(cat)', 'hypoallergenic': 1, 'reference_image_id': 'O3btzLlsO', 'image': {'id': 'O3btzLlsO', 'width': 1100, 'height': 739, 'url': 'https://cdn2.thecatapi.com/images/O3btzLlsO.png'}}, {'weight': {'imperial': '6 - 15', 'metric': '3 - 7'}, 'id': 'birm', 'name': 'Birman', 'cfa_url': 'http://cfa.org/Breeds/BreedsAB/Birman.aspx', 'vetstreet_url': 'http://www.vetstreet.com/cats/birman', 'vcahospitals_url': 'https://vcahospitals.com/know-your-pet/cat-breeds/birman', 'temperament': 'Affectionate, Active, Gentle, Social', 'origin': 'France', 'country_codes': 'FR', 'country_code': 'FR', 'description': 'The Birman is a docile, quiet cat who loves people and will follow them from room to room. Expect the Birman to want to be involved in what you’re doing. He communicates in a soft voice, mainly to remind you that perhaps it’s time for dinner or maybe for a nice cuddle on the sofa. He enjoys being held and will relax in your arms like a furry baby.', 'life_span': '14 - 15', 'indoor': 0, 'lap': 1, 'alt_names': 'Sacred Birman, Sacred Cat Of Burma', 'adaptability': 5, 'affection_level': 5, 'child_friendly': 4, 'dog_friendly': 5, 'energy_level': 3, 'grooming': 2, 'health_issues': 1, 'intelligence': 3, 'shedding_level': 3, 'social_needs': 4, 'stranger_friendly': 3, 'vocalisation': 1, 'experimental': 0, 'hairless': 0, 'natural': 0, 'rare': 0, 'rex': 0, 'suppressed_tail': 0, 'short_legs': 0, 'wikipedia_url': 'https://en.wikipedia.org/wiki/Birman', 'hypoallergenic': 0, 'reference_image_id': 'HOrX5gwLS', 'image': {'id': 'HOrX5gwLS', 'width': 1376, 'height': 814, 'url': 'https://cdn2.thecatapi.com/images/HOrX5gwLS.jpg'}}, {'weight': {'imperial': '6 - 11', 'metric': '3 - 5'}, 'id': 'bomb', 'name': 'Bombay', 'cfa_url': 'http://cfa.org/Breeds/BreedsAB/Bombay.aspx', 'vetstreet_url': 'http://www.vetstreet.com/cats/bombay', 'vcahospitals_url': 'https://vcahospitals.com/know-your-pet/cat-breeds/bombay', 'temperament': 'Affectionate, Dependent, Gentle, Intelligent, Playful', 'origin': 'United States', 'country_codes': 'US', 'country_code': 'US', 'description': \"The the golden eyes and the shiny black coa of the Bopmbay is absolutely striking. Likely to bond most with one family member, the Bombay will follow you from room to room and will almost always have something to say about what you are doing, loving attention and to be carried around, often on his caregiver's shoulder.\", 'life_span': '12 - 16', 'indoor': 0, 'lap': 1, 'alt_names': 'Small black Panther', 'adaptability': 5, 'affection_level': 5, 'child_friendly': 4, 'dog_friendly': 5, 'energy_level': 3, 'grooming': 1, 'health_issues': 3, 'intelligence': 5, 'shedding_level': 3, 'social_needs': 4, 'stranger_friendly': 4, 'vocalisation': 5, 'experimental': 0, 'hairless': 0, 'natural': 0, 'rare': 0, 'rex': 0, 'suppressed_tail': 0, 'short_legs': 0, 'wikipedia_url': 'https://en.wikipedia.org/wiki/Bombay_(cat)', 'hypoallergenic': 0, 'reference_image_id': '5iYq9NmT1', 'image': {'id': '5iYq9NmT1', 'width': 1250, 'height': 650, 'url': 'https://cdn2.thecatapi.com/images/5iYq9NmT1.jpg'}}, {'weight': {'imperial': '8 - 18', 'metric': '4 - 8'}, 'id': 'bslo', 'name': 'British Longhair', 'temperament': 'Affectionate, Easy Going, Independent, Intelligent, Loyal, Social', 'origin': 'United Kingdom', 'country_codes': 'GB', 'country_code': 'GB', 'description': 'The British Longhair is a very laid-back relaxed cat, often perceived to be very independent although they will enjoy the company of an equally relaxed and likeminded cat. They are an affectionate breed, but very much on their own terms and tend to prefer to choose to come and sit with their owners rather than being picked up.', 'life_span': '12 - 14', 'indoor': 0, 'alt_names': '', 'adaptability': 5, 'affection_level': 5, 'child_friendly': 4, 'dog_friendly': 5, 'energy_level': 4, 'grooming': 5, 'health_issues': 1, 'intelligence': 5, 'shedding_level': 1, 'social_needs': 3, 'stranger_friendly': 4, 'vocalisation': 1, 'experimental': 0, 'hairless': 0, 'natural': 0, 'rare': 0, 'rex': 0, 'suppressed_tail': 0, 'short_legs': 0, 'wikipedia_url': 'https://en.wikipedia.org/wiki/British_Longhair', 'hypoallergenic': 0, 'reference_image_id': '7isAO4Cav', 'image': {'id': '7isAO4Cav', 'width': 960, 'height': 960, 'url': 'https://cdn2.thecatapi.com/images/7isAO4Cav.jpg'}}, {'weight': {'imperial': '12 - 20', 'metric': '5 - 9'}, 'id': 'bsho', 'name': 'British Shorthair', 'cfa_url': 'http://cfa.org/Breeds/BreedsAB/BritishShorthair.aspx', 'vetstreet_url': 'http://www.vetstreet.com/cats/british-shorthair', 'vcahospitals_url': 'https://vcahospitals.com/know-your-pet/cat-breeds/british-shorthair', 'temperament': 'Affectionate, Easy Going, Gentle, Loyal, Patient, calm', 'origin': 'United Kingdom', 'country_codes': 'GB', 'country_code': 'GB', 'description': \"The British Shorthair is a very pleasant cat to have as a companion, ans is easy going and placid. The British is a fiercely loyal, loving cat and will attach herself to every one of her family members. While loving to play, she doesn't need hourly attention. If she is in the mood to play, she will find someone and bring a toy to that person. The British also plays well by herself, and thus is a good companion for single people.\", 'life_span': '12 - 17', 'indoor': 0, 'lap': 1, 'alt_names': 'Highlander, Highland Straight, Britannica', 'adaptability': 5, 'affection_level': 4, 'child_friendly': 4, 'dog_friendly': 5, 'energy_level': 2, 'grooming': 2, 'health_issues': 2, 'intelligence': 3, 'shedding_level': 4, 'social_needs': 3, 'stranger_friendly': 2, 'vocalisation': 1, 'experimental': 0, 'hairless': 0, 'natural': 1, 'rare': 0, 'rex': 0, 'suppressed_tail': 0, 'short_legs': 0, 'wikipedia_url': 'https://en.wikipedia.org/wiki/British_Shorthair', 'hypoallergenic': 0, 'reference_image_id': 's4wQfYoEk', 'image': {'id': 's4wQfYoEk', 'width': 1600, 'height': 1457, 'url': 'https://cdn2.thecatapi.com/images/s4wQfYoEk.jpg'}}, {'weight': {'imperial': '6 - 12', 'metric': '3 - 5'}, 'id': 'bure', 'name': 'Burmese', 'cfa_url': 'http://cfa.org/Breeds/BreedsAB/Burmese.aspx', 'vetstreet_url': 'http://www.vetstreet.com/cats/burmese', 'vcahospitals_url': 'https://vcahospitals.com/know-your-pet/cat-breeds/burmese', 'temperament': 'Curious, Intelligent, Gentle, Social, Interactive, Playful, Lively', 'origin': 'Burma', 'country_codes': 'MM', 'country_code': 'MM', 'description': 'Burmese love being with people, playing with them, and keeping them entertained. They crave close physical contact and abhor an empty lap. They will follow their humans from room to room, and sleep in bed with them, preferably under the covers, cuddled as close as possible. At play, they will turn around to see if their human is watching and being entertained by their crazy antics.', 'life_span': '15 - 16', 'indoor': 0, 'lap': 1, 'alt_names': '', 'adaptability': 5, 'affection_level': 5, 'child_friendly': 4, 'dog_friendly': 5, 'energy_level': 4, 'grooming': 1, 'health_issues': 3, 'intelligence': 5, 'shedding_level': 3, 'social_needs': 5, 'stranger_friendly': 5, 'vocalisation': 5, 'experimental': 0, 'hairless': 0, 'natural': 0, 'rare': 0, 'rex': 0, 'suppressed_tail': 0, 'short_legs': 0, 'wikipedia_url': 'https://en.wikipedia.org/wiki/Burmese_(cat)', 'hypoallergenic': 1, 'reference_image_id': '4lXnnfxac', 'image': {'id': '4lXnnfxac', 'width': 1250, 'height': 650, 'url': 'https://cdn2.thecatapi.com/images/4lXnnfxac.jpg'}}, {'weight': {'imperial': '6 - 13', 'metric': '3 - 6'}, 'id': 'buri', 'name': 'Burmilla', 'cfa_url': 'http://cfa.org/Breeds/BreedsAB/Burmilla.aspx', 'vetstreet_url': 'http://www.vetstreet.com/cats/burmilla', 'temperament': 'Easy Going, Friendly, Intelligent, Lively, Playful, Social', 'origin': 'United Kingdom', 'country_codes': 'GB', 'country_code': 'GB', 'description': 'The Burmilla is a fairly placid cat. She tends to be an easy cat to get along with, requiring minimal care. The Burmilla is affectionate and sweet and makes a good companion, the Burmilla is an ideal companion to while away a lonely evening. Loyal, devoted, and affectionate, this cat will stay by its owner, always keeping them company.', 'life_span': '10 - 15', 'indoor': 0, 'lap': 1, 'alt_names': '', 'adaptability': 5, 'affection_level': 5, 'child_friendly': 4, 'dog_friendly': 4, 'energy_level': 3, 'grooming': 3, 'health_issues': 3, 'intelligence': 3, 'shedding_level': 3, 'social_needs': 4, 'stranger_friendly': 3, 'vocalisation': 5, 'experimental': 0, 'hairless': 0, 'natural': 0, 'rare': 0, 'rex': 0, 'suppressed_tail': 0, 'short_legs': 0, 'wikipedia_url': 'https://en.wikipedia.org/wiki/Burmilla', 'hypoallergenic': 0, 'reference_image_id': 'jvg3XfEdC', 'image': {'id': 'jvg3XfEdC', 'width': 960, 'height': 960, 'url': 'https://cdn2.thecatapi.com/images/jvg3XfEdC.jpg'}}, {'weight': {'imperial': '10 - 15', 'metric': '5 - 7'}, 'id': 'cspa', 'name': 'California Spangled', 'temperament': 'Affectionate, Curious, Intelligent, Loyal, Social', 'origin': 'United States', 'country_codes': 'US', 'country_code': 'US', 'description': 'Perhaps the only thing about the California spangled cat that isn’t wild-like is its personality. Known to be affectionate, gentle and sociable, this breed enjoys spending a great deal of time with its owners. They are very playful, often choosing to perch in high locations and show off their acrobatic skills.', 'life_span': '10 - 14', 'indoor': 0, 'alt_names': 'Spangle', 'adaptability': 5, 'affection_level': 5, 'child_friendly': 4, 'dog_friendly': 5, 'energy_level': 5, 'grooming': 1, 'health_issues': 1, 'intelligence': 5, 'shedding_level': 1, 'social_needs': 3, 'stranger_friendly': 4, 'vocalisation': 1, 'experimental': 0, 'hairless': 0, 'natural': 0, 'rare': 0, 'rex': 0, 'suppressed_tail': 0, 'short_legs': 0, 'wikipedia_url': 'https://en.wikipedia.org/wiki/California_Spangled', 'hypoallergenic': 0, 'reference_image_id': 'B1ERTmgph', 'image': {'id': 'B1ERTmgph', 'width': 1200, 'height': 688, 'url': 'https://cdn2.thecatapi.com/images/B1ERTmgph.jpg'}}, {'weight': {'imperial': '7 - 12', 'metric': '3 - 5'}, 'id': 'ctif', 'name': 'Chantilly-Tiffany', 'temperament': 'Affectionate, Demanding, Interactive, Loyal', 'origin': 'United States', 'country_codes': 'US', 'country_code': 'US', 'description': 'The Chantilly is a devoted companion and prefers company to being left alone. While the Chantilly is not demanding, she will \"chirp\" and \"talk\" as if having a conversation. This breed is affectionate, with a sweet temperament. It can stay still for extended periods, happily lounging in the lap of its loved one. This quality makes the Tiffany an ideal traveling companion, and an ideal house companion for senior citizens and the physically handicapped.', 'life_span': '14 - 16', 'indoor': 0, 'lap': 1, 'alt_names': 'Chantilly, Foreign Longhair', 'adaptability': 5, 'affection_level': 5, 'child_friendly': 4, 'dog_friendly': 5, 'energy_level': 4, 'grooming': 5, 'health_issues': 1, 'intelligence': 5, 'shedding_level': 5, 'social_needs': 3, 'stranger_friendly': 4, 'vocalisation': 5, 'experimental': 0, 'hairless': 0, 'natural': 0, 'rare': 0, 'rex': 0, 'suppressed_tail': 0, 'short_legs': 0, 'wikipedia_url': 'https://en.wikipedia.org/wiki/Chantilly-Tiffany', 'hypoallergenic': 0, 'reference_image_id': 'TR-5nAd_S', 'image': {'id': 'TR-5nAd_S', 'width': 2901, 'height': 2938, 'url': 'https://cdn2.thecatapi.com/images/TR-5nAd_S.jpg'}}, {'weight': {'imperial': '6 - 15', 'metric': '3 - 7'}, 'id': 'char', 'name': 'Chartreux', 'cfa_url': 'http://cfa.org/Breeds/BreedsCJ/Chartreux.aspx', 'vetstreet_url': 'http://www.vetstreet.com/cats/chartreux', 'vcahospitals_url': 'https://vcahospitals.com/know-your-pet/cat-breeds/chartreux', 'temperament': 'Affectionate, Loyal, Intelligent, Social, Lively, Playful', 'origin': 'France', 'country_codes': 'FR', 'country_code': 'FR', 'description': 'The Chartreux is generally silent but communicative. Short play sessions, mixed with naps and meals are their perfect day. Whilst appreciating any attention you give them, they are not demanding, content instead to follow you around devotedly, sleep on your bed and snuggle with you if you’re not feeling well.', 'life_span': '12 - 15', 'indoor': 0, 'lap': 1, 'alt_names': '', 'adaptability': 5, 'affection_level': 5, 'child_friendly': 4, 'dog_friendly': 5, 'energy_level': 2, 'grooming': 1, 'health_issues': 2, 'intelligence': 4, 'shedding_level': 3, 'social_needs': 5, 'stranger_friendly': 5, 'vocalisation': 1, 'experimental': 0, 'hairless': 0, 'natural': 0, 'rare': 0, 'rex': 1, 'suppressed_tail': 0, 'short_legs': 0, 'wikipedia_url': 'https://en.wikipedia.org/wiki/Chartreux', 'hypoallergenic': 1, 'reference_image_id': 'j6oFGLpRG', 'image': {'id': 'j6oFGLpRG', 'width': 768, 'height': 1024, 'url': 'https://cdn2.thecatapi.com/images/j6oFGLpRG.jpg'}}, {'weight': {'imperial': '7 - 15', 'metric': '3 - 7'}, 'id': 'chau', 'name': 'Chausie', 'temperament': 'Affectionate, Intelligent, Playful, Social', 'origin': 'Egypt', 'country_codes': 'EG', 'country_code': 'EG', 'description': 'For those owners who desire a feline capable of evoking the great outdoors, the strikingly beautiful Chausie retains a bit of the wild in its appearance but has the house manners of our friendly, familiar moggies. Very playful, this cat needs a large amount of space to be able to fully embrace its hunting instincts.', 'life_span': '12 - 14', 'indoor': 0, 'alt_names': 'Nile Cat', 'adaptability': 5, 'affection_level': 5, 'child_friendly': 4, 'dog_friendly': 5, 'energy_level': 4, 'grooming': 3, 'health_issues': 1, 'intelligence': 5, 'shedding_level': 3, 'social_needs': 3, 'stranger_friendly': 4, 'vocalisation': 1, 'experimental': 1, 'hairless': 0, 'natural': 0, 'rare': 0, 'rex': 0, 'suppressed_tail': 0, 'short_legs': 0, 'wikipedia_url': 'https://en.wikipedia.org/wiki/Chausie', 'hypoallergenic': 0, 'reference_image_id': 'vJ3lEYgXr', 'image': {'id': 'vJ3lEYgXr', 'width': 1100, 'height': 786, 'url': 'https://cdn2.thecatapi.com/images/vJ3lEYgXr.jpg'}}, {'weight': {'imperial': '8 - 15', 'metric': '4 - 7'}, 'id': 'chee', 'name': 'Cheetoh', 'temperament': 'Affectionate, Gentle, Intelligent, Social', 'origin': 'United States', 'country_codes': 'US', 'country_code': 'US', 'description': 'The Cheetoh has a super affectionate nature and real love for their human companions; they are intelligent with the ability to learn quickly. You can expect that a Cheetoh will be a fun-loving kitty who enjoys playing, running, and jumping through every room in your house.', 'life_span': '12 - 14', 'indoor': 0, 'alt_names': '\\xa0', 'adaptability': 5, 'affection_level': 5, 'child_friendly': 4, 'dog_friendly': 5, 'energy_level': 4, 'grooming': 1, 'health_issues': 1, 'intelligence': 5, 'shedding_level': 1, 'social_needs': 3, 'stranger_friendly': 4, 'vocalisation': 5, 'experimental': 0, 'hairless': 0, 'natural': 0, 'rare': 0, 'rex': 0, 'suppressed_tail': 0, 'short_legs': 0, 'wikipedia_url': 'https://en.wikipedia.org/wiki/Bengal_cat#Cheetoh', 'hypoallergenic': 0, 'reference_image_id': 'IFXsxmXLm', 'image': {'id': 'IFXsxmXLm', 'width': 973, 'height': 973, 'url': 'https://cdn2.thecatapi.com/images/IFXsxmXLm.jpg'}}, {'weight': {'imperial': '4 - 10', 'metric': '2 - 5'}, 'id': 'csho', 'name': 'Colorpoint Shorthair', 'cfa_url': 'http://cfa.org/Breeds/BreedsCJ/ColorpointShorthair.aspx', 'vcahospitals_url': 'https://vcahospitals.com/know-your-pet/cat-breeds/colorpoint-shorthair', 'temperament': 'Affectionate, Intelligent, Playful, Social', 'origin': 'United States', 'country_codes': 'US', 'country_code': 'US', 'description': 'Colorpoint Shorthairs are an affectionate breed, devoted and loyal to their people. Sensitive to their owner’s moods, Colorpoints are more than happy to sit at your side or on your lap and purr words of encouragement on a bad day. They will constantly seek out your lap whenever it is open and in the moments when your lap is preoccupied they will stretch out in sunny spots on the ground.', 'life_span': '12 - 16', 'indoor': 0, 'lap': 1, 'alt_names': '', 'adaptability': 3, 'affection_level': 4, 'child_friendly': 4, 'cat_friendly': 3, 'dog_friendly': 4, 'energy_level': 4, 'grooming': 2, 'health_issues': 2, 'intelligence': 5, 'shedding_level': 3, 'social_needs': 4, 'stranger_friendly': 2, 'vocalisation': 5, 'bidability': 4, 'experimental': 0, 'hairless': 0, 'natural': 0, 'rare': 0, 'rex': 0, 'suppressed_tail': 0, 'short_legs': 0, 'wikipedia_url': 'https://en.wikipedia.org/wiki/Colorpoint_Shorthair', 'hypoallergenic': 0, 'reference_image_id': 'oSpqGyUDS', 'image': {'id': 'oSpqGyUDS', 'width': 1363, 'height': 1600, 'url': 'https://cdn2.thecatapi.com/images/oSpqGyUDS.jpg'}}, {'weight': {'imperial': '5 - 9', 'metric': '2 - 4'}, 'id': 'crex', 'name': 'Cornish Rex', 'cfa_url': 'http://cfa.org/Breeds/BreedsCJ/CornishRex.aspx', 'vetstreet_url': 'http://www.vetstreet.com/cats/cornish-rex', 'vcahospitals_url': 'https://vcahospitals.com/know-your-pet/cat-breeds/cornish-rex', 'temperament': 'Affectionate, Intelligent, Active, Curious, Playful', 'origin': 'United Kingdom', 'country_codes': 'GB', 'country_code': 'GB', 'description': 'This is a confident cat who loves people and will follow them around, waiting for any opportunity to sit in a lap or give a kiss. He enjoys being handled, making it easy to take him to the veterinarian or train him for therapy work. The Cornish Rex stay in kitten mode most of their lives and well into their senior years. ', 'life_span': '11 - 14', 'indoor': 0, 'lap': 1, 'alt_names': '', 'adaptability': 5, 'affection_level': 5, 'child_friendly': 4, 'cat_friendly': 2, 'dog_friendly': 5, 'energy_level': 5, 'grooming': 1, 'health_issues': 2, 'intelligence': 5, 'shedding_level': 1, 'social_needs': 5, 'stranger_friendly': 3, 'vocalisation': 1, 'experimental': 0, 'hairless': 0, 'natural': 0, 'rare': 0, 'rex': 1, 'suppressed_tail': 0, 'short_legs': 0, 'wikipedia_url': 'https://en.wikipedia.org/wiki/Cornish_Rex', 'hypoallergenic': 1, 'reference_image_id': 'unX21IBVB', 'image': {'id': 'unX21IBVB', 'width': 2976, 'height': 1784, 'url': 'https://cdn2.thecatapi.com/images/unX21IBVB.jpg'}}, {'weight': {'imperial': '8 - 13', 'metric': '4 - 6'}, 'id': 'cymr', 'name': 'Cymric', 'vetstreet_url': 'http://www.vetstreet.com/cats/cymric', 'temperament': 'Gentle, Loyal, Intelligent, Playful', 'origin': 'Canada', 'country_codes': 'CA', 'country_code': 'CA', 'description': 'The Cymric is a placid, sweet cat. They do not get too upset about anything that happens in their world. They are loving companions and adore people. They are smart and dexterous, capable of using his paws to get into cabinets or to open doors.', 'life_span': '8 - 14', 'indoor': 0, 'lap': 1, 'alt_names': 'Spangle', 'adaptability': 5, 'affection_level': 5, 'child_friendly': 4, 'dog_friendly': 5, 'energy_level': 5, 'grooming': 3, 'health_issues': 3, 'intelligence': 5, 'shedding_level': 5, 'social_needs': 5, 'stranger_friendly': 3, 'vocalisation': 3, 'experimental': 0, 'hairless': 0, 'natural': 0, 'rare': 0, 'rex': 0, 'suppressed_tail': 1, 'short_legs': 0, 'wikipedia_url': 'https://en.wikipedia.org/wiki/Cymric_(cat)', 'hypoallergenic': 0, 'reference_image_id': '3dbtapCWM', 'image': {'id': '3dbtapCWM', 'width': 1440, 'height': 900, 'url': 'https://cdn2.thecatapi.com/images/3dbtapCWM.jpg'}}, {'weight': {'imperial': '8 - 16', 'metric': '4 - 7'}, 'id': 'cypr', 'name': 'Cyprus', 'temperament': 'Affectionate, Social', 'origin': 'Cyprus', 'country_codes': 'CY', 'country_code': 'CY', 'description': 'Loving, loyal, social and inquisitive, the Cyprus cat forms strong ties with their families and love nothing more than to be involved in everything that goes on in their surroundings. They are not overly active by nature which makes them the perfect companion for people who would like to share their homes with a laid-back relaxed feline companion. ', 'life_span': '12 - 15', 'indoor': 0, 'lap': 1, 'alt_names': 'Cypriot cat', 'adaptability': 5, 'affection_level': 5, 'child_friendly': 4, 'dog_friendly': 5, 'energy_level': 4, 'grooming': 3, 'health_issues': 1, 'intelligence': 3, 'shedding_level': 3, 'social_needs': 3, 'stranger_friendly': 4, 'vocalisation': 3, 'experimental': 0, 'hairless': 0, 'natural': 1, 'rare': 0, 'rex': 0, 'suppressed_tail': 0, 'short_legs': 0, 'wikipedia_url': 'https://en.wikipedia.org/wiki/Cyprus_cat', 'hypoallergenic': 0, 'reference_image_id': 'tJbzb7FKo', 'image': {'id': 'tJbzb7FKo', 'width': 1024, 'height': 768, 'url': 'https://cdn2.thecatapi.com/images/tJbzb7FKo.jpg'}}, {'weight': {'imperial': '5 - 10', 'metric': '2 - 5'}, 'id': 'drex', 'name': 'Devon Rex', 'cfa_url': 'http://cfa.org/Breeds/BreedsCJ/DevonRex.aspx', 'vetstreet_url': 'http://www.vetstreet.com/cats/devon-rex', 'vcahospitals_url': 'https://vcahospitals.com/know-your-pet/cat-breeds/devon-rex', 'temperament': 'Highly interactive, Mischievous, Loyal, Social, Playful', 'origin': 'United Kingdom', 'country_codes': 'GB', 'country_code': 'GB', 'description': 'The favourite perch of the Devon Rex is right at head level, on the shoulder of her favorite person. She takes a lively interest in everything that is going on and refuses to be left out of any activity. Count on her to stay as close to you as possible, occasionally communicating his opinions in a quiet voice. She loves people and welcomes the attentions of friends and family alike.', 'life_span': '10 - 15', 'indoor': 0, 'lap': 1, 'alt_names': 'Pixie cat, Alien cat, Poodle cat', 'adaptability': 5, 'affection_level': 5, 'child_friendly': 4, 'dog_friendly': 5, 'energy_level': 5, 'grooming': 1, 'health_issues': 3, 'intelligence': 5, 'shedding_level': 1, 'social_needs': 5, 'stranger_friendly': 5, 'vocalisation': 1, 'experimental': 0, 'hairless': 0, 'natural': 0, 'rare': 0, 'rex': 1, 'suppressed_tail': 0, 'short_legs': 0, 'wikipedia_url': 'https://en.wikipedia.org/wiki/Devon_Rex', 'hypoallergenic': 1, 'reference_image_id': '4RzEwvyzz', 'image': {'id': '4RzEwvyzz', 'width': 1729, 'height': 1160, 'url': 'https://cdn2.thecatapi.com/images/4RzEwvyzz.png'}}, {'weight': {'imperial': '10 - 12', 'metric': '5 - 6'}, 'id': 'dons', 'name': 'Donskoy', 'temperament': 'Playful, affectionate, loyal, social', 'origin': 'Russia', 'country_codes': 'RU', 'country_code': 'RU', 'description': 'Donskoy are affectionate, intelligent, and easy-going. They demand lots of attention and interaction. The Donskoy also gets along well with other pets. It is now thought the same gene that causes degrees of hairlessness in the Donskoy also causes alterations in cat personality, making them calmer the less hair they have.', 'life_span': '12 - 15', 'indoor': 0, 'adaptability': 4, 'affection_level': 4, 'child_friendly': 3, 'cat_friendly': 3, 'dog_friendly': 3, 'energy_level': 4, 'grooming': 2, 'health_issues': 3, 'intelligence': 3, 'shedding_level': 1, 'social_needs': 5, 'stranger_friendly': 5, 'vocalisation': 2, 'experimental': 0, 'hairless': 1, 'natural': 0, 'rare': 1, 'rex': 0, 'suppressed_tail': 0, 'short_legs': 0, 'wikipedia_url': 'https://en.wikipedia.org/wiki/Donskoy_(cat)', 'hypoallergenic': 0, 'reference_image_id': '3KG57GfMW', 'image': {'id': '3KG57GfMW', 'width': 750, 'height': 750, 'url': 'https://cdn2.thecatapi.com/images/3KG57GfMW.jpg'}}, {'weight': {'imperial': '9 - 12', 'metric': '4 - 6'}, 'id': 'lihu', 'name': 'Dragon Li', 'vetstreet_url': 'http://www.vetstreet.com/cats/li-hua', 'temperament': 'Intelligent, Friendly, Gentle, Loving, Loyal', 'origin': 'China', 'country_codes': 'CN', 'country_code': 'CN', 'description': \"The Dragon Li is loyal, but not particularly affectionate. They are known to be very intelligent, and their natural breed status means that they're very active. She is is gentle with people, and has a reputation as a talented hunter of rats and other vermin.\", 'life_span': '12 - 15', 'indoor': 1, 'alt_names': 'Chinese Lia Hua, Lí hua māo (貍花貓), Li Hua', 'adaptability': 3, 'affection_level': 3, 'child_friendly': 3, 'cat_friendly': 3, 'dog_friendly': 3, 'energy_level': 3, 'grooming': 1, 'health_issues': 1, 'intelligence': 3, 'shedding_level': 3, 'social_needs': 4, 'stranger_friendly': 3, 'vocalisation': 3, 'experimental': 0, 'hairless': 0, 'natural': 1, 'rare': 0, 'rex': 0, 'suppressed_tail': 0, 'short_legs': 0, 'wikipedia_url': 'https://en.wikipedia.org/wiki/Dragon_Li', 'hypoallergenic': 0, 'reference_image_id': 'BQMSld0A0', 'image': {'id': 'BQMSld0A0', 'width': 1080, 'height': 1080, 'url': 'https://cdn2.thecatapi.com/images/BQMSld0A0.jpg'}}, {'weight': {'imperial': '6 - 14', 'metric': '3 - 6'}, 'id': 'emau', 'name': 'Egyptian Mau', 'cfa_url': 'http://cfa.org/Breeds/BreedsCJ/EgyptianMau.aspx', 'vetstreet_url': 'http://www.vetstreet.com/cats/egyptian-mau', 'vcahospitals_url': 'https://vcahospitals.com/know-your-pet/cat-breeds/egyptian-mau', 'temperament': 'Agile, Dependent, Gentle, Intelligent, Lively, Loyal, Playful', 'origin': 'Egypt', 'country_codes': 'EG', 'country_code': 'EG', 'description': 'The Egyptian Mau is gentle and reserved. She loves her people and desires attention and affection from them but is wary of others. Early, continuing socialization is essential with this sensitive and sometimes shy cat, especially if you plan to show or travel with her. Otherwise, she can be easily startled by unexpected noises or events.', 'life_span': '18 - 20', 'indoor': 0, 'lap': 1, 'alt_names': 'Pharaoh Cat', 'adaptability': 2, 'affection_level': 5, 'child_friendly': 3, 'dog_friendly': 3, 'energy_level': 5, 'grooming': 1, 'health_issues': 3, 'intelligence': 4, 'shedding_level': 3, 'social_needs': 4, 'stranger_friendly': 2, 'vocalisation': 3, 'experimental': 0, 'hairless': 0, 'natural': 1, 'rare': 0, 'rex': 0, 'suppressed_tail': 0, 'short_legs': 0, 'wikipedia_url': 'https://en.wikipedia.org/wiki/Egyptian_Mau', 'hypoallergenic': 0, 'reference_image_id': 'TuSyTkt2n', 'image': {'id': 'TuSyTkt2n', 'width': 2475, 'height': 2147, 'url': 'https://cdn2.thecatapi.com/images/TuSyTkt2n.jpg'}}, {'weight': {'imperial': '7 - 14', 'metric': '3 - 6'}, 'id': 'ebur', 'name': 'European Burmese', 'cfa_url': 'http://cfa.org/Breeds/BreedsCJ/EuropeanBurmese.aspx', 'temperament': 'Sweet, Affectionate, Loyal', 'origin': 'Burma', 'country_codes': 'MM', 'country_code': 'MM', 'description': 'The European Burmese is a very affectionate, intelligent, and loyal cat. They thrive on companionship and will want to be with you, participating in everything you do. While they might pick a favorite family member, chances are that they will interact with everyone in the home, as well as any visitors that come to call. They are inquisitive and playful, even as adults. ', 'life_span': '10 - 15', 'indoor': 0, 'lap': 1, 'alt_names': '', 'adaptability': 5, 'affection_level': 5, 'child_friendly': 4, 'cat_friendly': 4, 'dog_friendly': 4, 'energy_level': 4, 'grooming': 1, 'health_issues': 4, 'intelligence': 5, 'shedding_level': 3, 'social_needs': 5, 'stranger_friendly': 5, 'vocalisation': 4, 'experimental': 0, 'hairless': 0, 'natural': 0, 'rare': 0, 'rex': 0, 'suppressed_tail': 0, 'short_legs': 0, 'hypoallergenic': 0}, {'weight': {'imperial': '7 - 14', 'metric': '3 - 6'}, 'id': 'esho', 'name': 'Exotic Shorthair', 'cfa_url': 'http://cfa.org/Breeds/BreedsCJ/Exotic.aspx', 'vetstreet_url': 'http://www.vetstreet.com/cats/exotic-shorthair', 'vcahospitals_url': 'https://vcahospitals.com/know-your-pet/cat-breeds/exotic-shorthair', 'temperament': 'Affectionate, Sweet, Loyal, Quiet, Peaceful', 'origin': 'United States', 'country_codes': 'US', 'country_code': 'US', 'description': 'The Exotic Shorthair is a gentle friendly cat that has the same personality as the Persian. They love having fun, don’t mind the company of other cats and dogs, also love to curl up for a sleep in a safe place. Exotics love their own people, but around strangers they are cautious at first. Given time, they usually warm up to visitors.', 'life_span': '12 - 15', 'indoor': 0, 'lap': 1, 'alt_names': 'Exotic', 'adaptability': 5, 'affection_level': 5, 'child_friendly': 3, 'dog_friendly': 3, 'energy_level': 3, 'grooming': 2, 'health_issues': 3, 'intelligence': 3, 'shedding_level': 2, 'social_needs': 4, 'stranger_friendly': 2, 'vocalisation': 1, 'experimental': 0, 'hairless': 0, 'natural': 0, 'rare': 0, 'rex': 0, 'suppressed_tail': 0, 'short_legs': 0, 'wikipedia_url': 'https://en.wikipedia.org/wiki/Exotic_Shorthair', 'hypoallergenic': 0, 'reference_image_id': 'YnPrYEmfe', 'image': {'id': 'YnPrYEmfe', 'width': 1024, 'height': 768, 'url': 'https://cdn2.thecatapi.com/images/YnPrYEmfe.jpg'}}, {'weight': {'imperial': '6 - 10', 'metric': '3 - 5'}, 'id': 'hbro', 'name': 'Havana Brown', 'cfa_url': 'http://cfa.org/Breeds/BreedsCJ/HavanaBrown.aspx', 'vetstreet_url': 'http://www.vetstreet.com/cats/havana-brown', 'vcahospitals_url': 'https://vcahospitals.com/know-your-pet/cat-breeds/havana-brown', 'temperament': 'Affectionate, Curious, Demanding, Friendly, Intelligent, Playful', 'origin': 'United Kingdom', 'country_codes': 'GB', 'country_code': 'GB', 'description': 'The Havana Brown is human oriented, playful, and curious. She has a strong desire to spend time with her people and involve herself in everything they do. Being naturally inquisitive, the Havana Brown reaches out with a paw to touch and feel when investigating curiosities in its environment. They are truly sensitive by nature and frequently gently touch their human companions as if they are extending a paw of friendship.', 'life_span': '10 - 15', 'indoor': 0, 'lap': 1, 'alt_names': 'Havana, HB', 'adaptability': 5, 'affection_level': 5, 'child_friendly': 4, 'dog_friendly': 5, 'energy_level': 3, 'grooming': 1, 'health_issues': 1, 'intelligence': 5, 'shedding_level': 3, 'social_needs': 5, 'stranger_friendly': 3, 'vocalisation': 1, 'experimental': 0, 'hairless': 0, 'natural': 0, 'rare': 0, 'rex': 0, 'suppressed_tail': 0, 'short_legs': 0, 'wikipedia_url': 'https://en.wikipedia.org/wiki/Havana_Brown', 'hypoallergenic': 0, 'reference_image_id': 'njK25knLH', 'image': {'id': 'njK25knLH', 'width': 1024, 'height': 823, 'url': 'https://cdn2.thecatapi.com/images/njK25knLH.jpg'}}, {'weight': {'imperial': '7 - 14', 'metric': '3 - 6'}, 'id': 'hima', 'name': 'Himalayan', 'vetstreet_url': 'http://www.vetstreet.com/cats/himalayan', 'vcahospitals_url': 'https://vcahospitals.com/know-your-pet/cat-breeds/himalayan', 'temperament': 'Dependent, Gentle, Intelligent, Quiet, Social', 'origin': 'United States', 'country_codes': 'US', 'country_code': 'US', 'description': 'Calm and devoted, Himalayans make excellent companions, though they prefer a quieter home. They are playful in a sedate kind of way and enjoy having an assortment of toys. The Himalayan will stretch out next to you, sleep in your bed and even sit on your lap when she is in the mood.', 'life_span': '9 - 15', 'indoor': 0, 'lap': 1, 'alt_names': 'Himalayan Persian, Colourpoint Persian, Longhaired Colourpoint, Himmy', 'adaptability': 5, 'affection_level': 5, 'child_friendly': 2, 'dog_friendly': 2, 'energy_level': 1, 'grooming': 5, 'health_issues': 3, 'intelligence': 3, 'shedding_level': 4, 'social_needs': 4, 'stranger_friendly': 2, 'vocalisation': 1, 'experimental': 0, 'hairless': 0, 'natural': 0, 'rare': 0, 'rex': 0, 'suppressed_tail': 0, 'short_legs': 0, 'wikipedia_url': 'https://en.wikipedia.org/wiki/Himalayan_(cat)', 'hypoallergenic': 0, 'reference_image_id': 'CDhOtM-Ig', 'image': {'id': 'CDhOtM-Ig', 'width': 1200, 'height': 961, 'url': 'https://cdn2.thecatapi.com/images/CDhOtM-Ig.jpg'}}, {'weight': {'imperial': '5 - 10', 'metric': '2 - 5'}, 'id': 'jbob', 'name': 'Japanese Bobtail', 'cfa_url': 'http://cfa.org/Breeds/BreedsCJ/JapaneseBobtail.aspx', 'vetstreet_url': 'http://www.vetstreet.com/cats/japanese-bobtail', 'vcahospitals_url': 'https://vcahospitals.com/know-your-pet/cat-breeds/japanese-bobtail', 'temperament': 'Active, Agile, Clever, Easy Going, Intelligent, Lively, Loyal, Playful, Social', 'origin': 'Japan', 'country_codes': 'JP', 'country_code': 'JP', 'description': 'The Japanese Bobtail is an active, sweet, loving and highly intelligent breed. They love to be with people and play seemingly endlessly. They learn their name and respond to it. They bring toys to people and play fetch with a favorite toy for hours. Bobtails are social and are at their best when in the company of people. They take over the house and are not intimidated. If a dog is in the house, Bobtails assume Bobtails are in charge.', 'life_span': '14 - 16', 'indoor': 0, 'lap': 1, 'alt_names': 'Japanese Truncated Cat', 'adaptability': 5, 'affection_level': 5, 'child_friendly': 4, 'dog_friendly': 5, 'energy_level': 5, 'grooming': 1, 'health_issues': 1, 'intelligence': 5, 'shedding_level': 3, 'social_needs': 5, 'stranger_friendly': 5, 'vocalisation': 5, 'experimental': 0, 'hairless': 0, 'natural': 1, 'rare': 0, 'rex': 0, 'suppressed_tail': 1, 'short_legs': 0, 'wikipedia_url': 'https://en.wikipedia.org/wiki/Japanese_Bobtail', 'hypoallergenic': 0, 'reference_image_id': '-tm9-znzl', 'image': {'id': '-tm9-znzl', 'width': 1125, 'height': 750, 'url': 'https://cdn2.thecatapi.com/images/-tm9-znzl.jpg'}}, {'weight': {'imperial': '5 - 10', 'metric': '2 - 5'}, 'id': 'java', 'name': 'Javanese', 'vetstreet_url': 'http://www.vetstreet.com/cats/javanese', 'vcahospitals_url': 'https://vcahospitals.com/know-your-pet/cat-breeds/javanese', 'temperament': 'Active, Devoted, Intelligent, Playful', 'origin': 'United States', 'country_codes': 'US', 'country_code': 'US', 'description': 'Javanese are endlessly interested, intelligent and active. They tend to enjoy jumping to great heights, playing with fishing pole-type or other interactive toys and just generally investigating their surroundings. He will attempt to copy things you do, such as opening doors or drawers.', 'life_span': '10 - 12', 'indoor': 0, 'alt_names': '\\xa0', 'adaptability': 4, 'affection_level': 5, 'child_friendly': 4, 'dog_friendly': 4, 'energy_level': 5, 'grooming': 1, 'health_issues': 3, 'intelligence': 5, 'shedding_level': 2, 'social_needs': 5, 'stranger_friendly': 3, 'vocalisation': 5, 'experimental': 0, 'hairless': 0, 'natural': 0, 'rare': 0, 'rex': 0, 'suppressed_tail': 0, 'short_legs': 0, 'wikipedia_url': 'https://en.wikipedia.org/wiki/Javanese_cat', 'hypoallergenic': 1, 'reference_image_id': 'xoI_EpOKe', 'image': {'id': 'xoI_EpOKe', 'width': 1232, 'height': 1287, 'url': 'https://cdn2.thecatapi.com/images/xoI_EpOKe.jpg'}}, {'weight': {'imperial': '8 - 12', 'metric': '4 - 6'}, 'id': 'khao', 'name': 'Khao Manee', 'cfa_url': 'http://cfa.org/Breeds/BreedsKthruR/KhaoManee.aspx', 'temperament': 'Calm, Relaxed, Talkative, Playful, Warm', 'origin': 'Thailand', 'country_codes': 'TH', 'country_code': 'TH', 'description': 'The Khao Manee is highly intelligent, with an extrovert and inquisitive nature, however they are also very calm and relaxed, making them an idea lap cat.', 'life_span': '10 - 12', 'indoor': 0, 'lap': 1, 'alt_names': 'Diamond Eye cat', 'adaptability': 4, 'affection_level': 4, 'child_friendly': 3, 'cat_friendly': 3, 'dog_friendly': 3, 'energy_level': 3, 'grooming': 3, 'health_issues': 1, 'intelligence': 4, 'shedding_level': 3, 'social_needs': 3, 'stranger_friendly': 3, 'vocalisation': 5, 'experimental': 0, 'hairless': 0, 'natural': 0, 'rare': 0, 'rex': 0, 'suppressed_tail': 0, 'short_legs': 0, 'wikipedia_url': 'https://en.wikipedia.org/wiki/Khao_Manee', 'hypoallergenic': 0, 'reference_image_id': '165ok6ESN', 'image': {'id': '165ok6ESN', 'width': 1555, 'height': 1037, 'url': 'https://cdn2.thecatapi.com/images/165ok6ESN.jpg'}}, {'weight': {'imperial': '7 - 11', 'metric': '3 - 5'}, 'id': 'kora', 'name': 'Korat', 'cfa_url': 'http://cfa.org/Breeds/BreedsKthruR/Korat.aspx', 'vetstreet_url': 'http://www.vetstreet.com/cats/korat', 'vcahospitals_url': 'https://vcahospitals.com/know-your-pet/cat-breeds/korat', 'temperament': 'Active, Loyal, highly intelligent, Expressive, Trainable', 'origin': 'Thailand', 'country_codes': 'TH', 'country_code': 'TH', 'description': 'The Korat is a natural breed, and one of the oldest stable cat breeds. They are highly intelligent and confident cats that can be fearless, although they are startled by loud sounds and sudden movements. Korats form strong bonds with their people and like to cuddle and stay nearby.', 'life_span': '10 - 15', 'indoor': 0, 'adaptability': 5, 'affection_level': 5, 'child_friendly': 4, 'dog_friendly': 5, 'energy_level': 3, 'grooming': 1, 'health_issues': 1, 'intelligence': 5, 'shedding_level': 3, 'social_needs': 5, 'stranger_friendly': 2, 'vocalisation': 3, 'experimental': 0, 'hairless': 0, 'natural': 0, 'rare': 1, 'rex': 0, 'suppressed_tail': 0, 'short_legs': 0, 'wikipedia_url': 'https://en.wikipedia.org/wiki/Korat', 'hypoallergenic': 0, 'reference_image_id': 'DbwiefiaY', 'image': {'id': 'DbwiefiaY', 'width': 1200, 'height': 627, 'url': 'https://cdn2.thecatapi.com/images/DbwiefiaY.png'}}, {'weight': {'imperial': '8 - 15', 'metric': '4 - 7'}, 'id': 'kuri', 'name': 'Kurilian', 'vetstreet_url': 'http://www.vetstreet.com/cats/kurilian-bobtail', 'temperament': 'Independent, highly intelligent, clever, inquisitive, sociable, playful, trainable', 'origin': 'Russia', 'country_codes': 'RU', 'country_code': 'RU', 'description': 'The character of the Kurilian Bobtail is independent, highly intelligent, clever, inquisitive, sociable, playful, trainable, absent of aggression and very gentle. They are devoted to their humans and when allowed are either on the lap of or sleeping in bed with their owners.', 'life_span': '15 - 20', 'indoor': 0, 'adaptability': 5, 'affection_level': 5, 'child_friendly': 5, 'dog_friendly': 5, 'energy_level': 5, 'grooming': 1, 'health_issues': 1, 'intelligence': 5, 'shedding_level': 2, 'social_needs': 5, 'stranger_friendly': 5, 'vocalisation': 3, 'experimental': 0, 'hairless': 0, 'natural': 1, 'rare': 0, 'rex': 0, 'suppressed_tail': 1, 'short_legs': 0, 'wikipedia_url': 'https://en.wikipedia.org/wiki/Kurilian_Bobtail', 'hypoallergenic': 0, 'reference_image_id': 'NZpO4pU56M', 'image': {'id': 'NZpO4pU56M', 'width': 750, 'height': 750, 'url': 'https://cdn2.thecatapi.com/images/NZpO4pU56M.jpg'}}, {'weight': {'imperial': '6 - 10', 'metric': '3 - 5'}, 'id': 'lape', 'name': 'LaPerm', 'cfa_url': 'http://cfa.org/Breeds/BreedsKthruR/LaPerm.aspx', 'vetstreet_url': 'http://www.vetstreet.com/cats/laperm', 'vcahospitals_url': 'https://vcahospitals.com/know-your-pet/cat-breeds/laperm', 'temperament': 'Affectionate, Friendly, Gentle, Intelligent, Playful, Quiet', 'origin': 'Thailand', 'country_codes': 'TH', 'country_code': 'TH', 'description': 'LaPerms are gentle and affectionate but also very active. Unlike many active breeds, the LaPerm is also quite content to be a lap cat. The LaPerm will often follow your lead; that is, if they are busy playing and you decide to sit and relax, simply pick up your LaPerm and sit down with it, and it will stay in your lap, devouring the attention you give it.', 'life_span': '10 - 15', 'indoor': 0, 'lap': 1, 'alt_names': 'Si-Sawat', 'adaptability': 5, 'affection_level': 5, 'child_friendly': 4, 'dog_friendly': 5, 'energy_level': 4, 'grooming': 1, 'health_issues': 1, 'intelligence': 5, 'shedding_level': 3, 'social_needs': 4, 'stranger_friendly': 4, 'vocalisation': 3, 'experimental': 0, 'hairless': 0, 'natural': 0, 'rare': 0, 'rex': 1, 'suppressed_tail': 0, 'short_legs': 0, 'wikipedia_url': 'https://en.wikipedia.org/wiki/LaPerm', 'hypoallergenic': 1, 'reference_image_id': 'aKbsEYjSl', 'image': {'id': 'aKbsEYjSl', 'width': 1074, 'height': 890, 'url': 'https://cdn2.thecatapi.com/images/aKbsEYjSl.jpg'}}, {'weight': {'imperial': '12 - 18', 'metric': '5 - 8'}, 'id': 'mcoo', 'name': 'Maine Coon', 'cfa_url': 'http://cfa.org/Breeds/BreedsKthruR/MaineCoon.aspx', 'vetstreet_url': 'http://www.vetstreet.com/cats/maine-coon', 'vcahospitals_url': 'https://vcahospitals.com/know-your-pet/cat-breeds/maine-coon', 'temperament': 'Adaptable, Intelligent, Loving, Gentle, Independent', 'origin': 'United States', 'country_codes': 'US', 'country_code': 'US', 'description': 'They are known for their size and luxurious long coat Maine Coons are considered a gentle giant. The good-natured and affable Maine Coon adapts well to many lifestyles and personalities. She likes being with people and has the habit of following them around, but isn’t needy. Most Maine Coons love water and they can be quite good swimmers.', 'life_span': '12 - 15', 'indoor': 0, 'lap': 1, 'alt_names': 'Coon Cat, Maine Cat, Maine Shag, Snowshoe Cat, American Longhair, The Gentle Giants', 'adaptability': 5, 'affection_level': 5, 'child_friendly': 4, 'dog_friendly': 5, 'energy_level': 3, 'grooming': 3, 'health_issues': 3, 'intelligence': 5, 'shedding_level': 3, 'social_needs': 3, 'stranger_friendly': 5, 'vocalisation': 1, 'experimental': 0, 'hairless': 0, 'natural': 1, 'rare': 0, 'rex': 0, 'suppressed_tail': 0, 'short_legs': 0, 'wikipedia_url': 'https://en.wikipedia.org/wiki/Maine_Coon', 'hypoallergenic': 0, 'reference_image_id': 'OOD3VXAQn', 'image': {'id': 'OOD3VXAQn', 'width': 1080, 'height': 1080, 'url': 'https://cdn2.thecatapi.com/images/OOD3VXAQn.jpg'}}, {'weight': {'imperial': '6 - 13', 'metric': '3 - 6'}, 'id': 'mala', 'name': 'Malayan', 'temperament': 'Affectionate, Interactive, Playful, Social', 'origin': 'United Kingdom', 'country_codes': 'GB', 'country_code': 'GB', 'description': 'Malayans love to explore and even enjoy traveling by way of a cat carrier. They are quite a talkative and rather loud cat with an apparent strong will. These cats will make sure that you give it the attention it seeks and always seem to want to be held and hugged. They will constantly interact with people, even strangers. They love to play and cuddle.', 'life_span': '12 - 18', 'indoor': 0, 'alt_names': 'Asian', 'adaptability': 5, 'affection_level': 5, 'child_friendly': 4, 'dog_friendly': 5, 'energy_level': 5, 'grooming': 1, 'health_issues': 1, 'intelligence': 3, 'shedding_level': 1, 'social_needs': 3, 'stranger_friendly': 3, 'vocalisation': 5, 'experimental': 0, 'hairless': 0, 'natural': 0, 'rare': 0, 'rex': 0, 'suppressed_tail': 0, 'short_legs': 0, 'wikipedia_url': 'https://en.wikipedia.org/wiki/Asian_cat', 'hypoallergenic': 0}, {'weight': {'imperial': '7 - 13', 'metric': '3 - 6'}, 'id': 'manx', 'name': 'Manx', 'cfa_url': 'http://cfa.org/Breeds/BreedsKthruR/Manx.aspx', 'vetstreet_url': 'http://www.vetstreet.com/cats/manx', 'vcahospitals_url': 'https://vcahospitals.com/know-your-pet/cat-breeds/manx', 'temperament': 'Easy Going, Intelligent, Loyal, Playful, Social', 'origin': 'Isle of Man', 'country_codes': 'IM', 'country_code': 'IM', 'description': 'The Manx is a placid, sweet cat that is gentle and playful. She never seems to get too upset about anything. She is a loving companion and adores being with people.', 'life_span': '12 - 14', 'indoor': 0, 'lap': 1, 'alt_names': 'Manks, Stubbin, Rumpy', 'adaptability': 5, 'affection_level': 5, 'child_friendly': 4, 'dog_friendly': 5, 'energy_level': 5, 'grooming': 1, 'health_issues': 3, 'intelligence': 5, 'shedding_level': 5, 'social_needs': 5, 'stranger_friendly': 3, 'vocalisation': 3, 'experimental': 0, 'hairless': 0, 'natural': 1, 'rare': 0, 'rex': 0, 'suppressed_tail': 1, 'short_legs': 0, 'wikipedia_url': 'https://en.wikipedia.org/wiki/Manx_(cat)', 'hypoallergenic': 0, 'reference_image_id': 'fhYh2PDcC', 'image': {'id': 'fhYh2PDcC', 'width': 700, 'height': 466, 'url': 'https://cdn2.thecatapi.com/images/fhYh2PDcC.jpg'}}, {'weight': {'imperial': '5 - 9', 'metric': '2 - 4'}, 'id': 'munc', 'name': 'Munchkin', 'vetstreet_url': 'http://www.vetstreet.com/cats/munchkin', 'temperament': 'Agile, Easy Going, Intelligent, Playful', 'origin': 'United States', 'country_codes': 'US', 'country_code': 'US', 'description': 'The Munchkin is an outgoing cat who enjoys being handled. She has lots of energy and is faster and more agile than she looks. The shortness of their legs does not seem to interfere with their running and leaping abilities.', 'life_span': '10 - 15', 'indoor': 0, 'lap': 1, 'alt_names': '', 'adaptability': 5, 'affection_level': 5, 'child_friendly': 4, 'dog_friendly': 5, 'energy_level': 4, 'grooming': 2, 'health_issues': 3, 'intelligence': 5, 'shedding_level': 3, 'social_needs': 5, 'stranger_friendly': 5, 'vocalisation': 3, 'experimental': 0, 'hairless': 0, 'natural': 0, 'rare': 0, 'rex': 0, 'suppressed_tail': 0, 'short_legs': 1, 'wikipedia_url': 'https://en.wikipedia.org/wiki/Munchkin_(cat)', 'hypoallergenic': 0, 'reference_image_id': 'j5cVSqLer', 'image': {'id': 'j5cVSqLer', 'width': 1600, 'height': 1200, 'url': 'https://cdn2.thecatapi.com/images/j5cVSqLer.jpg'}}, {'weight': {'imperial': '7 - 11', 'metric': '3 - 5'}, 'id': 'nebe', 'name': 'Nebelung', 'temperament': 'Gentle, Quiet, Shy, Playful', 'origin': 'United States', 'country_codes': 'US', 'country_code': 'US', 'description': 'The Nebelung may have a reserved nature, but she loves to play (being especially fond of retrieving) and enjoys jumping or climbing to high places where she can study people and situations at her leisure before making up her mind about whether she wants to get involved.', 'life_span': '11 - 16', 'indoor': 0, 'lap': 1, 'alt_names': 'Longhaired Russian Blue', 'adaptability': 5, 'affection_level': 5, 'child_friendly': 4, 'dog_friendly': 4, 'energy_level': 3, 'grooming': 3, 'health_issues': 2, 'intelligence': 5, 'shedding_level': 3, 'social_needs': 3, 'stranger_friendly': 3, 'vocalisation': 1, 'experimental': 0, 'hairless': 0, 'natural': 0, 'rare': 1, 'rex': 0, 'suppressed_tail': 0, 'short_legs': 0, 'wikipedia_url': 'https://en.wikipedia.org/wiki/Nebelung', 'hypoallergenic': 0, 'reference_image_id': 'OGTWqNNOt', 'image': {'id': 'OGTWqNNOt', 'width': 1150, 'height': 862, 'url': 'https://cdn2.thecatapi.com/images/OGTWqNNOt.jpg'}}, {'weight': {'imperial': '8 - 16', 'metric': '4 - 7'}, 'id': 'norw', 'name': 'Norwegian Forest Cat', 'cfa_url': 'http://cfa.org/Breeds/BreedsKthruR/NorwegianForestCat.aspx', 'vetstreet_url': 'http://www.vetstreet.com/cats/norwegian-forest-cat', 'vcahospitals_url': 'https://vcahospitals.com/know-your-pet/cat-breeds/norwegian-forest-cat', 'temperament': 'Sweet, Active, Intelligent, Social, Playful, Lively, Curious', 'origin': 'Norway', 'country_codes': 'NO', 'country_code': 'NO', 'description': 'The Norwegian Forest Cat is a sweet, loving cat. She appreciates praise and loves to interact with her parent. She makes a loving companion and bonds with her parents once she accepts them for her own. She is still a hunter at heart. She loves to chase toys as if they are real. She is territorial and patrols several times each day to make certain that all is fine.', 'life_span': '12 - 16', 'indoor': 0, 'alt_names': 'Skogkatt / Skaukatt, Norsk Skogkatt / Norsk Skaukatt, Weegie', 'adaptability': 5, 'affection_level': 5, 'child_friendly': 4, 'dog_friendly': 5, 'energy_level': 3, 'grooming': 2, 'health_issues': 3, 'intelligence': 4, 'shedding_level': 3, 'social_needs': 5, 'stranger_friendly': 5, 'vocalisation': 1, 'experimental': 0, 'hairless': 0, 'natural': 1, 'rare': 0, 'rex': 0, 'suppressed_tail': 0, 'short_legs': 0, 'wikipedia_url': 'https://en.wikipedia.org/wiki/Norwegian_Forest_Cat', 'hypoallergenic': 0, 'reference_image_id': '06dgGmEOV', 'image': {'id': '06dgGmEOV', 'width': 1200, 'height': 1021, 'url': 'https://cdn2.thecatapi.com/images/06dgGmEOV.jpg'}}, {'weight': {'imperial': '7 - 15', 'metric': '3 - 7'}, 'id': 'ocic', 'name': 'Ocicat', 'cfa_url': 'http://cfa.org/Breeds/BreedsKthruR/Ocicat.aspx', 'vetstreet_url': 'http://www.vetstreet.com/cats/ocicat', 'vcahospitals_url': 'https://vcahospitals.com/know-your-pet/cat-breeds/ocicat', 'temperament': 'Active, Agile, Curious, Demanding, Friendly, Gentle, Lively, Playful, Social', 'origin': 'United States', 'country_codes': 'US', 'country_code': 'US', 'description': \"Loyal and devoted to their owners, the Ocicat is intelligent, confident, outgoing, and seems to have many dog traits. They can be trained to fetch toys, walk on a lead, taught to 'speak', come when called, and follow other commands. \", 'life_span': '12 - 14', 'indoor': 0, 'alt_names': '', 'adaptability': 5, 'affection_level': 5, 'child_friendly': 4, 'dog_friendly': 5, 'energy_level': 5, 'grooming': 1, 'health_issues': 3, 'intelligence': 5, 'shedding_level': 3, 'social_needs': 5, 'stranger_friendly': 5, 'vocalisation': 3, 'experimental': 0, 'hairless': 0, 'natural': 0, 'rare': 0, 'rex': 0, 'suppressed_tail': 0, 'short_legs': 0, 'wikipedia_url': 'https://en.wikipedia.org/wiki/Ocicat', 'hypoallergenic': 1, 'reference_image_id': 'JAx-08Y0n', 'image': {'id': 'JAx-08Y0n', 'width': 1280, 'height': 853, 'url': 'https://cdn2.thecatapi.com/images/JAx-08Y0n.jpg'}}, {'weight': {'imperial': '5 - 10', 'metric': '2 - 5'}, 'id': 'orie', 'name': 'Oriental', 'cfa_url': 'http://cfa.org/Breeds/BreedsKthruR/Oriental.aspx', 'vetstreet_url': 'http://www.vetstreet.com/cats/oriental', 'vcahospitals_url': 'https://vcahospitals.com/know-your-pet/cat-breeds/oriental', 'temperament': 'Energetic, Affectionate, Intelligent, Social, Playful, Curious', 'origin': 'United States', 'country_codes': 'US', 'country_code': 'US', 'description': 'Orientals are passionate about the people in their lives. They become extremely attached to their humans, so be prepared for a lifetime commitment. When you are not available to entertain her, an Oriental will divert herself by jumping on top of the refrigerator, opening drawers, seeking out new hideaways.', 'life_span': '12 - 14', 'indoor': 0, 'lap': 1, 'alt_names': 'Foreign Type', 'adaptability': 5, 'affection_level': 5, 'child_friendly': 4, 'dog_friendly': 5, 'energy_level': 5, 'grooming': 1, 'health_issues': 3, 'intelligence': 5, 'shedding_level': 3, 'social_needs': 5, 'stranger_friendly': 3, 'vocalisation': 5, 'experimental': 0, 'hairless': 0, 'natural': 0, 'rare': 0, 'rex': 0, 'suppressed_tail': 0, 'short_legs': 0, 'wikipedia_url': 'https://en.wikipedia.org/wiki/Oriental_Shorthair', 'hypoallergenic': 1, 'reference_image_id': 'LutjkZJpH', 'image': {'id': 'LutjkZJpH', 'width': 800, 'height': 1200, 'url': 'https://cdn2.thecatapi.com/images/LutjkZJpH.jpg'}}, {'weight': {'imperial': '9 - 14', 'metric': '4 - 6'}, 'id': 'pers', 'name': 'Persian', 'cfa_url': 'http://cfa.org/Breeds/BreedsKthruR/Persian.aspx', 'vetstreet_url': 'http://www.vetstreet.com/cats/persian', 'vcahospitals_url': 'https://vcahospitals.com/know-your-pet/cat-breeds/persian', 'temperament': 'Affectionate, loyal, Sedate, Quiet', 'origin': 'Iran (Persia)', 'country_codes': 'IR', 'country_code': 'IR', 'description': 'Persians are sweet, gentle cats that can be playful or quiet and laid-back. Great with families and children, they absolutely love to lounge around the house. While they don’t mind a full house or active kids, they’ll usually hide when they need some alone time.', 'life_span': '14 - 15', 'indoor': 0, 'lap': 1, 'alt_names': 'Longhair, Persian Longhair, Shiraz, Shirazi', 'adaptability': 5, 'affection_level': 5, 'child_friendly': 2, 'dog_friendly': 2, 'energy_level': 1, 'grooming': 5, 'health_issues': 3, 'intelligence': 3, 'shedding_level': 4, 'social_needs': 4, 'stranger_friendly': 2, 'vocalisation': 1, 'experimental': 0, 'hairless': 0, 'natural': 1, 'rare': 0, 'rex': 0, 'suppressed_tail': 0, 'short_legs': 0, 'wikipedia_url': 'https://en.wikipedia.org/wiki/Persian_(cat)', 'hypoallergenic': 0, 'reference_image_id': '-Zfz5z2jK\\n', 'image': {}}, {'weight': {'imperial': '8 - 17', 'metric': '4 - 8'}, 'id': 'pixi', 'name': 'Pixie-bob', 'vetstreet_url': 'http://www.vetstreet.com/cats/pixiebob', 'temperament': 'Affectionate, Social, Intelligent, Loyal', 'origin': 'United States', 'country_codes': 'US', 'country_code': 'US', 'description': 'Companionable and affectionate, the Pixie-bob wants to be an integral part of the family. The Pixie-Bob’s ability to bond with their humans along with their patient personas make them excellent companions for children.', 'life_span': '13 - 16', 'indoor': 0, 'lap': 1, 'alt_names': '', 'adaptability': 5, 'affection_level': 5, 'child_friendly': 4, 'dog_friendly': 5, 'energy_level': 4, 'grooming': 1, 'health_issues': 2, 'intelligence': 5, 'shedding_level': 3, 'social_needs': 4, 'stranger_friendly': 4, 'vocalisation': 1, 'experimental': 0, 'hairless': 0, 'natural': 0, 'rare': 0, 'rex': 0, 'suppressed_tail': 1, 'short_legs': 0, 'wikipedia_url': 'https://en.wikipedia.org/wiki/Pixiebob', 'hypoallergenic': 0, 'reference_image_id': 'z7fJRNeN6', 'image': {'id': 'z7fJRNeN6', 'width': 1024, 'height': 683, 'url': 'https://cdn2.thecatapi.com/images/z7fJRNeN6.jpg'}}, {'weight': {'imperial': '8 - 20', 'metric': '4 - 9'}, 'id': 'raga', 'name': 'Ragamuffin', 'cfa_url': 'http://cfa.org/Breeds/BreedsKthruR/Ragamuffin.aspx', 'vetstreet_url': 'http://www.vetstreet.com/cats/ragamuffin', 'vcahospitals_url': 'https://vcahospitals.com/know-your-pet/cat-breeds/ragamuffin', 'temperament': 'Affectionate, Friendly, Gentle, Calm', 'origin': 'United States', 'country_codes': 'US', 'country_code': 'US', 'description': 'The Ragamuffin is calm, even tempered and gets along well with all family members. Changes in routine generally do not upset her. She is an ideal companion for those in apartments, and with children due to her patient nature.', 'life_span': '12 - 16', 'indoor': 0, 'lap': 1, 'alt_names': '', 'adaptability': 5, 'affection_level': 5, 'child_friendly': 4, 'dog_friendly': 5, 'energy_level': 3, 'grooming': 3, 'health_issues': 3, 'intelligence': 5, 'shedding_level': 3, 'social_needs': 3, 'stranger_friendly': 5, 'vocalisation': 1, 'experimental': 0, 'hairless': 0, 'natural': 0, 'rare': 0, 'rex': 0, 'suppressed_tail': 0, 'short_legs': 0, 'wikipedia_url': 'https://en.wikipedia.org/wiki/Ragamuffin_cat', 'hypoallergenic': 0, 'reference_image_id': 'SMuZx-bFM', 'image': {'id': 'SMuZx-bFM', 'width': 3000, 'height': 2000, 'url': 'https://cdn2.thecatapi.com/images/SMuZx-bFM.jpg'}}, {'weight': {'imperial': '12 - 20', 'metric': '5 - 9'}, 'id': 'ragd', 'name': 'Ragdoll', 'cfa_url': 'http://cfa.org/Breeds/BreedsKthruR/Ragdoll.aspx', 'vetstreet_url': 'http://www.vetstreet.com/cats/ragdoll', 'vcahospitals_url': 'https://vcahospitals.com/know-your-pet/cat-breeds/ragdoll', 'temperament': 'Affectionate, Friendly, Gentle, Quiet, Easygoing', 'origin': 'United States', 'country_codes': 'US', 'country_code': 'US', 'description': 'Ragdolls love their people, greeting them at the door, following them around the house, and leaping into a lap or snuggling in bed whenever given the chance. They are the epitome of a lap cat, enjoy being carried and collapsing into the arms of anyone who holds them.', 'life_span': '12 - 17', 'indoor': 0, 'lap': 1, 'alt_names': 'Rag doll', 'adaptability': 5, 'affection_level': 5, 'child_friendly': 4, 'dog_friendly': 5, 'energy_level': 3, 'grooming': 2, 'health_issues': 3, 'intelligence': 3, 'shedding_level': 3, 'social_needs': 5, 'stranger_friendly': 3, 'vocalisation': 1, 'experimental': 0, 'hairless': 0, 'natural': 0, 'rare': 0, 'rex': 0, 'suppressed_tail': 0, 'short_legs': 0, 'wikipedia_url': 'https://en.wikipedia.org/wiki/Ragdoll', 'hypoallergenic': 0, 'reference_image_id': 'oGefY4YoG', 'image': {'id': 'oGefY4YoG', 'width': 768, 'height': 1024, 'url': 'https://cdn2.thecatapi.com/images/oGefY4YoG.jpg'}}, {'weight': {'imperial': '5 - 11', 'metric': '2 - 5'}, 'id': 'rblu', 'name': 'Russian Blue', 'cfa_url': 'http://cfa.org/Breeds/BreedsKthruR/RussianBlue.aspx', 'vetstreet_url': 'http://www.vetstreet.com/cats/russian-blue-nebelung', 'vcahospitals_url': 'https://vcahospitals.com/know-your-pet/cat-breeds/russian-blue', 'temperament': 'Active, Dependent, Easy Going, Gentle, Intelligent, Loyal, Playful, Quiet', 'origin': 'Russia', 'country_codes': 'RU', 'country_code': 'RU', 'description': 'Russian Blues are very loving and reserved. They do not like noisy households but they do like to play and can be quite active when outdoors. They bond very closely with their owner and are known to be compatible with other pets.', 'life_span': '10 - 16', 'indoor': 0, 'lap': 1, 'alt_names': 'Archangel Blue, Archangel Cat', 'adaptability': 3, 'affection_level': 3, 'child_friendly': 3, 'dog_friendly': 3, 'energy_level': 3, 'grooming': 3, 'health_issues': 1, 'intelligence': 3, 'shedding_level': 3, 'social_needs': 3, 'stranger_friendly': 1, 'vocalisation': 1, 'experimental': 0, 'hairless': 0, 'natural': 1, 'rare': 0, 'rex': 0, 'suppressed_tail': 0, 'short_legs': 0, 'wikipedia_url': 'https://en.wikipedia.org/wiki/Russian_Blue', 'hypoallergenic': 1, 'reference_image_id': 'Rhj-JsTLP', 'image': {'id': 'Rhj-JsTLP', 'width': 1280, 'height': 853, 'url': 'https://cdn2.thecatapi.com/images/Rhj-JsTLP.jpg'}}, {'weight': {'imperial': '8 - 25', 'metric': '4 - 11'}, 'id': 'sava', 'name': 'Savannah', 'vetstreet_url': 'http://www.vetstreet.com/cats/savannah', 'temperament': 'Curious, Social, Intelligent, Loyal, Outgoing, Adventurous, Affectionate', 'origin': 'United States', 'country_codes': 'US', 'country_code': 'US', 'description': 'Savannah is the feline version of a dog. Actively seeking social interaction, they are given to pouting if left out. Remaining kitten-like through life. Profoundly loyal to immediate family members whilst questioning the presence of strangers. Making excellent companions that are loyal, intelligent and eager to be involved.', 'life_span': '17 - 20', 'indoor': 0, 'alt_names': '', 'adaptability': 5, 'affection_level': 5, 'child_friendly': 4, 'dog_friendly': 5, 'energy_level': 5, 'grooming': 1, 'health_issues': 1, 'intelligence': 5, 'shedding_level': 3, 'social_needs': 5, 'stranger_friendly': 5, 'vocalisation': 1, 'experimental': 1, 'hairless': 0, 'natural': 0, 'rare': 0, 'rex': 0, 'suppressed_tail': 0, 'short_legs': 0, 'wikipedia_url': 'https://en.wikipedia.org/wiki/Savannah_cat', 'hypoallergenic': 0, 'reference_image_id': 'a8nIYvs6S', 'image': {'id': 'a8nIYvs6S', 'width': 850, 'height': 1100, 'url': 'https://cdn2.thecatapi.com/images/a8nIYvs6S.jpg'}}, {'weight': {'imperial': '5 - 11', 'metric': '2 - 5'}, 'id': 'sfol', 'name': 'Scottish Fold', 'cfa_url': 'http://cfa.org/Breeds/BreedsSthruT/ScottishFold.aspx', 'vetstreet_url': 'http://www.vetstreet.com/cats/scottish-fold-highland-fold', 'vcahospitals_url': 'https://vcahospitals.com/know-your-pet/cat-breeds/scottish-fold', 'temperament': 'Affectionate, Intelligent, Loyal, Playful, Social, Sweet, Loving', 'origin': 'United Kingdom', 'country_codes': 'GB', 'country_code': 'GB', 'description': 'The Scottish Fold is a sweet, charming breed. She is an easy cat to live with and to care for. She is affectionate and is comfortable with all members of her family. Her tail should be handled gently. Folds are known for sleeping on their backs, and for sitting with their legs stretched out and their paws on their belly. This is called the \"Buddha Position\".', 'life_span': '11 - 14', 'indoor': 0, 'alt_names': 'Scot Fold', 'adaptability': 5, 'affection_level': 5, 'child_friendly': 4, 'dog_friendly': 5, 'energy_level': 3, 'grooming': 1, 'health_issues': 4, 'intelligence': 3, 'shedding_level': 3, 'social_needs': 3, 'stranger_friendly': 3, 'vocalisation': 1, 'experimental': 0, 'hairless': 0, 'natural': 0, 'rare': 0, 'rex': 0, 'suppressed_tail': 0, 'short_legs': 0, 'wikipedia_url': 'https://en.wikipedia.org/wiki/Scottish_Fold', 'hypoallergenic': 0, 'reference_image_id': 'o9t0LDcsa', 'image': {'id': 'o9t0LDcsa', 'width': 1920, 'height': 1440, 'url': 'https://cdn2.thecatapi.com/images/o9t0LDcsa.jpg'}}, {'weight': {'imperial': '6 - 16', 'metric': '3 - 7'}, 'id': 'srex', 'name': 'Selkirk Rex', 'cfa_url': 'http://cfa.org/Breeds/BreedsSthruT/SelkirkRex.aspx', 'vetstreet_url': 'http://www.vetstreet.com/cats/selkirk-rex', 'vcahospitals_url': 'https://vcahospitals.com/know-your-pet/cat-breeds/selkirk-rex', 'temperament': 'Active, Affectionate, Dependent, Gentle, Patient, Playful, Quiet, Social', 'origin': 'United States', 'country_codes': 'US', 'country_code': 'US', 'description': 'The Selkirk Rex is an incredibly patient, loving, and tolerant breed. The Selkirk also has a silly side and is sometimes described as clownish. She loves being a lap cat and will be happy to chat with you in a quiet voice if you talk to her. ', 'life_span': '14 - 15', 'indoor': 0, 'lap': 1, 'alt_names': 'Shepherd Cat', 'adaptability': 5, 'affection_level': 5, 'child_friendly': 4, 'dog_friendly': 5, 'energy_level': 3, 'grooming': 2, 'health_issues': 4, 'intelligence': 3, 'shedding_level': 1, 'social_needs': 3, 'stranger_friendly': 3, 'vocalisation': 3, 'experimental': 0, 'hairless': 0, 'natural': 0, 'rare': 0, 'rex': 1, 'suppressed_tail': 0, 'short_legs': 0, 'wikipedia_url': 'https://en.wikipedia.org/wiki/Selkirk_Rex', 'hypoallergenic': 1, 'reference_image_id': 'II9dOZmrw', 'image': {'id': 'II9dOZmrw', 'width': 1920, 'height': 902, 'url': 'https://cdn2.thecatapi.com/images/II9dOZmrw.jpg'}}, {'weight': {'imperial': '8 - 15', 'metric': '4 - 7'}, 'id': 'siam', 'name': 'Siamese', 'cfa_url': 'http://cfa.org/Breeds/BreedsSthruT/Siamese.aspx', 'vetstreet_url': 'http://www.vetstreet.com/cats/siamese', 'vcahospitals_url': 'https://vcahospitals.com/know-your-pet/cat-breeds/siamese', 'temperament': 'Active, Agile, Clever, Sociable, Loving, Energetic', 'origin': 'Thailand', 'country_codes': 'TH', 'country_code': 'TH', 'description': 'While Siamese cats are extremely fond of their people, they will follow you around and supervise your every move, being talkative and opinionated. They are a demanding and social cat, that do not like being left alone for long periods.', 'life_span': '12 - 15', 'indoor': 0, 'lap': 1, 'alt_names': 'Siam, Thai Cat', 'adaptability': 5, 'affection_level': 5, 'child_friendly': 4, 'dog_friendly': 5, 'energy_level': 5, 'grooming': 1, 'health_issues': 1, 'intelligence': 5, 'shedding_level': 2, 'social_needs': 5, 'stranger_friendly': 5, 'vocalisation': 5, 'experimental': 0, 'hairless': 0, 'natural': 0, 'rare': 0, 'rex': 0, 'suppressed_tail': 0, 'short_legs': 0, 'wikipedia_url': 'https://en.wikipedia.org/wiki/Siamese_(cat)', 'hypoallergenic': 1, 'reference_image_id': 'ai6Jps4sx', 'image': {'id': 'ai6Jps4sx', 'width': 1110, 'height': 811, 'url': 'https://cdn2.thecatapi.com/images/ai6Jps4sx.jpg'}}, {'weight': {'imperial': '8 - 16', 'metric': '4 - 7'}, 'id': 'sibe', 'name': 'Siberian', 'cfa_url': 'http://cfa.org/Breeds/BreedsSthruT/Siberian.aspx', 'vetstreet_url': 'http://www.vetstreet.com/cats/siberian', 'vcahospitals_url': 'https://vcahospitals.com/know-your-pet/cat-breeds/siberian', 'temperament': 'Curious, Intelligent, Loyal, Sweet, Agile, Playful, Affectionate', 'origin': 'Russia', 'country_codes': 'RU', 'country_code': 'RU', 'description': 'The Siberians dog like temperament and affection makes the ideal lap cat and will live quite happily indoors. Very agile and powerful, the Siberian cat can easily leap and reach high places, including the tops of refrigerators and even doors. ', 'life_span': '12 - 15', 'indoor': 0, 'lap': 1, 'alt_names': 'Moscow Semi-longhair, HairSiberian Forest Cat', 'adaptability': 5, 'affection_level': 5, 'child_friendly': 4, 'dog_friendly': 5, 'energy_level': 5, 'grooming': 2, 'health_issues': 2, 'intelligence': 5, 'shedding_level': 3, 'social_needs': 4, 'stranger_friendly': 3, 'vocalisation': 1, 'experimental': 0, 'hairless': 0, 'natural': 1, 'rare': 0, 'rex': 0, 'suppressed_tail': 0, 'short_legs': 0, 'wikipedia_url': 'https://en.wikipedia.org/wiki/Siberian_(cat)', 'hypoallergenic': 1, 'reference_image_id': '3bkZAjRh1', 'image': {'id': '3bkZAjRh1', 'width': 4232, 'height': 2560, 'url': 'https://cdn2.thecatapi.com/images/3bkZAjRh1.jpg'}}, {'weight': {'imperial': '5 - 8', 'metric': '2 - 4'}, 'id': 'sing', 'name': 'Singapura', 'cfa_url': 'http://cfa.org/Breeds/BreedsSthruT/Singapura.aspx', 'vetstreet_url': 'http://www.vetstreet.com/cats/singapura', 'vcahospitals_url': 'https://vcahospitals.com/know-your-pet/cat-breeds/singapura', 'temperament': 'Affectionate, Curious, Easy Going, Intelligent, Interactive, Lively, Loyal', 'origin': 'Singapore', 'country_codes': 'SP', 'country_code': 'SP', 'description': 'The Singapura is usually cautious when it comes to meeting new people, but loves attention from his family so much that she sometimes has the reputation of being a pest. This is a highly active, curious and affectionate cat. She may be small, but she knows she’s in charge', 'life_span': '12 - 15', 'indoor': 0, 'lap': 1, 'alt_names': 'Drain Cat, Kucinta, Pura', 'adaptability': 5, 'affection_level': 5, 'child_friendly': 4, 'dog_friendly': 5, 'energy_level': 5, 'grooming': 1, 'health_issues': 1, 'intelligence': 5, 'shedding_level': 3, 'social_needs': 5, 'stranger_friendly': 5, 'vocalisation': 1, 'experimental': 0, 'hairless': 0, 'natural': 0, 'rare': 0, 'rex': 0, 'suppressed_tail': 0, 'short_legs': 0, 'wikipedia_url': 'https://en.wikipedia.org/wiki/Singapura_(cat)', 'hypoallergenic': 0, 'reference_image_id': 'Qtncp2nRe', 'image': {'id': 'Qtncp2nRe', 'width': 1080, 'height': 1350, 'url': 'https://cdn2.thecatapi.com/images/Qtncp2nRe.jpg'}}, {'weight': {'imperial': '7 - 12', 'metric': '3 - 5'}, 'id': 'snow', 'name': 'Snowshoe', 'temperament': 'Affectionate, Social, Intelligent, Sweet-tempered', 'origin': 'United States', 'country_codes': 'US', 'country_code': 'US', 'description': 'The Snowshoe is a vibrant, energetic, affectionate and intelligent cat. They love being around people which makes them ideal for families, and becomes unhappy when left alone for long periods of time. Usually attaching themselves to one person, they do whatever they can to get your attention.', 'life_span': '14 - 19', 'indoor': 0, 'lap': 1, 'alt_names': '', 'adaptability': 5, 'affection_level': 5, 'child_friendly': 4, 'dog_friendly': 5, 'energy_level': 4, 'grooming': 3, 'health_issues': 1, 'intelligence': 5, 'shedding_level': 3, 'social_needs': 4, 'stranger_friendly': 4, 'vocalisation': 5, 'experimental': 0, 'hairless': 0, 'natural': 0, 'rare': 0, 'rex': 0, 'suppressed_tail': 0, 'short_legs': 0, 'wikipedia_url': 'https://en.wikipedia.org/wiki/Snowshoe_(cat)', 'hypoallergenic': 0, 'reference_image_id': 'MK-sYESvO', 'image': {'id': 'MK-sYESvO', 'width': 1170, 'height': 750, 'url': 'https://cdn2.thecatapi.com/images/MK-sYESvO.jpg'}}, {'weight': {'imperial': '6 - 12', 'metric': '3 - 5'}, 'id': 'soma', 'name': 'Somali', 'cfa_url': 'http://cfa.org/Breeds/BreedsSthruT/Somali.aspx', 'vetstreet_url': 'http://www.vetstreet.com/cats/somali', 'vcahospitals_url': 'https://vcahospitals.com/know-your-pet/cat-breeds/somali', 'temperament': 'Mischievous, Tenacious, Intelligent, Affectionate, Gentle, Interactive, Loyal', 'origin': 'Somalia', 'country_codes': 'SO', 'country_code': 'SO', 'description': 'The Somali lives life to the fullest. He climbs higher, jumps farther, plays harder. Nothing escapes the notice of this highly intelligent and inquisitive cat. Somalis love the company of humans and other animals.', 'life_span': '12 - 16', 'indoor': 0, 'alt_names': 'Fox Cat, Long-Haired Abyssinian', 'adaptability': 5, 'affection_level': 5, 'child_friendly': 3, 'dog_friendly': 4, 'energy_level': 5, 'grooming': 3, 'health_issues': 2, 'intelligence': 5, 'shedding_level': 4, 'social_needs': 5, 'stranger_friendly': 5, 'vocalisation': 1, 'experimental': 0, 'hairless': 0, 'natural': 0, 'rare': 0, 'rex': 0, 'suppressed_tail': 0, 'short_legs': 0, 'wikipedia_url': 'https://en.wikipedia.org/wiki/Somali_(cat)', 'hypoallergenic': 0, 'reference_image_id': 'EPF2ejNS0', 'image': {'id': 'EPF2ejNS0', 'width': 850, 'height': 1008, 'url': 'https://cdn2.thecatapi.com/images/EPF2ejNS0.jpg'}}, {'weight': {'imperial': '6 - 12', 'metric': '3 - 5'}, 'id': 'sphy', 'name': 'Sphynx', 'cfa_url': 'http://cfa.org/Breeds/BreedsSthruT/Sphynx.aspx', 'vetstreet_url': 'http://www.vetstreet.com/cats/sphynx', 'vcahospitals_url': 'https://vcahospitals.com/know-your-pet/cat-breeds/sphynx', 'temperament': 'Loyal, Inquisitive, Friendly, Quiet, Gentle', 'origin': 'Canada', 'country_codes': 'CA', 'country_code': 'CA', 'description': 'The Sphynx is an intelligent, inquisitive, extremely friendly people-oriented breed. Sphynx commonly greet their owners  at the front door, with obvious excitement and happiness. She has an unexpected sense of humor that is often at odds with her dour expression.', 'life_span': '12 - 14', 'indoor': 0, 'lap': 1, 'alt_names': 'Canadian Hairless, Canadian Sphynx', 'adaptability': 5, 'affection_level': 5, 'child_friendly': 4, 'dog_friendly': 5, 'energy_level': 3, 'grooming': 2, 'health_issues': 4, 'intelligence': 5, 'shedding_level': 1, 'social_needs': 5, 'stranger_friendly': 5, 'vocalisation': 5, 'experimental': 0, 'hairless': 1, 'natural': 0, 'rare': 1, 'rex': 0, 'suppressed_tail': 0, 'short_legs': 0, 'wikipedia_url': 'https://en.wikipedia.org/wiki/Sphynx_(cat)', 'hypoallergenic': 1, 'reference_image_id': 'BDb8ZXb1v', 'image': {'id': 'BDb8ZXb1v', 'width': 1600, 'height': 1067, 'url': 'https://cdn2.thecatapi.com/images/BDb8ZXb1v.jpg'}}, {'weight': {'imperial': '6 - 12', 'metric': '3 - 5'}, 'id': 'tonk', 'name': 'Tonkinese', 'cfa_url': 'http://cfa.org/Breeds/BreedsSthruT/Tonkinese.aspx', 'vetstreet_url': 'http://www.vetstreet.com/cats/tonkinese', 'vcahospitals_url': 'https://vcahospitals.com/know-your-pet/cat-breeds/tonkinese', 'temperament': 'Curious, Intelligent, Social, Lively, Outgoing, Playful, Affectionate', 'origin': 'Canada', 'country_codes': 'CA', 'country_code': 'CA', 'description': 'Intelligent and generous with their affection, a Tonkinese will supervise all activities with curiosity. Loving, social, active, playful, yet content to be a lap cat', 'life_span': '14 - 16', 'indoor': 0, 'lap': 1, 'alt_names': 'Tonk', 'adaptability': 5, 'affection_level': 5, 'child_friendly': 4, 'dog_friendly': 5, 'energy_level': 5, 'grooming': 1, 'health_issues': 1, 'intelligence': 5, 'shedding_level': 3, 'social_needs': 5, 'stranger_friendly': 5, 'vocalisation': 5, 'experimental': 0, 'hairless': 0, 'natural': 0, 'rare': 0, 'rex': 0, 'suppressed_tail': 0, 'short_legs': 0, 'wikipedia_url': 'https://en.wikipedia.org/wiki/Tonkinese_(cat)', 'hypoallergenic': 0, 'reference_image_id': 'KBroiVNCM', 'image': {'id': 'KBroiVNCM', 'width': 1080, 'height': 1080, 'url': 'https://cdn2.thecatapi.com/images/KBroiVNCM.jpg'}}, {'weight': {'imperial': '7 - 15', 'metric': '3 - 7'}, 'id': 'toyg', 'name': 'Toyger', 'vetstreet_url': 'http://www.vetstreet.com/cats/toyger', 'temperament': 'Playful, Social, Intelligent', 'origin': 'United States', 'country_codes': 'US', 'country_code': 'US', 'description': \"The Toyger has a sweet, calm personality and is generally friendly. He's outgoing enough to walk on a leash, energetic enough to play fetch and other interactive games, and confident enough to get along with other cats and friendly dogs.\", 'life_span': '12 - 15', 'indoor': 0, 'lap': 1, 'alt_names': '', 'adaptability': 5, 'affection_level': 5, 'child_friendly': 4, 'dog_friendly': 5, 'energy_level': 5, 'grooming': 1, 'health_issues': 2, 'intelligence': 5, 'shedding_level': 3, 'social_needs': 3, 'stranger_friendly': 5, 'vocalisation': 5, 'experimental': 0, 'hairless': 0, 'natural': 0, 'rare': 0, 'rex': 0, 'suppressed_tail': 0, 'short_legs': 0, 'wikipedia_url': 'https://en.wikipedia.org/wiki/Toyger', 'hypoallergenic': 0, 'reference_image_id': 'O3F3_S1XN', 'image': {'id': 'O3F3_S1XN', 'width': 1080, 'height': 1080, 'url': 'https://cdn2.thecatapi.com/images/O3F3_S1XN.jpg'}}, {'weight': {'imperial': '5 - 10', 'metric': '2 - 5'}, 'id': 'tang', 'name': 'Turkish Angora', 'cfa_url': 'http://cfa.org/Breeds/BreedsSthruT/TurkishAngora.aspx', 'vetstreet_url': 'http://www.vetstreet.com/cats/turkish-angora', 'vcahospitals_url': 'https://vcahospitals.com/know-your-pet/cat-breeds/turkish-angora', 'temperament': 'Affectionate, Agile, Clever, Gentle, Intelligent, Playful, Social', 'origin': 'Turkey', 'country_codes': 'TR', 'country_code': 'TR', 'description': 'This is a smart and intelligent cat which bonds well with humans. With its affectionate and playful personality the Angora is a top choice for families. The Angora gets along great with other pets in the home, but it will make clear who is in charge, and who the house belongs to', 'life_span': '15 - 18', 'indoor': 0, 'alt_names': 'Ankara', 'adaptability': 5, 'affection_level': 5, 'child_friendly': 4, 'dog_friendly': 5, 'energy_level': 5, 'grooming': 2, 'health_issues': 2, 'intelligence': 5, 'shedding_level': 2, 'social_needs': 5, 'stranger_friendly': 5, 'vocalisation': 3, 'experimental': 0, 'hairless': 0, 'natural': 1, 'rare': 0, 'rex': 0, 'suppressed_tail': 0, 'short_legs': 0, 'wikipedia_url': 'https://en.wikipedia.org/wiki/Turkish_Angora', 'hypoallergenic': 0, 'reference_image_id': '7CGV6WVXq', 'image': {'id': '7CGV6WVXq', 'width': 736, 'height': 1104, 'url': 'https://cdn2.thecatapi.com/images/7CGV6WVXq.jpg'}}, {'weight': {'imperial': '7 - 20', 'metric': '3 - 9'}, 'id': 'tvan', 'name': 'Turkish Van', 'cfa_url': 'http://cfa.org/Breeds/BreedsSthruT/TurkishVan.aspx', 'vetstreet_url': 'http://www.vetstreet.com/cats/turkish-van', 'vcahospitals_url': 'https://vcahospitals.com/know-your-pet/cat-breeds/turkish-van', 'temperament': 'Agile, Intelligent, Loyal, Playful, Energetic', 'origin': 'Turkey', 'country_codes': 'TR', 'country_code': 'TR', 'description': 'While the Turkish Van loves to jump and climb, play with toys, retrieve and play chase, she is is big and ungainly; this is one cat who doesn’t always land on his feet. While not much of a lap cat, the Van will be happy to cuddle next to you and sleep in your bed. ', 'life_span': '12 - 17', 'indoor': 0, 'alt_names': 'Turkish Cat, Swimming cat', 'adaptability': 5, 'affection_level': 5, 'child_friendly': 4, 'dog_friendly': 5, 'energy_level': 5, 'grooming': 2, 'health_issues': 1, 'intelligence': 5, 'shedding_level': 3, 'social_needs': 4, 'stranger_friendly': 4, 'vocalisation': 5, 'experimental': 0, 'hairless': 0, 'natural': 1, 'rare': 0, 'rex': 0, 'suppressed_tail': 0, 'short_legs': 0, 'wikipedia_url': 'https://en.wikipedia.org/wiki/Turkish_Van', 'hypoallergenic': 0, 'reference_image_id': 'sxIXJax6h', 'image': {'id': 'sxIXJax6h', 'width': 960, 'height': 1280, 'url': 'https://cdn2.thecatapi.com/images/sxIXJax6h.jpg'}}, {'weight': {'imperial': '12 - 18', 'metric': '5 - 8'}, 'id': 'ycho', 'name': 'York Chocolate', 'temperament': 'Playful, Social, Intelligent, Curious, Friendly', 'origin': 'United States', 'country_codes': 'US', 'country_code': 'US', 'description': \"York Chocolate cats are known to be true lap cats with a sweet temperament. They love to be cuddled and petted. Their curious nature makes them follow you all the time and participate in almost everything you do, even if it's related to water: unlike many other cats, York Chocolates love it.\", 'life_span': '13 - 15', 'indoor': 0, 'lap': 1, 'alt_names': 'York', 'adaptability': 5, 'affection_level': 5, 'child_friendly': 4, 'dog_friendly': 5, 'energy_level': 5, 'grooming': 3, 'health_issues': 1, 'intelligence': 5, 'shedding_level': 3, 'social_needs': 4, 'stranger_friendly': 4, 'vocalisation': 5, 'experimental': 0, 'hairless': 0, 'natural': 0, 'rare': 0, 'rex': 0, 'suppressed_tail': 0, 'short_legs': 0, 'wikipedia_url': 'https://en.wikipedia.org/wiki/York_Chocolate', 'hypoallergenic': 0, 'reference_image_id': '0SxW2SQ_S', 'image': {'id': '0SxW2SQ_S', 'width': 800, 'height': 1203, 'url': 'https://cdn2.thecatapi.com/images/0SxW2SQ_S.jpg'}}]"
      ]
     },
     "execution_count": 210,
     "metadata": {},
     "output_type": "execute_result"
    }
   ],
   "source": [
    "data"
   ]
  },
  {
   "cell_type": "code",
   "execution_count": 211,
   "metadata": {},
   "outputs": [],
   "source": [
    "df = pd.read_json('https://api.thecatapi.com/v1/breeds')"
   ]
  },
  {
   "cell_type": "code",
   "execution_count": 212,
   "metadata": {},
   "outputs": [
    {
     "data": {
      "text/html": [
       "<div>\n",
       "<style scoped>\n",
       "    .dataframe tbody tr th:only-of-type {\n",
       "        vertical-align: middle;\n",
       "    }\n",
       "\n",
       "    .dataframe tbody tr th {\n",
       "        vertical-align: top;\n",
       "    }\n",
       "\n",
       "    .dataframe thead th {\n",
       "        text-align: right;\n",
       "    }\n",
       "</style>\n",
       "<table border=\"1\" class=\"dataframe\">\n",
       "  <thead>\n",
       "    <tr style=\"text-align: right;\">\n",
       "      <th></th>\n",
       "      <th>weight</th>\n",
       "      <th>id</th>\n",
       "      <th>name</th>\n",
       "      <th>cfa_url</th>\n",
       "      <th>vetstreet_url</th>\n",
       "      <th>vcahospitals_url</th>\n",
       "      <th>temperament</th>\n",
       "      <th>origin</th>\n",
       "      <th>country_codes</th>\n",
       "      <th>country_code</th>\n",
       "      <th>...</th>\n",
       "      <th>rare</th>\n",
       "      <th>rex</th>\n",
       "      <th>suppressed_tail</th>\n",
       "      <th>short_legs</th>\n",
       "      <th>wikipedia_url</th>\n",
       "      <th>hypoallergenic</th>\n",
       "      <th>reference_image_id</th>\n",
       "      <th>image</th>\n",
       "      <th>cat_friendly</th>\n",
       "      <th>bidability</th>\n",
       "    </tr>\n",
       "  </thead>\n",
       "  <tbody>\n",
       "    <tr>\n",
       "      <th>0</th>\n",
       "      <td>{'imperial': '7  -  10', 'metric': '3 - 5'}</td>\n",
       "      <td>abys</td>\n",
       "      <td>Abyssinian</td>\n",
       "      <td>http://cfa.org/Breeds/BreedsAB/Abyssinian.aspx</td>\n",
       "      <td>http://www.vetstreet.com/cats/abyssinian</td>\n",
       "      <td>https://vcahospitals.com/know-your-pet/cat-bre...</td>\n",
       "      <td>Active, Energetic, Independent, Intelligent, G...</td>\n",
       "      <td>Egypt</td>\n",
       "      <td>EG</td>\n",
       "      <td>EG</td>\n",
       "      <td>...</td>\n",
       "      <td>0</td>\n",
       "      <td>0</td>\n",
       "      <td>0</td>\n",
       "      <td>0</td>\n",
       "      <td>https://en.wikipedia.org/wiki/Abyssinian_(cat)</td>\n",
       "      <td>0</td>\n",
       "      <td>0XYvRd7oD</td>\n",
       "      <td>{'id': '0XYvRd7oD', 'width': 1204, 'height': 1...</td>\n",
       "      <td>NaN</td>\n",
       "      <td>NaN</td>\n",
       "    </tr>\n",
       "    <tr>\n",
       "      <th>1</th>\n",
       "      <td>{'imperial': '7 - 10', 'metric': '3 - 5'}</td>\n",
       "      <td>aege</td>\n",
       "      <td>Aegean</td>\n",
       "      <td>NaN</td>\n",
       "      <td>http://www.vetstreet.com/cats/aegean-cat</td>\n",
       "      <td>NaN</td>\n",
       "      <td>Affectionate, Social, Intelligent, Playful, Ac...</td>\n",
       "      <td>Greece</td>\n",
       "      <td>GR</td>\n",
       "      <td>GR</td>\n",
       "      <td>...</td>\n",
       "      <td>0</td>\n",
       "      <td>0</td>\n",
       "      <td>0</td>\n",
       "      <td>0</td>\n",
       "      <td>https://en.wikipedia.org/wiki/Aegean_cat</td>\n",
       "      <td>0</td>\n",
       "      <td>ozEvzdVM-</td>\n",
       "      <td>{'id': 'ozEvzdVM-', 'width': 1200, 'height': 8...</td>\n",
       "      <td>NaN</td>\n",
       "      <td>NaN</td>\n",
       "    </tr>\n",
       "    <tr>\n",
       "      <th>2</th>\n",
       "      <td>{'imperial': '7 - 16', 'metric': '3 - 7'}</td>\n",
       "      <td>abob</td>\n",
       "      <td>American Bobtail</td>\n",
       "      <td>http://cfa.org/Breeds/BreedsAB/AmericanBobtail...</td>\n",
       "      <td>http://www.vetstreet.com/cats/american-bobtail</td>\n",
       "      <td>https://vcahospitals.com/know-your-pet/cat-bre...</td>\n",
       "      <td>Intelligent, Interactive, Lively, Playful, Sen...</td>\n",
       "      <td>United States</td>\n",
       "      <td>US</td>\n",
       "      <td>US</td>\n",
       "      <td>...</td>\n",
       "      <td>0</td>\n",
       "      <td>0</td>\n",
       "      <td>1</td>\n",
       "      <td>0</td>\n",
       "      <td>https://en.wikipedia.org/wiki/American_Bobtail</td>\n",
       "      <td>0</td>\n",
       "      <td>hBXicehMA</td>\n",
       "      <td>{'id': 'hBXicehMA', 'width': 1600, 'height': 9...</td>\n",
       "      <td>NaN</td>\n",
       "      <td>NaN</td>\n",
       "    </tr>\n",
       "    <tr>\n",
       "      <th>3</th>\n",
       "      <td>{'imperial': '5 - 10', 'metric': '2 - 5'}</td>\n",
       "      <td>acur</td>\n",
       "      <td>American Curl</td>\n",
       "      <td>http://cfa.org/Breeds/BreedsAB/AmericanCurl.aspx</td>\n",
       "      <td>http://www.vetstreet.com/cats/american-curl</td>\n",
       "      <td>https://vcahospitals.com/know-your-pet/cat-bre...</td>\n",
       "      <td>Affectionate, Curious, Intelligent, Interactiv...</td>\n",
       "      <td>United States</td>\n",
       "      <td>US</td>\n",
       "      <td>US</td>\n",
       "      <td>...</td>\n",
       "      <td>0</td>\n",
       "      <td>0</td>\n",
       "      <td>0</td>\n",
       "      <td>0</td>\n",
       "      <td>https://en.wikipedia.org/wiki/American_Curl</td>\n",
       "      <td>0</td>\n",
       "      <td>xnsqonbjW</td>\n",
       "      <td>{'id': 'xnsqonbjW', 'width': 1000, 'height': 9...</td>\n",
       "      <td>NaN</td>\n",
       "      <td>NaN</td>\n",
       "    </tr>\n",
       "    <tr>\n",
       "      <th>4</th>\n",
       "      <td>{'imperial': '8 - 15', 'metric': '4 - 7'}</td>\n",
       "      <td>asho</td>\n",
       "      <td>American Shorthair</td>\n",
       "      <td>http://cfa.org/Breeds/BreedsAB/AmericanShortha...</td>\n",
       "      <td>http://www.vetstreet.com/cats/american-shorthair</td>\n",
       "      <td>https://vcahospitals.com/know-your-pet/cat-bre...</td>\n",
       "      <td>Active, Curious, Easy Going, Playful, Calm</td>\n",
       "      <td>United States</td>\n",
       "      <td>US</td>\n",
       "      <td>US</td>\n",
       "      <td>...</td>\n",
       "      <td>0</td>\n",
       "      <td>0</td>\n",
       "      <td>0</td>\n",
       "      <td>0</td>\n",
       "      <td>https://en.wikipedia.org/wiki/American_Shorthair</td>\n",
       "      <td>0</td>\n",
       "      <td>JFPROfGtQ</td>\n",
       "      <td>{'id': 'JFPROfGtQ', 'width': 1600, 'height': 1...</td>\n",
       "      <td>NaN</td>\n",
       "      <td>NaN</td>\n",
       "    </tr>\n",
       "    <tr>\n",
       "      <th>...</th>\n",
       "      <td>...</td>\n",
       "      <td>...</td>\n",
       "      <td>...</td>\n",
       "      <td>...</td>\n",
       "      <td>...</td>\n",
       "      <td>...</td>\n",
       "      <td>...</td>\n",
       "      <td>...</td>\n",
       "      <td>...</td>\n",
       "      <td>...</td>\n",
       "      <td>...</td>\n",
       "      <td>...</td>\n",
       "      <td>...</td>\n",
       "      <td>...</td>\n",
       "      <td>...</td>\n",
       "      <td>...</td>\n",
       "      <td>...</td>\n",
       "      <td>...</td>\n",
       "      <td>...</td>\n",
       "      <td>...</td>\n",
       "      <td>...</td>\n",
       "    </tr>\n",
       "    <tr>\n",
       "      <th>62</th>\n",
       "      <td>{'imperial': '6 - 12', 'metric': '3 - 5'}</td>\n",
       "      <td>tonk</td>\n",
       "      <td>Tonkinese</td>\n",
       "      <td>http://cfa.org/Breeds/BreedsSthruT/Tonkinese.aspx</td>\n",
       "      <td>http://www.vetstreet.com/cats/tonkinese</td>\n",
       "      <td>https://vcahospitals.com/know-your-pet/cat-bre...</td>\n",
       "      <td>Curious, Intelligent, Social, Lively, Outgoing...</td>\n",
       "      <td>Canada</td>\n",
       "      <td>CA</td>\n",
       "      <td>CA</td>\n",
       "      <td>...</td>\n",
       "      <td>0</td>\n",
       "      <td>0</td>\n",
       "      <td>0</td>\n",
       "      <td>0</td>\n",
       "      <td>https://en.wikipedia.org/wiki/Tonkinese_(cat)</td>\n",
       "      <td>0</td>\n",
       "      <td>KBroiVNCM</td>\n",
       "      <td>{'id': 'KBroiVNCM', 'width': 1080, 'height': 1...</td>\n",
       "      <td>NaN</td>\n",
       "      <td>NaN</td>\n",
       "    </tr>\n",
       "    <tr>\n",
       "      <th>63</th>\n",
       "      <td>{'imperial': '7 - 15', 'metric': '3 - 7'}</td>\n",
       "      <td>toyg</td>\n",
       "      <td>Toyger</td>\n",
       "      <td>NaN</td>\n",
       "      <td>http://www.vetstreet.com/cats/toyger</td>\n",
       "      <td>NaN</td>\n",
       "      <td>Playful, Social, Intelligent</td>\n",
       "      <td>United States</td>\n",
       "      <td>US</td>\n",
       "      <td>US</td>\n",
       "      <td>...</td>\n",
       "      <td>0</td>\n",
       "      <td>0</td>\n",
       "      <td>0</td>\n",
       "      <td>0</td>\n",
       "      <td>https://en.wikipedia.org/wiki/Toyger</td>\n",
       "      <td>0</td>\n",
       "      <td>O3F3_S1XN</td>\n",
       "      <td>{'id': 'O3F3_S1XN', 'width': 1080, 'height': 1...</td>\n",
       "      <td>NaN</td>\n",
       "      <td>NaN</td>\n",
       "    </tr>\n",
       "    <tr>\n",
       "      <th>64</th>\n",
       "      <td>{'imperial': '5 - 10', 'metric': '2 - 5'}</td>\n",
       "      <td>tang</td>\n",
       "      <td>Turkish Angora</td>\n",
       "      <td>http://cfa.org/Breeds/BreedsSthruT/TurkishAngo...</td>\n",
       "      <td>http://www.vetstreet.com/cats/turkish-angora</td>\n",
       "      <td>https://vcahospitals.com/know-your-pet/cat-bre...</td>\n",
       "      <td>Affectionate, Agile, Clever, Gentle, Intellige...</td>\n",
       "      <td>Turkey</td>\n",
       "      <td>TR</td>\n",
       "      <td>TR</td>\n",
       "      <td>...</td>\n",
       "      <td>0</td>\n",
       "      <td>0</td>\n",
       "      <td>0</td>\n",
       "      <td>0</td>\n",
       "      <td>https://en.wikipedia.org/wiki/Turkish_Angora</td>\n",
       "      <td>0</td>\n",
       "      <td>7CGV6WVXq</td>\n",
       "      <td>{'id': '7CGV6WVXq', 'width': 736, 'height': 11...</td>\n",
       "      <td>NaN</td>\n",
       "      <td>NaN</td>\n",
       "    </tr>\n",
       "    <tr>\n",
       "      <th>65</th>\n",
       "      <td>{'imperial': '7 - 20', 'metric': '3 - 9'}</td>\n",
       "      <td>tvan</td>\n",
       "      <td>Turkish Van</td>\n",
       "      <td>http://cfa.org/Breeds/BreedsSthruT/TurkishVan....</td>\n",
       "      <td>http://www.vetstreet.com/cats/turkish-van</td>\n",
       "      <td>https://vcahospitals.com/know-your-pet/cat-bre...</td>\n",
       "      <td>Agile, Intelligent, Loyal, Playful, Energetic</td>\n",
       "      <td>Turkey</td>\n",
       "      <td>TR</td>\n",
       "      <td>TR</td>\n",
       "      <td>...</td>\n",
       "      <td>0</td>\n",
       "      <td>0</td>\n",
       "      <td>0</td>\n",
       "      <td>0</td>\n",
       "      <td>https://en.wikipedia.org/wiki/Turkish_Van</td>\n",
       "      <td>0</td>\n",
       "      <td>sxIXJax6h</td>\n",
       "      <td>{'id': 'sxIXJax6h', 'width': 960, 'height': 12...</td>\n",
       "      <td>NaN</td>\n",
       "      <td>NaN</td>\n",
       "    </tr>\n",
       "    <tr>\n",
       "      <th>66</th>\n",
       "      <td>{'imperial': '12 - 18', 'metric': '5 - 8'}</td>\n",
       "      <td>ycho</td>\n",
       "      <td>York Chocolate</td>\n",
       "      <td>NaN</td>\n",
       "      <td>NaN</td>\n",
       "      <td>NaN</td>\n",
       "      <td>Playful, Social, Intelligent, Curious, Friendly</td>\n",
       "      <td>United States</td>\n",
       "      <td>US</td>\n",
       "      <td>US</td>\n",
       "      <td>...</td>\n",
       "      <td>0</td>\n",
       "      <td>0</td>\n",
       "      <td>0</td>\n",
       "      <td>0</td>\n",
       "      <td>https://en.wikipedia.org/wiki/York_Chocolate</td>\n",
       "      <td>0</td>\n",
       "      <td>0SxW2SQ_S</td>\n",
       "      <td>{'id': '0SxW2SQ_S', 'width': 800, 'height': 12...</td>\n",
       "      <td>NaN</td>\n",
       "      <td>NaN</td>\n",
       "    </tr>\n",
       "  </tbody>\n",
       "</table>\n",
       "<p>67 rows × 40 columns</p>\n",
       "</div>"
      ],
      "text/plain": [
       "                                         weight    id                name  \\\n",
       "0   {'imperial': '7  -  10', 'metric': '3 - 5'}  abys          Abyssinian   \n",
       "1     {'imperial': '7 - 10', 'metric': '3 - 5'}  aege              Aegean   \n",
       "2     {'imperial': '7 - 16', 'metric': '3 - 7'}  abob    American Bobtail   \n",
       "3     {'imperial': '5 - 10', 'metric': '2 - 5'}  acur       American Curl   \n",
       "4     {'imperial': '8 - 15', 'metric': '4 - 7'}  asho  American Shorthair   \n",
       "..                                          ...   ...                 ...   \n",
       "62    {'imperial': '6 - 12', 'metric': '3 - 5'}  tonk           Tonkinese   \n",
       "63    {'imperial': '7 - 15', 'metric': '3 - 7'}  toyg              Toyger   \n",
       "64    {'imperial': '5 - 10', 'metric': '2 - 5'}  tang      Turkish Angora   \n",
       "65    {'imperial': '7 - 20', 'metric': '3 - 9'}  tvan         Turkish Van   \n",
       "66   {'imperial': '12 - 18', 'metric': '5 - 8'}  ycho      York Chocolate   \n",
       "\n",
       "                                              cfa_url  \\\n",
       "0      http://cfa.org/Breeds/BreedsAB/Abyssinian.aspx   \n",
       "1                                                 NaN   \n",
       "2   http://cfa.org/Breeds/BreedsAB/AmericanBobtail...   \n",
       "3    http://cfa.org/Breeds/BreedsAB/AmericanCurl.aspx   \n",
       "4   http://cfa.org/Breeds/BreedsAB/AmericanShortha...   \n",
       "..                                                ...   \n",
       "62  http://cfa.org/Breeds/BreedsSthruT/Tonkinese.aspx   \n",
       "63                                                NaN   \n",
       "64  http://cfa.org/Breeds/BreedsSthruT/TurkishAngo...   \n",
       "65  http://cfa.org/Breeds/BreedsSthruT/TurkishVan....   \n",
       "66                                                NaN   \n",
       "\n",
       "                                       vetstreet_url  \\\n",
       "0           http://www.vetstreet.com/cats/abyssinian   \n",
       "1           http://www.vetstreet.com/cats/aegean-cat   \n",
       "2     http://www.vetstreet.com/cats/american-bobtail   \n",
       "3        http://www.vetstreet.com/cats/american-curl   \n",
       "4   http://www.vetstreet.com/cats/american-shorthair   \n",
       "..                                               ...   \n",
       "62           http://www.vetstreet.com/cats/tonkinese   \n",
       "63              http://www.vetstreet.com/cats/toyger   \n",
       "64      http://www.vetstreet.com/cats/turkish-angora   \n",
       "65         http://www.vetstreet.com/cats/turkish-van   \n",
       "66                                               NaN   \n",
       "\n",
       "                                     vcahospitals_url  \\\n",
       "0   https://vcahospitals.com/know-your-pet/cat-bre...   \n",
       "1                                                 NaN   \n",
       "2   https://vcahospitals.com/know-your-pet/cat-bre...   \n",
       "3   https://vcahospitals.com/know-your-pet/cat-bre...   \n",
       "4   https://vcahospitals.com/know-your-pet/cat-bre...   \n",
       "..                                                ...   \n",
       "62  https://vcahospitals.com/know-your-pet/cat-bre...   \n",
       "63                                                NaN   \n",
       "64  https://vcahospitals.com/know-your-pet/cat-bre...   \n",
       "65  https://vcahospitals.com/know-your-pet/cat-bre...   \n",
       "66                                                NaN   \n",
       "\n",
       "                                          temperament         origin  \\\n",
       "0   Active, Energetic, Independent, Intelligent, G...          Egypt   \n",
       "1   Affectionate, Social, Intelligent, Playful, Ac...         Greece   \n",
       "2   Intelligent, Interactive, Lively, Playful, Sen...  United States   \n",
       "3   Affectionate, Curious, Intelligent, Interactiv...  United States   \n",
       "4          Active, Curious, Easy Going, Playful, Calm  United States   \n",
       "..                                                ...            ...   \n",
       "62  Curious, Intelligent, Social, Lively, Outgoing...         Canada   \n",
       "63                       Playful, Social, Intelligent  United States   \n",
       "64  Affectionate, Agile, Clever, Gentle, Intellige...         Turkey   \n",
       "65      Agile, Intelligent, Loyal, Playful, Energetic         Turkey   \n",
       "66    Playful, Social, Intelligent, Curious, Friendly  United States   \n",
       "\n",
       "   country_codes country_code  ... rare rex  suppressed_tail  short_legs  \\\n",
       "0             EG           EG  ...    0   0                0           0   \n",
       "1             GR           GR  ...    0   0                0           0   \n",
       "2             US           US  ...    0   0                1           0   \n",
       "3             US           US  ...    0   0                0           0   \n",
       "4             US           US  ...    0   0                0           0   \n",
       "..           ...          ...  ...  ...  ..              ...         ...   \n",
       "62            CA           CA  ...    0   0                0           0   \n",
       "63            US           US  ...    0   0                0           0   \n",
       "64            TR           TR  ...    0   0                0           0   \n",
       "65            TR           TR  ...    0   0                0           0   \n",
       "66            US           US  ...    0   0                0           0   \n",
       "\n",
       "                                       wikipedia_url  hypoallergenic  \\\n",
       "0     https://en.wikipedia.org/wiki/Abyssinian_(cat)               0   \n",
       "1           https://en.wikipedia.org/wiki/Aegean_cat               0   \n",
       "2     https://en.wikipedia.org/wiki/American_Bobtail               0   \n",
       "3        https://en.wikipedia.org/wiki/American_Curl               0   \n",
       "4   https://en.wikipedia.org/wiki/American_Shorthair               0   \n",
       "..                                               ...             ...   \n",
       "62     https://en.wikipedia.org/wiki/Tonkinese_(cat)               0   \n",
       "63              https://en.wikipedia.org/wiki/Toyger               0   \n",
       "64      https://en.wikipedia.org/wiki/Turkish_Angora               0   \n",
       "65         https://en.wikipedia.org/wiki/Turkish_Van               0   \n",
       "66      https://en.wikipedia.org/wiki/York_Chocolate               0   \n",
       "\n",
       "    reference_image_id                                              image  \\\n",
       "0            0XYvRd7oD  {'id': '0XYvRd7oD', 'width': 1204, 'height': 1...   \n",
       "1            ozEvzdVM-  {'id': 'ozEvzdVM-', 'width': 1200, 'height': 8...   \n",
       "2            hBXicehMA  {'id': 'hBXicehMA', 'width': 1600, 'height': 9...   \n",
       "3            xnsqonbjW  {'id': 'xnsqonbjW', 'width': 1000, 'height': 9...   \n",
       "4            JFPROfGtQ  {'id': 'JFPROfGtQ', 'width': 1600, 'height': 1...   \n",
       "..                 ...                                                ...   \n",
       "62           KBroiVNCM  {'id': 'KBroiVNCM', 'width': 1080, 'height': 1...   \n",
       "63           O3F3_S1XN  {'id': 'O3F3_S1XN', 'width': 1080, 'height': 1...   \n",
       "64           7CGV6WVXq  {'id': '7CGV6WVXq', 'width': 736, 'height': 11...   \n",
       "65           sxIXJax6h  {'id': 'sxIXJax6h', 'width': 960, 'height': 12...   \n",
       "66           0SxW2SQ_S  {'id': '0SxW2SQ_S', 'width': 800, 'height': 12...   \n",
       "\n",
       "    cat_friendly  bidability  \n",
       "0            NaN         NaN  \n",
       "1            NaN         NaN  \n",
       "2            NaN         NaN  \n",
       "3            NaN         NaN  \n",
       "4            NaN         NaN  \n",
       "..           ...         ...  \n",
       "62           NaN         NaN  \n",
       "63           NaN         NaN  \n",
       "64           NaN         NaN  \n",
       "65           NaN         NaN  \n",
       "66           NaN         NaN  \n",
       "\n",
       "[67 rows x 40 columns]"
      ]
     },
     "execution_count": 212,
     "metadata": {},
     "output_type": "execute_result"
    }
   ],
   "source": [
    "df"
   ]
  },
  {
   "cell_type": "code",
   "execution_count": 213,
   "metadata": {},
   "outputs": [
    {
     "data": {
      "text/plain": [
       "Index(['weight', 'id', 'name', 'cfa_url', 'vetstreet_url', 'vcahospitals_url',\n",
       "       'temperament', 'origin', 'country_codes', 'country_code', 'description',\n",
       "       'life_span', 'indoor', 'lap', 'alt_names', 'adaptability',\n",
       "       'affection_level', 'child_friendly', 'dog_friendly', 'energy_level',\n",
       "       'grooming', 'health_issues', 'intelligence', 'shedding_level',\n",
       "       'social_needs', 'stranger_friendly', 'vocalisation', 'experimental',\n",
       "       'hairless', 'natural', 'rare', 'rex', 'suppressed_tail', 'short_legs',\n",
       "       'wikipedia_url', 'hypoallergenic', 'reference_image_id', 'image',\n",
       "       'cat_friendly', 'bidability'],\n",
       "      dtype='object')"
      ]
     },
     "execution_count": 213,
     "metadata": {},
     "output_type": "execute_result"
    }
   ],
   "source": [
    "df.columns"
   ]
  },
  {
   "cell_type": "code",
   "execution_count": 214,
   "metadata": {},
   "outputs": [
    {
     "data": {
      "text/plain": [
       "(67, 40)"
      ]
     },
     "execution_count": 214,
     "metadata": {},
     "output_type": "execute_result"
    }
   ],
   "source": [
    "df.shape"
   ]
  },
  {
   "cell_type": "code",
   "execution_count": 215,
   "metadata": {},
   "outputs": [
    {
     "name": "stdout",
     "output_type": "stream",
     "text": [
      "['The', 'Abyssinian', 'is', 'easy', 'to', 'care', 'for,', 'and', 'a', 'joy', 'to', 'have', 'in', 'your', 'home.', 'They’re', 'affectionate', 'cats', 'and', 'love', 'both', 'people', 'and', 'other', 'animals.']\n",
      "['Native', 'to', 'the', 'Greek', 'islands', 'known', 'as', 'the', 'Cyclades', 'in', 'the', 'Aegean', 'Sea,', 'these', 'are', 'natural', 'cats,', 'meaning', 'they', 'developed', 'without', 'humans', 'getting', 'involved', 'in', 'their', 'breeding.', 'As', 'a', 'breed,', 'Aegean', 'Cats', 'are', 'rare,', 'although', 'they', 'are', 'numerous', 'on', 'their', 'home', 'islands.', 'They', 'are', 'generally', 'friendly', 'toward', 'people', 'and', 'can', 'be', 'excellent', 'cats', 'for', 'families', 'with', 'children.']\n",
      "['American', 'Bobtails', 'are', 'loving', 'and', 'incredibly', 'intelligent', 'cats', 'possessing', 'a', 'distinctive', 'wild', 'appearance.', 'They', 'are', 'extremely', 'interactive', 'cats', 'that', 'bond', 'with', 'their', 'human', 'family', 'with', 'great', 'devotion.']\n",
      "['Distinguished', 'by', 'truly', 'unique', 'ears', 'that', 'curl', 'back', 'in', 'a', 'graceful', 'arc,', 'offering', 'an', 'alert,', 'perky,', 'happily', 'surprised', 'expression,', 'they', 'cause', 'people', 'to', 'break', 'out', 'into', 'a', 'big', 'smile', 'when', 'viewing', 'their', 'first', 'Curl.', 'Curls', 'are', 'very', 'people-oriented,', 'faithful,', 'affectionate', 'soulmates,', 'adjusting', 'remarkably', 'fast', 'to', 'other', 'pets,', 'children,', 'and', 'new', 'situations.']\n",
      "['The', 'American', 'Shorthair', 'is', 'known', 'for', 'its', 'longevity,', 'robust', 'health,', 'good', 'looks,', 'sweet', 'personality,', 'and', 'amiability', 'with', 'children,', 'dogs,', 'and', 'other', 'pets.']\n",
      "['The', 'American', 'Wirehair', 'tends', 'to', 'be', 'a', 'calm', 'and', 'tolerant', 'cat', 'who', 'takes', 'life', 'as', 'it', 'comes.', 'His', 'favorite', 'hobby', 'is', 'bird-watching', 'from', 'a', 'sunny', 'windowsill,', 'and', 'his', 'hunting', 'ability', 'will', 'stand', 'you', 'in', 'good', 'stead', 'if', 'insects', 'enter', 'the', 'house.']\n",
      "['Arabian', 'Mau', 'cats', 'are', 'social', 'and', 'energetic.', 'Due', 'to', 'their', 'energy', 'levels,', 'these', 'cats', 'do', 'best', 'in', 'homes', 'where', 'their', 'owners', 'will', 'be', 'able', 'to', 'provide', 'them', 'with', 'plenty', 'of', 'playtime,', 'attention', 'and', 'interaction', 'from', 'their', 'owners.', 'These', 'kitties', 'are', 'friendly,', 'intelligent,', 'and', 'adaptable,', 'and', 'will', 'even', 'get', 'along', 'well', 'with', 'other', 'pets', 'and', 'children.']\n",
      "['The', 'Australian', 'Mist', 'thrives', 'on', 'human', 'companionship.', 'Tolerant', 'of', 'even', 'the', 'youngest', 'of', 'children,', 'these', 'friendly', 'felines', 'enjoy', 'playing', 'games', 'and', 'being', 'part', 'of', 'the', 'hustle', 'and', 'bustle', 'of', 'a', 'busy', 'household.', 'They', 'make', 'entertaining', 'companions', 'for', 'people', 'of', 'all', 'ages,', 'and', 'are', 'happy', 'to', 'remain', 'indoors', 'between', 'dusk', 'and', 'dawn', 'or', 'to', 'be', 'wholly', 'indoor', 'pets.']\n",
      "['Balinese', 'are', 'curious,', 'outgoing,', 'intelligent', 'cats', 'with', 'excellent', 'communication', 'skills.', 'They', 'are', 'known', 'for', 'their', 'chatty', 'personalities', 'and', 'are', 'always', 'eager', 'to', 'tell', 'you', 'their', 'views', 'on', 'life,', 'love,', 'and', 'what', 'you’ve', 'served', 'them', 'for', 'dinner.']\n",
      "['The', 'Bambino', 'is', 'a', 'breed', 'of', 'cat', 'that', 'was', 'created', 'as', 'a', 'cross', 'between', 'the', 'Sphynx', 'and', 'the', 'Munchkin', 'breeds.', 'The', 'Bambino', 'cat', 'has', 'short', 'legs,', 'large', 'upright', 'ears,', 'and', 'is', 'usually', 'hairless.', 'They', 'love', 'to', 'be', 'handled', 'and', 'cuddled', 'up', 'on', 'the', 'laps', 'of', 'their', 'family', 'members.']\n",
      "['Bengals', 'are', 'a', 'lot', 'of', 'fun', 'to', 'live', 'with,', 'but', \"they're\", 'definitely', 'not', 'the', 'cat', 'for', 'everyone,', 'or', 'for', 'first-time', 'cat', 'owners.', 'Extremely', 'intelligent,', 'curious', 'and', 'active,', 'they', 'demand', 'a', 'lot', 'of', 'interaction', 'and', 'woe', 'betide', 'the', 'owner', 'who', \"doesn't\", 'provide', 'it.']\n",
      "['The', 'Birman', 'is', 'a', 'docile,', 'quiet', 'cat', 'who', 'loves', 'people', 'and', 'will', 'follow', 'them', 'from', 'room', 'to', 'room.', 'Expect', 'the', 'Birman', 'to', 'want', 'to', 'be', 'involved', 'in', 'what', 'you’re', 'doing.', 'He', 'communicates', 'in', 'a', 'soft', 'voice,', 'mainly', 'to', 'remind', 'you', 'that', 'perhaps', 'it’s', 'time', 'for', 'dinner', 'or', 'maybe', 'for', 'a', 'nice', 'cuddle', 'on', 'the', 'sofa.', 'He', 'enjoys', 'being', 'held', 'and', 'will', 'relax', 'in', 'your', 'arms', 'like', 'a', 'furry', 'baby.']\n",
      "['The', 'the', 'golden', 'eyes', 'and', 'the', 'shiny', 'black', 'coa', 'of', 'the', 'Bopmbay', 'is', 'absolutely', 'striking.', 'Likely', 'to', 'bond', 'most', 'with', 'one', 'family', 'member,', 'the', 'Bombay', 'will', 'follow', 'you', 'from', 'room', 'to', 'room', 'and', 'will', 'almost', 'always', 'have', 'something', 'to', 'say', 'about', 'what', 'you', 'are', 'doing,', 'loving', 'attention', 'and', 'to', 'be', 'carried', 'around,', 'often', 'on', 'his', \"caregiver's\", 'shoulder.']\n",
      "['The', 'British', 'Longhair', 'is', 'a', 'very', 'laid-back', 'relaxed', 'cat,', 'often', 'perceived', 'to', 'be', 'very', 'independent', 'although', 'they', 'will', 'enjoy', 'the', 'company', 'of', 'an', 'equally', 'relaxed', 'and', 'likeminded', 'cat.', 'They', 'are', 'an', 'affectionate', 'breed,', 'but', 'very', 'much', 'on', 'their', 'own', 'terms', 'and', 'tend', 'to', 'prefer', 'to', 'choose', 'to', 'come', 'and', 'sit', 'with', 'their', 'owners', 'rather', 'than', 'being', 'picked', 'up.']\n",
      "['The', 'British', 'Shorthair', 'is', 'a', 'very', 'pleasant', 'cat', 'to', 'have', 'as', 'a', 'companion,', 'ans', 'is', 'easy', 'going', 'and', 'placid.', 'The', 'British', 'is', 'a', 'fiercely', 'loyal,', 'loving', 'cat', 'and', 'will', 'attach', 'herself', 'to', 'every', 'one', 'of', 'her', 'family', 'members.', 'While', 'loving', 'to', 'play,', 'she', \"doesn't\", 'need', 'hourly', 'attention.', 'If', 'she', 'is', 'in', 'the', 'mood', 'to', 'play,', 'she', 'will', 'find', 'someone', 'and', 'bring', 'a', 'toy', 'to', 'that', 'person.', 'The', 'British', 'also', 'plays', 'well', 'by', 'herself,', 'and', 'thus', 'is', 'a', 'good', 'companion', 'for', 'single', 'people.']\n",
      "['Burmese', 'love', 'being', 'with', 'people,', 'playing', 'with', 'them,', 'and', 'keeping', 'them', 'entertained.', 'They', 'crave', 'close', 'physical', 'contact', 'and', 'abhor', 'an', 'empty', 'lap.', 'They', 'will', 'follow', 'their', 'humans', 'from', 'room', 'to', 'room,', 'and', 'sleep', 'in', 'bed', 'with', 'them,', 'preferably', 'under', 'the', 'covers,', 'cuddled', 'as', 'close', 'as', 'possible.', 'At', 'play,', 'they', 'will', 'turn', 'around', 'to', 'see', 'if', 'their', 'human', 'is', 'watching', 'and', 'being', 'entertained', 'by', 'their', 'crazy', 'antics.']\n",
      "['The', 'Burmilla', 'is', 'a', 'fairly', 'placid', 'cat.', 'She', 'tends', 'to', 'be', 'an', 'easy', 'cat', 'to', 'get', 'along', 'with,', 'requiring', 'minimal', 'care.', 'The', 'Burmilla', 'is', 'affectionate', 'and', 'sweet', 'and', 'makes', 'a', 'good', 'companion,', 'the', 'Burmilla', 'is', 'an', 'ideal', 'companion', 'to', 'while', 'away', 'a', 'lonely', 'evening.', 'Loyal,', 'devoted,', 'and', 'affectionate,', 'this', 'cat', 'will', 'stay', 'by', 'its', 'owner,', 'always', 'keeping', 'them', 'company.']\n",
      "['Perhaps', 'the', 'only', 'thing', 'about', 'the', 'California', 'spangled', 'cat', 'that', 'isn’t', 'wild-like', 'is', 'its', 'personality.', 'Known', 'to', 'be', 'affectionate,', 'gentle', 'and', 'sociable,', 'this', 'breed', 'enjoys', 'spending', 'a', 'great', 'deal', 'of', 'time', 'with', 'its', 'owners.', 'They', 'are', 'very', 'playful,', 'often', 'choosing', 'to', 'perch', 'in', 'high', 'locations', 'and', 'show', 'off', 'their', 'acrobatic', 'skills.']\n",
      "['The', 'Chantilly', 'is', 'a', 'devoted', 'companion', 'and', 'prefers', 'company', 'to', 'being', 'left', 'alone.', 'While', 'the', 'Chantilly', 'is', 'not', 'demanding,', 'she', 'will', '\"chirp\"', 'and', '\"talk\"', 'as', 'if', 'having', 'a', 'conversation.', 'This', 'breed', 'is', 'affectionate,', 'with', 'a', 'sweet', 'temperament.', 'It', 'can', 'stay', 'still', 'for', 'extended', 'periods,', 'happily', 'lounging', 'in', 'the', 'lap', 'of', 'its', 'loved', 'one.', 'This', 'quality', 'makes', 'the', 'Tiffany', 'an', 'ideal', 'traveling', 'companion,', 'and', 'an', 'ideal', 'house', 'companion', 'for', 'senior', 'citizens', 'and', 'the', 'physically', 'handicapped.']\n",
      "['The', 'Chartreux', 'is', 'generally', 'silent', 'but', 'communicative.', 'Short', 'play', 'sessions,', 'mixed', 'with', 'naps', 'and', 'meals', 'are', 'their', 'perfect', 'day.', 'Whilst', 'appreciating', 'any', 'attention', 'you', 'give', 'them,', 'they', 'are', 'not', 'demanding,', 'content', 'instead', 'to', 'follow', 'you', 'around', 'devotedly,', 'sleep', 'on', 'your', 'bed', 'and', 'snuggle', 'with', 'you', 'if', 'you’re', 'not', 'feeling', 'well.']\n",
      "['For', 'those', 'owners', 'who', 'desire', 'a', 'feline', 'capable', 'of', 'evoking', 'the', 'great', 'outdoors,', 'the', 'strikingly', 'beautiful', 'Chausie', 'retains', 'a', 'bit', 'of', 'the', 'wild', 'in', 'its', 'appearance', 'but', 'has', 'the', 'house', 'manners', 'of', 'our', 'friendly,', 'familiar', 'moggies.', 'Very', 'playful,', 'this', 'cat', 'needs', 'a', 'large', 'amount', 'of', 'space', 'to', 'be', 'able', 'to', 'fully', 'embrace', 'its', 'hunting', 'instincts.']\n",
      "['The', 'Cheetoh', 'has', 'a', 'super', 'affectionate', 'nature', 'and', 'real', 'love', 'for', 'their', 'human', 'companions;', 'they', 'are', 'intelligent', 'with', 'the', 'ability', 'to', 'learn', 'quickly.', 'You', 'can', 'expect', 'that', 'a', 'Cheetoh', 'will', 'be', 'a', 'fun-loving', 'kitty', 'who', 'enjoys', 'playing,', 'running,', 'and', 'jumping', 'through', 'every', 'room', 'in', 'your', 'house.']\n",
      "['Colorpoint', 'Shorthairs', 'are', 'an', 'affectionate', 'breed,', 'devoted', 'and', 'loyal', 'to', 'their', 'people.', 'Sensitive', 'to', 'their', 'owner’s', 'moods,', 'Colorpoints', 'are', 'more', 'than', 'happy', 'to', 'sit', 'at', 'your', 'side', 'or', 'on', 'your', 'lap', 'and', 'purr', 'words', 'of', 'encouragement', 'on', 'a', 'bad', 'day.', 'They', 'will', 'constantly', 'seek', 'out', 'your', 'lap', 'whenever', 'it', 'is', 'open', 'and', 'in', 'the', 'moments', 'when', 'your', 'lap', 'is', 'preoccupied', 'they', 'will', 'stretch', 'out', 'in', 'sunny', 'spots', 'on', 'the', 'ground.']\n",
      "['This', 'is', 'a', 'confident', 'cat', 'who', 'loves', 'people', 'and', 'will', 'follow', 'them', 'around,', 'waiting', 'for', 'any', 'opportunity', 'to', 'sit', 'in', 'a', 'lap', 'or', 'give', 'a', 'kiss.', 'He', 'enjoys', 'being', 'handled,', 'making', 'it', 'easy', 'to', 'take', 'him', 'to', 'the', 'veterinarian', 'or', 'train', 'him', 'for', 'therapy', 'work.', 'The', 'Cornish', 'Rex', 'stay', 'in', 'kitten', 'mode', 'most', 'of', 'their', 'lives', 'and', 'well', 'into', 'their', 'senior', 'years.']\n",
      "['The', 'Cymric', 'is', 'a', 'placid,', 'sweet', 'cat.', 'They', 'do', 'not', 'get', 'too', 'upset', 'about', 'anything', 'that', 'happens', 'in', 'their', 'world.', 'They', 'are', 'loving', 'companions', 'and', 'adore', 'people.', 'They', 'are', 'smart', 'and', 'dexterous,', 'capable', 'of', 'using', 'his', 'paws', 'to', 'get', 'into', 'cabinets', 'or', 'to', 'open', 'doors.']\n",
      "['Loving,', 'loyal,', 'social', 'and', 'inquisitive,', 'the', 'Cyprus', 'cat', 'forms', 'strong', 'ties', 'with', 'their', 'families', 'and', 'love', 'nothing', 'more', 'than', 'to', 'be', 'involved', 'in', 'everything', 'that', 'goes', 'on', 'in', 'their', 'surroundings.', 'They', 'are', 'not', 'overly', 'active', 'by', 'nature', 'which', 'makes', 'them', 'the', 'perfect', 'companion', 'for', 'people', 'who', 'would', 'like', 'to', 'share', 'their', 'homes', 'with', 'a', 'laid-back', 'relaxed', 'feline', 'companion.']\n",
      "['The', 'favourite', 'perch', 'of', 'the', 'Devon', 'Rex', 'is', 'right', 'at', 'head', 'level,', 'on', 'the', 'shoulder', 'of', 'her', 'favorite', 'person.', 'She', 'takes', 'a', 'lively', 'interest', 'in', 'everything', 'that', 'is', 'going', 'on', 'and', 'refuses', 'to', 'be', 'left', 'out', 'of', 'any', 'activity.', 'Count', 'on', 'her', 'to', 'stay', 'as', 'close', 'to', 'you', 'as', 'possible,', 'occasionally', 'communicating', 'his', 'opinions', 'in', 'a', 'quiet', 'voice.', 'She', 'loves', 'people', 'and', 'welcomes', 'the', 'attentions', 'of', 'friends', 'and', 'family', 'alike.']\n",
      "['Donskoy', 'are', 'affectionate,', 'intelligent,', 'and', 'easy-going.', 'They', 'demand', 'lots', 'of', 'attention', 'and', 'interaction.', 'The', 'Donskoy', 'also', 'gets', 'along', 'well', 'with', 'other', 'pets.', 'It', 'is', 'now', 'thought', 'the', 'same', 'gene', 'that', 'causes', 'degrees', 'of', 'hairlessness', 'in', 'the', 'Donskoy', 'also', 'causes', 'alterations', 'in', 'cat', 'personality,', 'making', 'them', 'calmer', 'the', 'less', 'hair', 'they', 'have.']\n",
      "['The', 'Dragon', 'Li', 'is', 'loyal,', 'but', 'not', 'particularly', 'affectionate.', 'They', 'are', 'known', 'to', 'be', 'very', 'intelligent,', 'and', 'their', 'natural', 'breed', 'status', 'means', 'that', \"they're\", 'very', 'active.', 'She', 'is', 'is', 'gentle', 'with', 'people,', 'and', 'has', 'a', 'reputation', 'as', 'a', 'talented', 'hunter', 'of', 'rats', 'and', 'other', 'vermin.']\n",
      "['The', 'Egyptian', 'Mau', 'is', 'gentle', 'and', 'reserved.', 'She', 'loves', 'her', 'people', 'and', 'desires', 'attention', 'and', 'affection', 'from', 'them', 'but', 'is', 'wary', 'of', 'others.', 'Early,', 'continuing', 'socialization', 'is', 'essential', 'with', 'this', 'sensitive', 'and', 'sometimes', 'shy', 'cat,', 'especially', 'if', 'you', 'plan', 'to', 'show', 'or', 'travel', 'with', 'her.', 'Otherwise,', 'she', 'can', 'be', 'easily', 'startled', 'by', 'unexpected', 'noises', 'or', 'events.']\n",
      "['The', 'European', 'Burmese', 'is', 'a', 'very', 'affectionate,', 'intelligent,', 'and', 'loyal', 'cat.', 'They', 'thrive', 'on', 'companionship', 'and', 'will', 'want', 'to', 'be', 'with', 'you,', 'participating', 'in', 'everything', 'you', 'do.', 'While', 'they', 'might', 'pick', 'a', 'favorite', 'family', 'member,', 'chances', 'are', 'that', 'they', 'will', 'interact', 'with', 'everyone', 'in', 'the', 'home,', 'as', 'well', 'as', 'any', 'visitors', 'that', 'come', 'to', 'call.', 'They', 'are', 'inquisitive', 'and', 'playful,', 'even', 'as', 'adults.']\n",
      "['The', 'Exotic', 'Shorthair', 'is', 'a', 'gentle', 'friendly', 'cat', 'that', 'has', 'the', 'same', 'personality', 'as', 'the', 'Persian.', 'They', 'love', 'having', 'fun,', 'don’t', 'mind', 'the', 'company', 'of', 'other', 'cats', 'and', 'dogs,', 'also', 'love', 'to', 'curl', 'up', 'for', 'a', 'sleep', 'in', 'a', 'safe', 'place.', 'Exotics', 'love', 'their', 'own', 'people,', 'but', 'around', 'strangers', 'they', 'are', 'cautious', 'at', 'first.', 'Given', 'time,', 'they', 'usually', 'warm', 'up', 'to', 'visitors.']\n",
      "['The', 'Havana', 'Brown', 'is', 'human', 'oriented,', 'playful,', 'and', 'curious.', 'She', 'has', 'a', 'strong', 'desire', 'to', 'spend', 'time', 'with', 'her', 'people', 'and', 'involve', 'herself', 'in', 'everything', 'they', 'do.', 'Being', 'naturally', 'inquisitive,', 'the', 'Havana', 'Brown', 'reaches', 'out', 'with', 'a', 'paw', 'to', 'touch', 'and', 'feel', 'when', 'investigating', 'curiosities', 'in', 'its', 'environment.', 'They', 'are', 'truly', 'sensitive', 'by', 'nature', 'and', 'frequently', 'gently', 'touch', 'their', 'human', 'companions', 'as', 'if', 'they', 'are', 'extending', 'a', 'paw', 'of', 'friendship.']\n",
      "['Calm', 'and', 'devoted,', 'Himalayans', 'make', 'excellent', 'companions,', 'though', 'they', 'prefer', 'a', 'quieter', 'home.', 'They', 'are', 'playful', 'in', 'a', 'sedate', 'kind', 'of', 'way', 'and', 'enjoy', 'having', 'an', 'assortment', 'of', 'toys.', 'The', 'Himalayan', 'will', 'stretch', 'out', 'next', 'to', 'you,', 'sleep', 'in', 'your', 'bed', 'and', 'even', 'sit', 'on', 'your', 'lap', 'when', 'she', 'is', 'in', 'the', 'mood.']\n",
      "['The', 'Japanese', 'Bobtail', 'is', 'an', 'active,', 'sweet,', 'loving', 'and', 'highly', 'intelligent', 'breed.', 'They', 'love', 'to', 'be', 'with', 'people', 'and', 'play', 'seemingly', 'endlessly.', 'They', 'learn', 'their', 'name', 'and', 'respond', 'to', 'it.', 'They', 'bring', 'toys', 'to', 'people', 'and', 'play', 'fetch', 'with', 'a', 'favorite', 'toy', 'for', 'hours.', 'Bobtails', 'are', 'social', 'and', 'are', 'at', 'their', 'best', 'when', 'in', 'the', 'company', 'of', 'people.', 'They', 'take', 'over', 'the', 'house', 'and', 'are', 'not', 'intimidated.', 'If', 'a', 'dog', 'is', 'in', 'the', 'house,', 'Bobtails', 'assume', 'Bobtails', 'are', 'in', 'charge.']\n",
      "['Javanese', 'are', 'endlessly', 'interested,', 'intelligent', 'and', 'active.', 'They', 'tend', 'to', 'enjoy', 'jumping', 'to', 'great', 'heights,', 'playing', 'with', 'fishing', 'pole-type', 'or', 'other', 'interactive', 'toys', 'and', 'just', 'generally', 'investigating', 'their', 'surroundings.', 'He', 'will', 'attempt', 'to', 'copy', 'things', 'you', 'do,', 'such', 'as', 'opening', 'doors', 'or', 'drawers.']\n",
      "['The', 'Khao', 'Manee', 'is', 'highly', 'intelligent,', 'with', 'an', 'extrovert', 'and', 'inquisitive', 'nature,', 'however', 'they', 'are', 'also', 'very', 'calm', 'and', 'relaxed,', 'making', 'them', 'an', 'idea', 'lap', 'cat.']\n",
      "['The', 'Korat', 'is', 'a', 'natural', 'breed,', 'and', 'one', 'of', 'the', 'oldest', 'stable', 'cat', 'breeds.', 'They', 'are', 'highly', 'intelligent', 'and', 'confident', 'cats', 'that', 'can', 'be', 'fearless,', 'although', 'they', 'are', 'startled', 'by', 'loud', 'sounds', 'and', 'sudden', 'movements.', 'Korats', 'form', 'strong', 'bonds', 'with', 'their', 'people', 'and', 'like', 'to', 'cuddle', 'and', 'stay', 'nearby.']\n",
      "['The', 'character', 'of', 'the', 'Kurilian', 'Bobtail', 'is', 'independent,', 'highly', 'intelligent,', 'clever,', 'inquisitive,', 'sociable,', 'playful,', 'trainable,', 'absent', 'of', 'aggression', 'and', 'very', 'gentle.', 'They', 'are', 'devoted', 'to', 'their', 'humans', 'and', 'when', 'allowed', 'are', 'either', 'on', 'the', 'lap', 'of', 'or', 'sleeping', 'in', 'bed', 'with', 'their', 'owners.']\n",
      "['LaPerms', 'are', 'gentle', 'and', 'affectionate', 'but', 'also', 'very', 'active.', 'Unlike', 'many', 'active', 'breeds,', 'the', 'LaPerm', 'is', 'also', 'quite', 'content', 'to', 'be', 'a', 'lap', 'cat.', 'The', 'LaPerm', 'will', 'often', 'follow', 'your', 'lead;', 'that', 'is,', 'if', 'they', 'are', 'busy', 'playing', 'and', 'you', 'decide', 'to', 'sit', 'and', 'relax,', 'simply', 'pick', 'up', 'your', 'LaPerm', 'and', 'sit', 'down', 'with', 'it,', 'and', 'it', 'will', 'stay', 'in', 'your', 'lap,', 'devouring', 'the', 'attention', 'you', 'give', 'it.']\n",
      "['They', 'are', 'known', 'for', 'their', 'size', 'and', 'luxurious', 'long', 'coat', 'Maine', 'Coons', 'are', 'considered', 'a', 'gentle', 'giant.', 'The', 'good-natured', 'and', 'affable', 'Maine', 'Coon', 'adapts', 'well', 'to', 'many', 'lifestyles', 'and', 'personalities.', 'She', 'likes', 'being', 'with', 'people', 'and', 'has', 'the', 'habit', 'of', 'following', 'them', 'around,', 'but', 'isn’t', 'needy.', 'Most', 'Maine', 'Coons', 'love', 'water', 'and', 'they', 'can', 'be', 'quite', 'good', 'swimmers.']\n",
      "['Malayans', 'love', 'to', 'explore', 'and', 'even', 'enjoy', 'traveling', 'by', 'way', 'of', 'a', 'cat', 'carrier.', 'They', 'are', 'quite', 'a', 'talkative', 'and', 'rather', 'loud', 'cat', 'with', 'an', 'apparent', 'strong', 'will.', 'These', 'cats', 'will', 'make', 'sure', 'that', 'you', 'give', 'it', 'the', 'attention', 'it', 'seeks', 'and', 'always', 'seem', 'to', 'want', 'to', 'be', 'held', 'and', 'hugged.', 'They', 'will', 'constantly', 'interact', 'with', 'people,', 'even', 'strangers.', 'They', 'love', 'to', 'play', 'and', 'cuddle.']\n",
      "['The', 'Manx', 'is', 'a', 'placid,', 'sweet', 'cat', 'that', 'is', 'gentle', 'and', 'playful.', 'She', 'never', 'seems', 'to', 'get', 'too', 'upset', 'about', 'anything.', 'She', 'is', 'a', 'loving', 'companion', 'and', 'adores', 'being', 'with', 'people.']\n",
      "['The', 'Munchkin', 'is', 'an', 'outgoing', 'cat', 'who', 'enjoys', 'being', 'handled.', 'She', 'has', 'lots', 'of', 'energy', 'and', 'is', 'faster', 'and', 'more', 'agile', 'than', 'she', 'looks.', 'The', 'shortness', 'of', 'their', 'legs', 'does', 'not', 'seem', 'to', 'interfere', 'with', 'their', 'running', 'and', 'leaping', 'abilities.']\n",
      "['The', 'Nebelung', 'may', 'have', 'a', 'reserved', 'nature,', 'but', 'she', 'loves', 'to', 'play', '(being', 'especially', 'fond', 'of', 'retrieving)', 'and', 'enjoys', 'jumping', 'or', 'climbing', 'to', 'high', 'places', 'where', 'she', 'can', 'study', 'people', 'and', 'situations', 'at', 'her', 'leisure', 'before', 'making', 'up', 'her', 'mind', 'about', 'whether', 'she', 'wants', 'to', 'get', 'involved.']\n",
      "['The', 'Norwegian', 'Forest', 'Cat', 'is', 'a', 'sweet,', 'loving', 'cat.', 'She', 'appreciates', 'praise', 'and', 'loves', 'to', 'interact', 'with', 'her', 'parent.', 'She', 'makes', 'a', 'loving', 'companion', 'and', 'bonds', 'with', 'her', 'parents', 'once', 'she', 'accepts', 'them', 'for', 'her', 'own.', 'She', 'is', 'still', 'a', 'hunter', 'at', 'heart.', 'She', 'loves', 'to', 'chase', 'toys', 'as', 'if', 'they', 'are', 'real.', 'She', 'is', 'territorial', 'and', 'patrols', 'several', 'times', 'each', 'day', 'to', 'make', 'certain', 'that', 'all', 'is', 'fine.']\n",
      "['Loyal', 'and', 'devoted', 'to', 'their', 'owners,', 'the', 'Ocicat', 'is', 'intelligent,', 'confident,', 'outgoing,', 'and', 'seems', 'to', 'have', 'many', 'dog', 'traits.', 'They', 'can', 'be', 'trained', 'to', 'fetch', 'toys,', 'walk', 'on', 'a', 'lead,', 'taught', 'to', \"'speak',\", 'come', 'when', 'called,', 'and', 'follow', 'other', 'commands.']\n",
      "['Orientals', 'are', 'passionate', 'about', 'the', 'people', 'in', 'their', 'lives.', 'They', 'become', 'extremely', 'attached', 'to', 'their', 'humans,', 'so', 'be', 'prepared', 'for', 'a', 'lifetime', 'commitment.', 'When', 'you', 'are', 'not', 'available', 'to', 'entertain', 'her,', 'an', 'Oriental', 'will', 'divert', 'herself', 'by', 'jumping', 'on', 'top', 'of', 'the', 'refrigerator,', 'opening', 'drawers,', 'seeking', 'out', 'new', 'hideaways.']\n",
      "['Persians', 'are', 'sweet,', 'gentle', 'cats', 'that', 'can', 'be', 'playful', 'or', 'quiet', 'and', 'laid-back.', 'Great', 'with', 'families', 'and', 'children,', 'they', 'absolutely', 'love', 'to', 'lounge', 'around', 'the', 'house.', 'While', 'they', 'don’t', 'mind', 'a', 'full', 'house', 'or', 'active', 'kids,', 'they’ll', 'usually', 'hide', 'when', 'they', 'need', 'some', 'alone', 'time.']\n",
      "['Companionable', 'and', 'affectionate,', 'the', 'Pixie-bob', 'wants', 'to', 'be', 'an', 'integral', 'part', 'of', 'the', 'family.', 'The', 'Pixie-Bob’s', 'ability', 'to', 'bond', 'with', 'their', 'humans', 'along', 'with', 'their', 'patient', 'personas', 'make', 'them', 'excellent', 'companions', 'for', 'children.']\n",
      "['The', 'Ragamuffin', 'is', 'calm,', 'even', 'tempered', 'and', 'gets', 'along', 'well', 'with', 'all', 'family', 'members.', 'Changes', 'in', 'routine', 'generally', 'do', 'not', 'upset', 'her.', 'She', 'is', 'an', 'ideal', 'companion', 'for', 'those', 'in', 'apartments,', 'and', 'with', 'children', 'due', 'to', 'her', 'patient', 'nature.']\n",
      "['Ragdolls', 'love', 'their', 'people,', 'greeting', 'them', 'at', 'the', 'door,', 'following', 'them', 'around', 'the', 'house,', 'and', 'leaping', 'into', 'a', 'lap', 'or', 'snuggling', 'in', 'bed', 'whenever', 'given', 'the', 'chance.', 'They', 'are', 'the', 'epitome', 'of', 'a', 'lap', 'cat,', 'enjoy', 'being', 'carried', 'and', 'collapsing', 'into', 'the', 'arms', 'of', 'anyone', 'who', 'holds', 'them.']\n",
      "['Russian', 'Blues', 'are', 'very', 'loving', 'and', 'reserved.', 'They', 'do', 'not', 'like', 'noisy', 'households', 'but', 'they', 'do', 'like', 'to', 'play', 'and', 'can', 'be', 'quite', 'active', 'when', 'outdoors.', 'They', 'bond', 'very', 'closely', 'with', 'their', 'owner', 'and', 'are', 'known', 'to', 'be', 'compatible', 'with', 'other', 'pets.']\n",
      "['Savannah', 'is', 'the', 'feline', 'version', 'of', 'a', 'dog.', 'Actively', 'seeking', 'social', 'interaction,', 'they', 'are', 'given', 'to', 'pouting', 'if', 'left', 'out.', 'Remaining', 'kitten-like', 'through', 'life.', 'Profoundly', 'loyal', 'to', 'immediate', 'family', 'members', 'whilst', 'questioning', 'the', 'presence', 'of', 'strangers.', 'Making', 'excellent', 'companions', 'that', 'are', 'loyal,', 'intelligent', 'and', 'eager', 'to', 'be', 'involved.']\n",
      "['The', 'Scottish', 'Fold', 'is', 'a', 'sweet,', 'charming', 'breed.', 'She', 'is', 'an', 'easy', 'cat', 'to', 'live', 'with', 'and', 'to', 'care', 'for.', 'She', 'is', 'affectionate', 'and', 'is', 'comfortable', 'with', 'all', 'members', 'of', 'her', 'family.', 'Her', 'tail', 'should', 'be', 'handled', 'gently.', 'Folds', 'are', 'known', 'for', 'sleeping', 'on', 'their', 'backs,', 'and', 'for', 'sitting', 'with', 'their', 'legs', 'stretched', 'out', 'and', 'their', 'paws', 'on', 'their', 'belly.', 'This', 'is', 'called', 'the', '\"Buddha', 'Position\".']\n",
      "['The', 'Selkirk', 'Rex', 'is', 'an', 'incredibly', 'patient,', 'loving,', 'and', 'tolerant', 'breed.', 'The', 'Selkirk', 'also', 'has', 'a', 'silly', 'side', 'and', 'is', 'sometimes', 'described', 'as', 'clownish.', 'She', 'loves', 'being', 'a', 'lap', 'cat', 'and', 'will', 'be', 'happy', 'to', 'chat', 'with', 'you', 'in', 'a', 'quiet', 'voice', 'if', 'you', 'talk', 'to', 'her.']\n",
      "['While', 'Siamese', 'cats', 'are', 'extremely', 'fond', 'of', 'their', 'people,', 'they', 'will', 'follow', 'you', 'around', 'and', 'supervise', 'your', 'every', 'move,', 'being', 'talkative', 'and', 'opinionated.', 'They', 'are', 'a', 'demanding', 'and', 'social', 'cat,', 'that', 'do', 'not', 'like', 'being', 'left', 'alone', 'for', 'long', 'periods.']\n",
      "['The', 'Siberians', 'dog', 'like', 'temperament', 'and', 'affection', 'makes', 'the', 'ideal', 'lap', 'cat', 'and', 'will', 'live', 'quite', 'happily', 'indoors.', 'Very', 'agile', 'and', 'powerful,', 'the', 'Siberian', 'cat', 'can', 'easily', 'leap', 'and', 'reach', 'high', 'places,', 'including', 'the', 'tops', 'of', 'refrigerators', 'and', 'even', 'doors.']\n",
      "['The', 'Singapura', 'is', 'usually', 'cautious', 'when', 'it', 'comes', 'to', 'meeting', 'new', 'people,', 'but', 'loves', 'attention', 'from', 'his', 'family', 'so', 'much', 'that', 'she', 'sometimes', 'has', 'the', 'reputation', 'of', 'being', 'a', 'pest.', 'This', 'is', 'a', 'highly', 'active,', 'curious', 'and', 'affectionate', 'cat.', 'She', 'may', 'be', 'small,', 'but', 'she', 'knows', 'she’s', 'in', 'charge']\n",
      "['The', 'Snowshoe', 'is', 'a', 'vibrant,', 'energetic,', 'affectionate', 'and', 'intelligent', 'cat.', 'They', 'love', 'being', 'around', 'people', 'which', 'makes', 'them', 'ideal', 'for', 'families,', 'and', 'becomes', 'unhappy', 'when', 'left', 'alone', 'for', 'long', 'periods', 'of', 'time.', 'Usually', 'attaching', 'themselves', 'to', 'one', 'person,', 'they', 'do', 'whatever', 'they', 'can', 'to', 'get', 'your', 'attention.']\n",
      "['The', 'Somali', 'lives', 'life', 'to', 'the', 'fullest.', 'He', 'climbs', 'higher,', 'jumps', 'farther,', 'plays', 'harder.', 'Nothing', 'escapes', 'the', 'notice', 'of', 'this', 'highly', 'intelligent', 'and', 'inquisitive', 'cat.', 'Somalis', 'love', 'the', 'company', 'of', 'humans', 'and', 'other', 'animals.']\n",
      "['The', 'Sphynx', 'is', 'an', 'intelligent,', 'inquisitive,', 'extremely', 'friendly', 'people-oriented', 'breed.', 'Sphynx', 'commonly', 'greet', 'their', 'owners', 'at', 'the', 'front', 'door,', 'with', 'obvious', 'excitement', 'and', 'happiness.', 'She', 'has', 'an', 'unexpected', 'sense', 'of', 'humor', 'that', 'is', 'often', 'at', 'odds', 'with', 'her', 'dour', 'expression.']\n",
      "['Intelligent', 'and', 'generous', 'with', 'their', 'affection,', 'a', 'Tonkinese', 'will', 'supervise', 'all', 'activities', 'with', 'curiosity.', 'Loving,', 'social,', 'active,', 'playful,', 'yet', 'content', 'to', 'be', 'a', 'lap', 'cat']\n",
      "['The', 'Toyger', 'has', 'a', 'sweet,', 'calm', 'personality', 'and', 'is', 'generally', 'friendly.', \"He's\", 'outgoing', 'enough', 'to', 'walk', 'on', 'a', 'leash,', 'energetic', 'enough', 'to', 'play', 'fetch', 'and', 'other', 'interactive', 'games,', 'and', 'confident', 'enough', 'to', 'get', 'along', 'with', 'other', 'cats', 'and', 'friendly', 'dogs.']\n",
      "['This', 'is', 'a', 'smart', 'and', 'intelligent', 'cat', 'which', 'bonds', 'well', 'with', 'humans.', 'With', 'its', 'affectionate', 'and', 'playful', 'personality', 'the', 'Angora', 'is', 'a', 'top', 'choice', 'for', 'families.', 'The', 'Angora', 'gets', 'along', 'great', 'with', 'other', 'pets', 'in', 'the', 'home,', 'but', 'it', 'will', 'make', 'clear', 'who', 'is', 'in', 'charge,', 'and', 'who', 'the', 'house', 'belongs', 'to']\n",
      "['While', 'the', 'Turkish', 'Van', 'loves', 'to', 'jump', 'and', 'climb,', 'play', 'with', 'toys,', 'retrieve', 'and', 'play', 'chase,', 'she', 'is', 'is', 'big', 'and', 'ungainly;', 'this', 'is', 'one', 'cat', 'who', 'doesn’t', 'always', 'land', 'on', 'his', 'feet.', 'While', 'not', 'much', 'of', 'a', 'lap', 'cat,', 'the', 'Van', 'will', 'be', 'happy', 'to', 'cuddle', 'next', 'to', 'you', 'and', 'sleep', 'in', 'your', 'bed.']\n",
      "['York', 'Chocolate', 'cats', 'are', 'known', 'to', 'be', 'true', 'lap', 'cats', 'with', 'a', 'sweet', 'temperament.', 'They', 'love', 'to', 'be', 'cuddled', 'and', 'petted.', 'Their', 'curious', 'nature', 'makes', 'them', 'follow', 'you', 'all', 'the', 'time', 'and', 'participate', 'in', 'almost', 'everything', 'you', 'do,', 'even', 'if', \"it's\", 'related', 'to', 'water:', 'unlike', 'many', 'other', 'cats,', 'York', 'Chocolates', 'love', 'it.']\n"
     ]
    }
   ],
   "source": [
    "for txt in df['description']:\n",
    "    print(txt.split())"
   ]
  },
  {
   "cell_type": "code",
   "execution_count": 216,
   "metadata": {},
   "outputs": [],
   "source": [
    "average_weight = []\n",
    "for w in df['weight']:\n",
    "    average_weight.append(int(w['metric'].split(' ')[0]) + int( w['metric'].split(' ')[2])/2)\n"
   ]
  },
  {
   "cell_type": "code",
   "execution_count": 217,
   "metadata": {},
   "outputs": [
    {
     "name": "stdout",
     "output_type": "stream",
     "text": [
      "6.32089552238806\n"
     ]
    }
   ],
   "source": [
    "print(sum(average_weight)/len(average_weight))"
   ]
  },
  {
   "cell_type": "code",
   "execution_count": 218,
   "metadata": {},
   "outputs": [],
   "source": [
    "df['average_weight'] = average_weight"
   ]
  },
  {
   "cell_type": "code",
   "execution_count": 219,
   "metadata": {},
   "outputs": [
    {
     "data": {
      "text/html": [
       "<div>\n",
       "<style scoped>\n",
       "    .dataframe tbody tr th:only-of-type {\n",
       "        vertical-align: middle;\n",
       "    }\n",
       "\n",
       "    .dataframe tbody tr th {\n",
       "        vertical-align: top;\n",
       "    }\n",
       "\n",
       "    .dataframe thead th {\n",
       "        text-align: right;\n",
       "    }\n",
       "</style>\n",
       "<table border=\"1\" class=\"dataframe\">\n",
       "  <thead>\n",
       "    <tr style=\"text-align: right;\">\n",
       "      <th></th>\n",
       "      <th>weight</th>\n",
       "      <th>id</th>\n",
       "      <th>name</th>\n",
       "      <th>cfa_url</th>\n",
       "      <th>vetstreet_url</th>\n",
       "      <th>vcahospitals_url</th>\n",
       "      <th>temperament</th>\n",
       "      <th>origin</th>\n",
       "      <th>country_codes</th>\n",
       "      <th>country_code</th>\n",
       "      <th>...</th>\n",
       "      <th>rex</th>\n",
       "      <th>suppressed_tail</th>\n",
       "      <th>short_legs</th>\n",
       "      <th>wikipedia_url</th>\n",
       "      <th>hypoallergenic</th>\n",
       "      <th>reference_image_id</th>\n",
       "      <th>image</th>\n",
       "      <th>cat_friendly</th>\n",
       "      <th>bidability</th>\n",
       "      <th>average_weight</th>\n",
       "    </tr>\n",
       "  </thead>\n",
       "  <tbody>\n",
       "    <tr>\n",
       "      <th>0</th>\n",
       "      <td>{'imperial': '7  -  10', 'metric': '3 - 5'}</td>\n",
       "      <td>abys</td>\n",
       "      <td>Abyssinian</td>\n",
       "      <td>http://cfa.org/Breeds/BreedsAB/Abyssinian.aspx</td>\n",
       "      <td>http://www.vetstreet.com/cats/abyssinian</td>\n",
       "      <td>https://vcahospitals.com/know-your-pet/cat-bre...</td>\n",
       "      <td>Active, Energetic, Independent, Intelligent, G...</td>\n",
       "      <td>Egypt</td>\n",
       "      <td>EG</td>\n",
       "      <td>EG</td>\n",
       "      <td>...</td>\n",
       "      <td>0</td>\n",
       "      <td>0</td>\n",
       "      <td>0</td>\n",
       "      <td>https://en.wikipedia.org/wiki/Abyssinian_(cat)</td>\n",
       "      <td>0</td>\n",
       "      <td>0XYvRd7oD</td>\n",
       "      <td>{'id': '0XYvRd7oD', 'width': 1204, 'height': 1...</td>\n",
       "      <td>NaN</td>\n",
       "      <td>NaN</td>\n",
       "      <td>5.5</td>\n",
       "    </tr>\n",
       "    <tr>\n",
       "      <th>1</th>\n",
       "      <td>{'imperial': '7 - 10', 'metric': '3 - 5'}</td>\n",
       "      <td>aege</td>\n",
       "      <td>Aegean</td>\n",
       "      <td>NaN</td>\n",
       "      <td>http://www.vetstreet.com/cats/aegean-cat</td>\n",
       "      <td>NaN</td>\n",
       "      <td>Affectionate, Social, Intelligent, Playful, Ac...</td>\n",
       "      <td>Greece</td>\n",
       "      <td>GR</td>\n",
       "      <td>GR</td>\n",
       "      <td>...</td>\n",
       "      <td>0</td>\n",
       "      <td>0</td>\n",
       "      <td>0</td>\n",
       "      <td>https://en.wikipedia.org/wiki/Aegean_cat</td>\n",
       "      <td>0</td>\n",
       "      <td>ozEvzdVM-</td>\n",
       "      <td>{'id': 'ozEvzdVM-', 'width': 1200, 'height': 8...</td>\n",
       "      <td>NaN</td>\n",
       "      <td>NaN</td>\n",
       "      <td>5.5</td>\n",
       "    </tr>\n",
       "    <tr>\n",
       "      <th>2</th>\n",
       "      <td>{'imperial': '7 - 16', 'metric': '3 - 7'}</td>\n",
       "      <td>abob</td>\n",
       "      <td>American Bobtail</td>\n",
       "      <td>http://cfa.org/Breeds/BreedsAB/AmericanBobtail...</td>\n",
       "      <td>http://www.vetstreet.com/cats/american-bobtail</td>\n",
       "      <td>https://vcahospitals.com/know-your-pet/cat-bre...</td>\n",
       "      <td>Intelligent, Interactive, Lively, Playful, Sen...</td>\n",
       "      <td>United States</td>\n",
       "      <td>US</td>\n",
       "      <td>US</td>\n",
       "      <td>...</td>\n",
       "      <td>0</td>\n",
       "      <td>1</td>\n",
       "      <td>0</td>\n",
       "      <td>https://en.wikipedia.org/wiki/American_Bobtail</td>\n",
       "      <td>0</td>\n",
       "      <td>hBXicehMA</td>\n",
       "      <td>{'id': 'hBXicehMA', 'width': 1600, 'height': 9...</td>\n",
       "      <td>NaN</td>\n",
       "      <td>NaN</td>\n",
       "      <td>6.5</td>\n",
       "    </tr>\n",
       "    <tr>\n",
       "      <th>3</th>\n",
       "      <td>{'imperial': '5 - 10', 'metric': '2 - 5'}</td>\n",
       "      <td>acur</td>\n",
       "      <td>American Curl</td>\n",
       "      <td>http://cfa.org/Breeds/BreedsAB/AmericanCurl.aspx</td>\n",
       "      <td>http://www.vetstreet.com/cats/american-curl</td>\n",
       "      <td>https://vcahospitals.com/know-your-pet/cat-bre...</td>\n",
       "      <td>Affectionate, Curious, Intelligent, Interactiv...</td>\n",
       "      <td>United States</td>\n",
       "      <td>US</td>\n",
       "      <td>US</td>\n",
       "      <td>...</td>\n",
       "      <td>0</td>\n",
       "      <td>0</td>\n",
       "      <td>0</td>\n",
       "      <td>https://en.wikipedia.org/wiki/American_Curl</td>\n",
       "      <td>0</td>\n",
       "      <td>xnsqonbjW</td>\n",
       "      <td>{'id': 'xnsqonbjW', 'width': 1000, 'height': 9...</td>\n",
       "      <td>NaN</td>\n",
       "      <td>NaN</td>\n",
       "      <td>4.5</td>\n",
       "    </tr>\n",
       "    <tr>\n",
       "      <th>4</th>\n",
       "      <td>{'imperial': '8 - 15', 'metric': '4 - 7'}</td>\n",
       "      <td>asho</td>\n",
       "      <td>American Shorthair</td>\n",
       "      <td>http://cfa.org/Breeds/BreedsAB/AmericanShortha...</td>\n",
       "      <td>http://www.vetstreet.com/cats/american-shorthair</td>\n",
       "      <td>https://vcahospitals.com/know-your-pet/cat-bre...</td>\n",
       "      <td>Active, Curious, Easy Going, Playful, Calm</td>\n",
       "      <td>United States</td>\n",
       "      <td>US</td>\n",
       "      <td>US</td>\n",
       "      <td>...</td>\n",
       "      <td>0</td>\n",
       "      <td>0</td>\n",
       "      <td>0</td>\n",
       "      <td>https://en.wikipedia.org/wiki/American_Shorthair</td>\n",
       "      <td>0</td>\n",
       "      <td>JFPROfGtQ</td>\n",
       "      <td>{'id': 'JFPROfGtQ', 'width': 1600, 'height': 1...</td>\n",
       "      <td>NaN</td>\n",
       "      <td>NaN</td>\n",
       "      <td>7.5</td>\n",
       "    </tr>\n",
       "    <tr>\n",
       "      <th>...</th>\n",
       "      <td>...</td>\n",
       "      <td>...</td>\n",
       "      <td>...</td>\n",
       "      <td>...</td>\n",
       "      <td>...</td>\n",
       "      <td>...</td>\n",
       "      <td>...</td>\n",
       "      <td>...</td>\n",
       "      <td>...</td>\n",
       "      <td>...</td>\n",
       "      <td>...</td>\n",
       "      <td>...</td>\n",
       "      <td>...</td>\n",
       "      <td>...</td>\n",
       "      <td>...</td>\n",
       "      <td>...</td>\n",
       "      <td>...</td>\n",
       "      <td>...</td>\n",
       "      <td>...</td>\n",
       "      <td>...</td>\n",
       "      <td>...</td>\n",
       "    </tr>\n",
       "    <tr>\n",
       "      <th>62</th>\n",
       "      <td>{'imperial': '6 - 12', 'metric': '3 - 5'}</td>\n",
       "      <td>tonk</td>\n",
       "      <td>Tonkinese</td>\n",
       "      <td>http://cfa.org/Breeds/BreedsSthruT/Tonkinese.aspx</td>\n",
       "      <td>http://www.vetstreet.com/cats/tonkinese</td>\n",
       "      <td>https://vcahospitals.com/know-your-pet/cat-bre...</td>\n",
       "      <td>Curious, Intelligent, Social, Lively, Outgoing...</td>\n",
       "      <td>Canada</td>\n",
       "      <td>CA</td>\n",
       "      <td>CA</td>\n",
       "      <td>...</td>\n",
       "      <td>0</td>\n",
       "      <td>0</td>\n",
       "      <td>0</td>\n",
       "      <td>https://en.wikipedia.org/wiki/Tonkinese_(cat)</td>\n",
       "      <td>0</td>\n",
       "      <td>KBroiVNCM</td>\n",
       "      <td>{'id': 'KBroiVNCM', 'width': 1080, 'height': 1...</td>\n",
       "      <td>NaN</td>\n",
       "      <td>NaN</td>\n",
       "      <td>5.5</td>\n",
       "    </tr>\n",
       "    <tr>\n",
       "      <th>63</th>\n",
       "      <td>{'imperial': '7 - 15', 'metric': '3 - 7'}</td>\n",
       "      <td>toyg</td>\n",
       "      <td>Toyger</td>\n",
       "      <td>NaN</td>\n",
       "      <td>http://www.vetstreet.com/cats/toyger</td>\n",
       "      <td>NaN</td>\n",
       "      <td>Playful, Social, Intelligent</td>\n",
       "      <td>United States</td>\n",
       "      <td>US</td>\n",
       "      <td>US</td>\n",
       "      <td>...</td>\n",
       "      <td>0</td>\n",
       "      <td>0</td>\n",
       "      <td>0</td>\n",
       "      <td>https://en.wikipedia.org/wiki/Toyger</td>\n",
       "      <td>0</td>\n",
       "      <td>O3F3_S1XN</td>\n",
       "      <td>{'id': 'O3F3_S1XN', 'width': 1080, 'height': 1...</td>\n",
       "      <td>NaN</td>\n",
       "      <td>NaN</td>\n",
       "      <td>6.5</td>\n",
       "    </tr>\n",
       "    <tr>\n",
       "      <th>64</th>\n",
       "      <td>{'imperial': '5 - 10', 'metric': '2 - 5'}</td>\n",
       "      <td>tang</td>\n",
       "      <td>Turkish Angora</td>\n",
       "      <td>http://cfa.org/Breeds/BreedsSthruT/TurkishAngo...</td>\n",
       "      <td>http://www.vetstreet.com/cats/turkish-angora</td>\n",
       "      <td>https://vcahospitals.com/know-your-pet/cat-bre...</td>\n",
       "      <td>Affectionate, Agile, Clever, Gentle, Intellige...</td>\n",
       "      <td>Turkey</td>\n",
       "      <td>TR</td>\n",
       "      <td>TR</td>\n",
       "      <td>...</td>\n",
       "      <td>0</td>\n",
       "      <td>0</td>\n",
       "      <td>0</td>\n",
       "      <td>https://en.wikipedia.org/wiki/Turkish_Angora</td>\n",
       "      <td>0</td>\n",
       "      <td>7CGV6WVXq</td>\n",
       "      <td>{'id': '7CGV6WVXq', 'width': 736, 'height': 11...</td>\n",
       "      <td>NaN</td>\n",
       "      <td>NaN</td>\n",
       "      <td>4.5</td>\n",
       "    </tr>\n",
       "    <tr>\n",
       "      <th>65</th>\n",
       "      <td>{'imperial': '7 - 20', 'metric': '3 - 9'}</td>\n",
       "      <td>tvan</td>\n",
       "      <td>Turkish Van</td>\n",
       "      <td>http://cfa.org/Breeds/BreedsSthruT/TurkishVan....</td>\n",
       "      <td>http://www.vetstreet.com/cats/turkish-van</td>\n",
       "      <td>https://vcahospitals.com/know-your-pet/cat-bre...</td>\n",
       "      <td>Agile, Intelligent, Loyal, Playful, Energetic</td>\n",
       "      <td>Turkey</td>\n",
       "      <td>TR</td>\n",
       "      <td>TR</td>\n",
       "      <td>...</td>\n",
       "      <td>0</td>\n",
       "      <td>0</td>\n",
       "      <td>0</td>\n",
       "      <td>https://en.wikipedia.org/wiki/Turkish_Van</td>\n",
       "      <td>0</td>\n",
       "      <td>sxIXJax6h</td>\n",
       "      <td>{'id': 'sxIXJax6h', 'width': 960, 'height': 12...</td>\n",
       "      <td>NaN</td>\n",
       "      <td>NaN</td>\n",
       "      <td>7.5</td>\n",
       "    </tr>\n",
       "    <tr>\n",
       "      <th>66</th>\n",
       "      <td>{'imperial': '12 - 18', 'metric': '5 - 8'}</td>\n",
       "      <td>ycho</td>\n",
       "      <td>York Chocolate</td>\n",
       "      <td>NaN</td>\n",
       "      <td>NaN</td>\n",
       "      <td>NaN</td>\n",
       "      <td>Playful, Social, Intelligent, Curious, Friendly</td>\n",
       "      <td>United States</td>\n",
       "      <td>US</td>\n",
       "      <td>US</td>\n",
       "      <td>...</td>\n",
       "      <td>0</td>\n",
       "      <td>0</td>\n",
       "      <td>0</td>\n",
       "      <td>https://en.wikipedia.org/wiki/York_Chocolate</td>\n",
       "      <td>0</td>\n",
       "      <td>0SxW2SQ_S</td>\n",
       "      <td>{'id': '0SxW2SQ_S', 'width': 800, 'height': 12...</td>\n",
       "      <td>NaN</td>\n",
       "      <td>NaN</td>\n",
       "      <td>9.0</td>\n",
       "    </tr>\n",
       "  </tbody>\n",
       "</table>\n",
       "<p>67 rows × 41 columns</p>\n",
       "</div>"
      ],
      "text/plain": [
       "                                         weight    id                name  \\\n",
       "0   {'imperial': '7  -  10', 'metric': '3 - 5'}  abys          Abyssinian   \n",
       "1     {'imperial': '7 - 10', 'metric': '3 - 5'}  aege              Aegean   \n",
       "2     {'imperial': '7 - 16', 'metric': '3 - 7'}  abob    American Bobtail   \n",
       "3     {'imperial': '5 - 10', 'metric': '2 - 5'}  acur       American Curl   \n",
       "4     {'imperial': '8 - 15', 'metric': '4 - 7'}  asho  American Shorthair   \n",
       "..                                          ...   ...                 ...   \n",
       "62    {'imperial': '6 - 12', 'metric': '3 - 5'}  tonk           Tonkinese   \n",
       "63    {'imperial': '7 - 15', 'metric': '3 - 7'}  toyg              Toyger   \n",
       "64    {'imperial': '5 - 10', 'metric': '2 - 5'}  tang      Turkish Angora   \n",
       "65    {'imperial': '7 - 20', 'metric': '3 - 9'}  tvan         Turkish Van   \n",
       "66   {'imperial': '12 - 18', 'metric': '5 - 8'}  ycho      York Chocolate   \n",
       "\n",
       "                                              cfa_url  \\\n",
       "0      http://cfa.org/Breeds/BreedsAB/Abyssinian.aspx   \n",
       "1                                                 NaN   \n",
       "2   http://cfa.org/Breeds/BreedsAB/AmericanBobtail...   \n",
       "3    http://cfa.org/Breeds/BreedsAB/AmericanCurl.aspx   \n",
       "4   http://cfa.org/Breeds/BreedsAB/AmericanShortha...   \n",
       "..                                                ...   \n",
       "62  http://cfa.org/Breeds/BreedsSthruT/Tonkinese.aspx   \n",
       "63                                                NaN   \n",
       "64  http://cfa.org/Breeds/BreedsSthruT/TurkishAngo...   \n",
       "65  http://cfa.org/Breeds/BreedsSthruT/TurkishVan....   \n",
       "66                                                NaN   \n",
       "\n",
       "                                       vetstreet_url  \\\n",
       "0           http://www.vetstreet.com/cats/abyssinian   \n",
       "1           http://www.vetstreet.com/cats/aegean-cat   \n",
       "2     http://www.vetstreet.com/cats/american-bobtail   \n",
       "3        http://www.vetstreet.com/cats/american-curl   \n",
       "4   http://www.vetstreet.com/cats/american-shorthair   \n",
       "..                                               ...   \n",
       "62           http://www.vetstreet.com/cats/tonkinese   \n",
       "63              http://www.vetstreet.com/cats/toyger   \n",
       "64      http://www.vetstreet.com/cats/turkish-angora   \n",
       "65         http://www.vetstreet.com/cats/turkish-van   \n",
       "66                                               NaN   \n",
       "\n",
       "                                     vcahospitals_url  \\\n",
       "0   https://vcahospitals.com/know-your-pet/cat-bre...   \n",
       "1                                                 NaN   \n",
       "2   https://vcahospitals.com/know-your-pet/cat-bre...   \n",
       "3   https://vcahospitals.com/know-your-pet/cat-bre...   \n",
       "4   https://vcahospitals.com/know-your-pet/cat-bre...   \n",
       "..                                                ...   \n",
       "62  https://vcahospitals.com/know-your-pet/cat-bre...   \n",
       "63                                                NaN   \n",
       "64  https://vcahospitals.com/know-your-pet/cat-bre...   \n",
       "65  https://vcahospitals.com/know-your-pet/cat-bre...   \n",
       "66                                                NaN   \n",
       "\n",
       "                                          temperament         origin  \\\n",
       "0   Active, Energetic, Independent, Intelligent, G...          Egypt   \n",
       "1   Affectionate, Social, Intelligent, Playful, Ac...         Greece   \n",
       "2   Intelligent, Interactive, Lively, Playful, Sen...  United States   \n",
       "3   Affectionate, Curious, Intelligent, Interactiv...  United States   \n",
       "4          Active, Curious, Easy Going, Playful, Calm  United States   \n",
       "..                                                ...            ...   \n",
       "62  Curious, Intelligent, Social, Lively, Outgoing...         Canada   \n",
       "63                       Playful, Social, Intelligent  United States   \n",
       "64  Affectionate, Agile, Clever, Gentle, Intellige...         Turkey   \n",
       "65      Agile, Intelligent, Loyal, Playful, Energetic         Turkey   \n",
       "66    Playful, Social, Intelligent, Curious, Friendly  United States   \n",
       "\n",
       "   country_codes country_code  ... rex suppressed_tail  short_legs  \\\n",
       "0             EG           EG  ...   0               0           0   \n",
       "1             GR           GR  ...   0               0           0   \n",
       "2             US           US  ...   0               1           0   \n",
       "3             US           US  ...   0               0           0   \n",
       "4             US           US  ...   0               0           0   \n",
       "..           ...          ...  ...  ..             ...         ...   \n",
       "62            CA           CA  ...   0               0           0   \n",
       "63            US           US  ...   0               0           0   \n",
       "64            TR           TR  ...   0               0           0   \n",
       "65            TR           TR  ...   0               0           0   \n",
       "66            US           US  ...   0               0           0   \n",
       "\n",
       "                                       wikipedia_url hypoallergenic  \\\n",
       "0     https://en.wikipedia.org/wiki/Abyssinian_(cat)              0   \n",
       "1           https://en.wikipedia.org/wiki/Aegean_cat              0   \n",
       "2     https://en.wikipedia.org/wiki/American_Bobtail              0   \n",
       "3        https://en.wikipedia.org/wiki/American_Curl              0   \n",
       "4   https://en.wikipedia.org/wiki/American_Shorthair              0   \n",
       "..                                               ...            ...   \n",
       "62     https://en.wikipedia.org/wiki/Tonkinese_(cat)              0   \n",
       "63              https://en.wikipedia.org/wiki/Toyger              0   \n",
       "64      https://en.wikipedia.org/wiki/Turkish_Angora              0   \n",
       "65         https://en.wikipedia.org/wiki/Turkish_Van              0   \n",
       "66      https://en.wikipedia.org/wiki/York_Chocolate              0   \n",
       "\n",
       "    reference_image_id                                              image  \\\n",
       "0            0XYvRd7oD  {'id': '0XYvRd7oD', 'width': 1204, 'height': 1...   \n",
       "1            ozEvzdVM-  {'id': 'ozEvzdVM-', 'width': 1200, 'height': 8...   \n",
       "2            hBXicehMA  {'id': 'hBXicehMA', 'width': 1600, 'height': 9...   \n",
       "3            xnsqonbjW  {'id': 'xnsqonbjW', 'width': 1000, 'height': 9...   \n",
       "4            JFPROfGtQ  {'id': 'JFPROfGtQ', 'width': 1600, 'height': 1...   \n",
       "..                 ...                                                ...   \n",
       "62           KBroiVNCM  {'id': 'KBroiVNCM', 'width': 1080, 'height': 1...   \n",
       "63           O3F3_S1XN  {'id': 'O3F3_S1XN', 'width': 1080, 'height': 1...   \n",
       "64           7CGV6WVXq  {'id': '7CGV6WVXq', 'width': 736, 'height': 11...   \n",
       "65           sxIXJax6h  {'id': 'sxIXJax6h', 'width': 960, 'height': 12...   \n",
       "66           0SxW2SQ_S  {'id': '0SxW2SQ_S', 'width': 800, 'height': 12...   \n",
       "\n",
       "    cat_friendly  bidability  average_weight  \n",
       "0            NaN         NaN             5.5  \n",
       "1            NaN         NaN             5.5  \n",
       "2            NaN         NaN             6.5  \n",
       "3            NaN         NaN             4.5  \n",
       "4            NaN         NaN             7.5  \n",
       "..           ...         ...             ...  \n",
       "62           NaN         NaN             5.5  \n",
       "63           NaN         NaN             6.5  \n",
       "64           NaN         NaN             4.5  \n",
       "65           NaN         NaN             7.5  \n",
       "66           NaN         NaN             9.0  \n",
       "\n",
       "[67 rows x 41 columns]"
      ]
     },
     "execution_count": 219,
     "metadata": {},
     "output_type": "execute_result"
    }
   ],
   "source": [
    "df"
   ]
  },
  {
   "cell_type": "code",
   "execution_count": null,
   "metadata": {},
   "outputs": [],
   "source": []
  },
  {
   "cell_type": "code",
   "execution_count": 220,
   "metadata": {},
   "outputs": [],
   "source": [
    "countries = df.groupby('origin', sort=True).count()['name'].index\n",
    "numbers = list(df.groupby('origin').count()['name'])\n"
   ]
  },
  {
   "cell_type": "code",
   "execution_count": 221,
   "metadata": {},
   "outputs": [
    {
     "data": {
      "image/png": "[encoded data removed]",
      "text/plain": [
       "<Figure size 432x288 with 1 Axes>"
      ]
     },
     "metadata": {
      "needs_background": "light"
     },
     "output_type": "display_data"
    }
   ],
   "source": [
    "plt.bar(countries, numbers)\n",
    "plt.xticks(rotation='vertical')\n",
    "plt.show()"
   ]
  },
  {
   "cell_type": "code",
   "execution_count": 222,
   "metadata": {},
   "outputs": [
    {
     "data": {
      "image/png": "[encoded data removed]",
      "text/plain": [
       "<Figure size 432x288 with 1 Axes>"
      ]
     },
     "metadata": {},
     "output_type": "display_data"
    }
   ],
   "source": [
    "\n",
    "# Pie chart, where the slices will be ordered and plotted counter-clockwise:\n",
    "explode = (0, 0.1, 0, 0)  # only \"explode\" the 2nd slice (i.e. 'Hogs')\n",
    "\n",
    "fig1, ax1 = plt.subplots()\n",
    "ax1.pie(numbers, labels=countries, autopct='%1.1f%%',\n",
    "        shadow=True, startangle=90)\n",
    "ax1.axis('equal')  # Equal aspect ratio ensures that pie is drawn as a circle.\n",
    "\n",
    "plt.show()"
   ]
  },
  {
   "cell_type": "code",
   "execution_count": 225,
   "metadata": {},
   "outputs": [],
   "source": [
    "# df = pd.read_json('https://restcountries.com/v2/all')"
   ]
  },
  {
   "cell_type": "code",
   "execution_count": 230,
   "metadata": {},
   "outputs": [],
   "source": [
    "countries = load_data('https://restcountries.com/v2/all')"
   ]
  },
  {
   "cell_type": "code",
   "execution_count": 231,
   "metadata": {},
   "outputs": [],
   "source": [
    "df = pd.DataFrame(countries)"
   ]
  },
  {
   "cell_type": "code",
   "execution_count": 232,
   "metadata": {},
   "outputs": [
    {
     "data": {
      "text/html": [
       "<div>\n",
       "<style scoped>\n",
       "    .dataframe tbody tr th:only-of-type {\n",
       "        vertical-align: middle;\n",
       "    }\n",
       "\n",
       "    .dataframe tbody tr th {\n",
       "        vertical-align: top;\n",
       "    }\n",
       "\n",
       "    .dataframe thead th {\n",
       "        text-align: right;\n",
       "    }\n",
       "</style>\n",
       "<table border=\"1\" class=\"dataframe\">\n",
       "  <thead>\n",
       "    <tr style=\"text-align: right;\">\n",
       "      <th></th>\n",
       "      <th>name</th>\n",
       "      <th>topLevelDomain</th>\n",
       "      <th>alpha2Code</th>\n",
       "      <th>alpha3Code</th>\n",
       "      <th>callingCodes</th>\n",
       "      <th>capital</th>\n",
       "      <th>altSpellings</th>\n",
       "      <th>subregion</th>\n",
       "      <th>region</th>\n",
       "      <th>population</th>\n",
       "      <th>...</th>\n",
       "      <th>numericCode</th>\n",
       "      <th>flags</th>\n",
       "      <th>currencies</th>\n",
       "      <th>languages</th>\n",
       "      <th>translations</th>\n",
       "      <th>flag</th>\n",
       "      <th>regionalBlocs</th>\n",
       "      <th>cioc</th>\n",
       "      <th>independent</th>\n",
       "      <th>gini</th>\n",
       "    </tr>\n",
       "  </thead>\n",
       "  <tbody>\n",
       "    <tr>\n",
       "      <th>0</th>\n",
       "      <td>Afghanistan</td>\n",
       "      <td>[.af]</td>\n",
       "      <td>AF</td>\n",
       "      <td>AFG</td>\n",
       "      <td>[93]</td>\n",
       "      <td>Kabul</td>\n",
       "      <td>[AF, Afġānistān]</td>\n",
       "      <td>Southern Asia</td>\n",
       "      <td>Asia</td>\n",
       "      <td>40218234</td>\n",
       "      <td>...</td>\n",
       "      <td>004</td>\n",
       "      <td>{'svg': 'https://upload.wikimedia.org/wikipedi...</td>\n",
       "      <td>[{'code': 'AFN', 'name': 'Afghan afghani', 'sy...</td>\n",
       "      <td>[{'iso639_1': 'ps', 'iso639_2': 'pus', 'name':...</td>\n",
       "      <td>{'br': 'Afeganistão', 'pt': 'Afeganistão', 'nl...</td>\n",
       "      <td>https://upload.wikimedia.org/wikipedia/commons...</td>\n",
       "      <td>[{'acronym': 'SAARC', 'name': 'South Asian Ass...</td>\n",
       "      <td>AFG</td>\n",
       "      <td>True</td>\n",
       "      <td>NaN</td>\n",
       "    </tr>\n",
       "    <tr>\n",
       "      <th>1</th>\n",
       "      <td>Åland Islands</td>\n",
       "      <td>[.ax]</td>\n",
       "      <td>AX</td>\n",
       "      <td>ALA</td>\n",
       "      <td>[358]</td>\n",
       "      <td>Mariehamn</td>\n",
       "      <td>[AX, Aaland, Aland, Ahvenanmaa]</td>\n",
       "      <td>Northern Europe</td>\n",
       "      <td>Europe</td>\n",
       "      <td>28875</td>\n",
       "      <td>...</td>\n",
       "      <td>248</td>\n",
       "      <td>{'svg': 'https://flagcdn.com/ax.svg', 'png': '...</td>\n",
       "      <td>[{'code': 'EUR', 'name': 'Euro', 'symbol': '€'}]</td>\n",
       "      <td>[{'iso639_1': 'sv', 'iso639_2': 'swe', 'name':...</td>\n",
       "      <td>{'br': 'Ilhas de Aland', 'pt': 'Ilhas de Aland...</td>\n",
       "      <td>https://flagcdn.com/ax.svg</td>\n",
       "      <td>[{'acronym': 'EU', 'name': 'European Union'}]</td>\n",
       "      <td>NaN</td>\n",
       "      <td>False</td>\n",
       "      <td>NaN</td>\n",
       "    </tr>\n",
       "    <tr>\n",
       "      <th>2</th>\n",
       "      <td>Albania</td>\n",
       "      <td>[.al]</td>\n",
       "      <td>AL</td>\n",
       "      <td>ALB</td>\n",
       "      <td>[355]</td>\n",
       "      <td>Tirana</td>\n",
       "      <td>[AL, Shqipëri, Shqipëria, Shqipnia]</td>\n",
       "      <td>Southern Europe</td>\n",
       "      <td>Europe</td>\n",
       "      <td>2837743</td>\n",
       "      <td>...</td>\n",
       "      <td>008</td>\n",
       "      <td>{'svg': 'https://flagcdn.com/al.svg', 'png': '...</td>\n",
       "      <td>[{'code': 'ALL', 'name': 'Albanian lek', 'symb...</td>\n",
       "      <td>[{'iso639_1': 'sq', 'iso639_2': 'sqi', 'name':...</td>\n",
       "      <td>{'br': 'Albânia', 'pt': 'Albânia', 'nl': 'Alba...</td>\n",
       "      <td>https://flagcdn.com/al.svg</td>\n",
       "      <td>[{'acronym': 'CEFTA', 'name': 'Central Europea...</td>\n",
       "      <td>ALB</td>\n",
       "      <td>True</td>\n",
       "      <td>33.2</td>\n",
       "    </tr>\n",
       "    <tr>\n",
       "      <th>3</th>\n",
       "      <td>Algeria</td>\n",
       "      <td>[.dz]</td>\n",
       "      <td>DZ</td>\n",
       "      <td>DZA</td>\n",
       "      <td>[213]</td>\n",
       "      <td>Algiers</td>\n",
       "      <td>[DZ, Dzayer, Algérie]</td>\n",
       "      <td>Northern Africa</td>\n",
       "      <td>Africa</td>\n",
       "      <td>44700000</td>\n",
       "      <td>...</td>\n",
       "      <td>012</td>\n",
       "      <td>{'svg': 'https://flagcdn.com/dz.svg', 'png': '...</td>\n",
       "      <td>[{'code': 'DZD', 'name': 'Algerian dinar', 'sy...</td>\n",
       "      <td>[{'iso639_1': 'ar', 'iso639_2': 'ara', 'name':...</td>\n",
       "      <td>{'br': 'Argélia', 'pt': 'Argélia', 'nl': 'Alge...</td>\n",
       "      <td>https://flagcdn.com/dz.svg</td>\n",
       "      <td>[{'acronym': 'AU', 'name': 'African Union', 'o...</td>\n",
       "      <td>ALG</td>\n",
       "      <td>True</td>\n",
       "      <td>27.6</td>\n",
       "    </tr>\n",
       "    <tr>\n",
       "      <th>4</th>\n",
       "      <td>American Samoa</td>\n",
       "      <td>[.as]</td>\n",
       "      <td>AS</td>\n",
       "      <td>ASM</td>\n",
       "      <td>[1]</td>\n",
       "      <td>Pago Pago</td>\n",
       "      <td>[AS, Amerika Sāmoa, Amelika Sāmoa, Sāmoa Amelika]</td>\n",
       "      <td>Polynesia</td>\n",
       "      <td>Oceania</td>\n",
       "      <td>55197</td>\n",
       "      <td>...</td>\n",
       "      <td>016</td>\n",
       "      <td>{'svg': 'https://flagcdn.com/as.svg', 'png': '...</td>\n",
       "      <td>[{'code': 'USD', 'name': 'United States Dollar...</td>\n",
       "      <td>[{'iso639_1': 'en', 'iso639_2': 'eng', 'name':...</td>\n",
       "      <td>{'br': 'Samoa Americana', 'pt': 'Samoa America...</td>\n",
       "      <td>https://flagcdn.com/as.svg</td>\n",
       "      <td>NaN</td>\n",
       "      <td>ASA</td>\n",
       "      <td>False</td>\n",
       "      <td>NaN</td>\n",
       "    </tr>\n",
       "    <tr>\n",
       "      <th>...</th>\n",
       "      <td>...</td>\n",
       "      <td>...</td>\n",
       "      <td>...</td>\n",
       "      <td>...</td>\n",
       "      <td>...</td>\n",
       "      <td>...</td>\n",
       "      <td>...</td>\n",
       "      <td>...</td>\n",
       "      <td>...</td>\n",
       "      <td>...</td>\n",
       "      <td>...</td>\n",
       "      <td>...</td>\n",
       "      <td>...</td>\n",
       "      <td>...</td>\n",
       "      <td>...</td>\n",
       "      <td>...</td>\n",
       "      <td>...</td>\n",
       "      <td>...</td>\n",
       "      <td>...</td>\n",
       "      <td>...</td>\n",
       "      <td>...</td>\n",
       "    </tr>\n",
       "    <tr>\n",
       "      <th>245</th>\n",
       "      <td>Wallis and Futuna</td>\n",
       "      <td>[.wf]</td>\n",
       "      <td>WF</td>\n",
       "      <td>WLF</td>\n",
       "      <td>[681]</td>\n",
       "      <td>Mata-Utu</td>\n",
       "      <td>[WF, Territory of the Wallis and Futuna Island...</td>\n",
       "      <td>Polynesia</td>\n",
       "      <td>Oceania</td>\n",
       "      <td>11750</td>\n",
       "      <td>...</td>\n",
       "      <td>876</td>\n",
       "      <td>{'svg': 'https://flagcdn.com/wf.svg', 'png': '...</td>\n",
       "      <td>[{'code': 'XPF', 'name': 'CFP franc', 'symbol'...</td>\n",
       "      <td>[{'iso639_1': 'fr', 'iso639_2': 'fra', 'name':...</td>\n",
       "      <td>{'br': 'Wallis e Futuna', 'pt': 'Wallis e Futu...</td>\n",
       "      <td>https://flagcdn.com/wf.svg</td>\n",
       "      <td>NaN</td>\n",
       "      <td>NaN</td>\n",
       "      <td>False</td>\n",
       "      <td>NaN</td>\n",
       "    </tr>\n",
       "    <tr>\n",
       "      <th>246</th>\n",
       "      <td>Western Sahara</td>\n",
       "      <td>[.eh]</td>\n",
       "      <td>EH</td>\n",
       "      <td>ESH</td>\n",
       "      <td>[212]</td>\n",
       "      <td>El Aaiún</td>\n",
       "      <td>[EH, Taneẓroft Tutrimt]</td>\n",
       "      <td>Northern Africa</td>\n",
       "      <td>Africa</td>\n",
       "      <td>510713</td>\n",
       "      <td>...</td>\n",
       "      <td>732</td>\n",
       "      <td>{'svg': 'https://flagcdn.com/eh.svg', 'png': '...</td>\n",
       "      <td>[{'code': 'MAD', 'name': 'Moroccan dirham', 's...</td>\n",
       "      <td>[{'iso639_1': 'es', 'iso639_2': 'spa', 'name':...</td>\n",
       "      <td>{'br': 'Saara Ocidental', 'pt': 'Saara Ocident...</td>\n",
       "      <td>https://flagcdn.com/eh.svg</td>\n",
       "      <td>[{'acronym': 'AU', 'name': 'African Union', 'o...</td>\n",
       "      <td>NaN</td>\n",
       "      <td>False</td>\n",
       "      <td>NaN</td>\n",
       "    </tr>\n",
       "    <tr>\n",
       "      <th>247</th>\n",
       "      <td>Yemen</td>\n",
       "      <td>[.ye]</td>\n",
       "      <td>YE</td>\n",
       "      <td>YEM</td>\n",
       "      <td>[967]</td>\n",
       "      <td>Sana'a</td>\n",
       "      <td>[YE, Yemeni Republic, al-Jumhūriyyah al-Yamani...</td>\n",
       "      <td>Western Asia</td>\n",
       "      <td>Asia</td>\n",
       "      <td>29825968</td>\n",
       "      <td>...</td>\n",
       "      <td>887</td>\n",
       "      <td>{'svg': 'https://flagcdn.com/ye.svg', 'png': '...</td>\n",
       "      <td>[{'code': 'YER', 'name': 'Yemeni rial', 'symbo...</td>\n",
       "      <td>[{'iso639_1': 'ar', 'iso639_2': 'ara', 'name':...</td>\n",
       "      <td>{'br': 'Iêmen', 'pt': 'Iémen', 'nl': 'Jemen', ...</td>\n",
       "      <td>https://flagcdn.com/ye.svg</td>\n",
       "      <td>[{'acronym': 'AL', 'name': 'Arab League', 'oth...</td>\n",
       "      <td>YEM</td>\n",
       "      <td>True</td>\n",
       "      <td>36.7</td>\n",
       "    </tr>\n",
       "    <tr>\n",
       "      <th>248</th>\n",
       "      <td>Zambia</td>\n",
       "      <td>[.zm]</td>\n",
       "      <td>ZM</td>\n",
       "      <td>ZMB</td>\n",
       "      <td>[260]</td>\n",
       "      <td>Lusaka</td>\n",
       "      <td>[ZM, Republic of Zambia]</td>\n",
       "      <td>Eastern Africa</td>\n",
       "      <td>Africa</td>\n",
       "      <td>18383956</td>\n",
       "      <td>...</td>\n",
       "      <td>894</td>\n",
       "      <td>{'svg': 'https://flagcdn.com/zm.svg', 'png': '...</td>\n",
       "      <td>[{'code': 'ZMW', 'name': 'Zambian kwacha', 'sy...</td>\n",
       "      <td>[{'iso639_1': 'en', 'iso639_2': 'eng', 'name':...</td>\n",
       "      <td>{'br': 'Zâmbia', 'pt': 'Zâmbia', 'nl': 'Zambia...</td>\n",
       "      <td>https://flagcdn.com/zm.svg</td>\n",
       "      <td>[{'acronym': 'AU', 'name': 'African Union', 'o...</td>\n",
       "      <td>ZAM</td>\n",
       "      <td>True</td>\n",
       "      <td>57.1</td>\n",
       "    </tr>\n",
       "    <tr>\n",
       "      <th>249</th>\n",
       "      <td>Zimbabwe</td>\n",
       "      <td>[.zw]</td>\n",
       "      <td>ZW</td>\n",
       "      <td>ZWE</td>\n",
       "      <td>[263]</td>\n",
       "      <td>Harare</td>\n",
       "      <td>[ZW, Republic of Zimbabwe]</td>\n",
       "      <td>Southern Africa</td>\n",
       "      <td>Africa</td>\n",
       "      <td>14862927</td>\n",
       "      <td>...</td>\n",
       "      <td>716</td>\n",
       "      <td>{'svg': 'https://flagcdn.com/zw.svg', 'png': '...</td>\n",
       "      <td>[{'code': 'ZMW', 'name': 'Zambian kwacha', 'sy...</td>\n",
       "      <td>[{'iso639_1': 'en', 'iso639_2': 'eng', 'name':...</td>\n",
       "      <td>{'br': 'Zimbabwe', 'pt': 'Zimbabué', 'nl': 'Zi...</td>\n",
       "      <td>https://flagcdn.com/zw.svg</td>\n",
       "      <td>[{'acronym': 'AU', 'name': 'African Union', 'o...</td>\n",
       "      <td>ZIM</td>\n",
       "      <td>True</td>\n",
       "      <td>50.3</td>\n",
       "    </tr>\n",
       "  </tbody>\n",
       "</table>\n",
       "<p>250 rows × 26 columns</p>\n",
       "</div>"
      ],
      "text/plain": [
       "                  name topLevelDomain alpha2Code alpha3Code callingCodes  \\\n",
       "0          Afghanistan          [.af]         AF        AFG         [93]   \n",
       "1        Åland Islands          [.ax]         AX        ALA        [358]   \n",
       "2              Albania          [.al]         AL        ALB        [355]   \n",
       "3              Algeria          [.dz]         DZ        DZA        [213]   \n",
       "4       American Samoa          [.as]         AS        ASM          [1]   \n",
       "..                 ...            ...        ...        ...          ...   \n",
       "245  Wallis and Futuna          [.wf]         WF        WLF        [681]   \n",
       "246     Western Sahara          [.eh]         EH        ESH        [212]   \n",
       "247              Yemen          [.ye]         YE        YEM        [967]   \n",
       "248             Zambia          [.zm]         ZM        ZMB        [260]   \n",
       "249           Zimbabwe          [.zw]         ZW        ZWE        [263]   \n",
       "\n",
       "       capital                                       altSpellings  \\\n",
       "0        Kabul                                   [AF, Afġānistān]   \n",
       "1    Mariehamn                    [AX, Aaland, Aland, Ahvenanmaa]   \n",
       "2       Tirana                [AL, Shqipëri, Shqipëria, Shqipnia]   \n",
       "3      Algiers                              [DZ, Dzayer, Algérie]   \n",
       "4    Pago Pago  [AS, Amerika Sāmoa, Amelika Sāmoa, Sāmoa Amelika]   \n",
       "..         ...                                                ...   \n",
       "245   Mata-Utu  [WF, Territory of the Wallis and Futuna Island...   \n",
       "246   El Aaiún                            [EH, Taneẓroft Tutrimt]   \n",
       "247     Sana'a  [YE, Yemeni Republic, al-Jumhūriyyah al-Yamani...   \n",
       "248     Lusaka                           [ZM, Republic of Zambia]   \n",
       "249     Harare                         [ZW, Republic of Zimbabwe]   \n",
       "\n",
       "           subregion   region  population  ... numericCode  \\\n",
       "0      Southern Asia     Asia    40218234  ...         004   \n",
       "1    Northern Europe   Europe       28875  ...         248   \n",
       "2    Southern Europe   Europe     2837743  ...         008   \n",
       "3    Northern Africa   Africa    44700000  ...         012   \n",
       "4          Polynesia  Oceania       55197  ...         016   \n",
       "..               ...      ...         ...  ...         ...   \n",
       "245        Polynesia  Oceania       11750  ...         876   \n",
       "246  Northern Africa   Africa      510713  ...         732   \n",
       "247     Western Asia     Asia    29825968  ...         887   \n",
       "248   Eastern Africa   Africa    18383956  ...         894   \n",
       "249  Southern Africa   Africa    14862927  ...         716   \n",
       "\n",
       "                                                 flags  \\\n",
       "0    {'svg': 'https://upload.wikimedia.org/wikipedi...   \n",
       "1    {'svg': 'https://flagcdn.com/ax.svg', 'png': '...   \n",
       "2    {'svg': 'https://flagcdn.com/al.svg', 'png': '...   \n",
       "3    {'svg': 'https://flagcdn.com/dz.svg', 'png': '...   \n",
       "4    {'svg': 'https://flagcdn.com/as.svg', 'png': '...   \n",
       "..                                                 ...   \n",
       "245  {'svg': 'https://flagcdn.com/wf.svg', 'png': '...   \n",
       "246  {'svg': 'https://flagcdn.com/eh.svg', 'png': '...   \n",
       "247  {'svg': 'https://flagcdn.com/ye.svg', 'png': '...   \n",
       "248  {'svg': 'https://flagcdn.com/zm.svg', 'png': '...   \n",
       "249  {'svg': 'https://flagcdn.com/zw.svg', 'png': '...   \n",
       "\n",
       "                                            currencies  \\\n",
       "0    [{'code': 'AFN', 'name': 'Afghan afghani', 'sy...   \n",
       "1     [{'code': 'EUR', 'name': 'Euro', 'symbol': '€'}]   \n",
       "2    [{'code': 'ALL', 'name': 'Albanian lek', 'symb...   \n",
       "3    [{'code': 'DZD', 'name': 'Algerian dinar', 'sy...   \n",
       "4    [{'code': 'USD', 'name': 'United States Dollar...   \n",
       "..                                                 ...   \n",
       "245  [{'code': 'XPF', 'name': 'CFP franc', 'symbol'...   \n",
       "246  [{'code': 'MAD', 'name': 'Moroccan dirham', 's...   \n",
       "247  [{'code': 'YER', 'name': 'Yemeni rial', 'symbo...   \n",
       "248  [{'code': 'ZMW', 'name': 'Zambian kwacha', 'sy...   \n",
       "249  [{'code': 'ZMW', 'name': 'Zambian kwacha', 'sy...   \n",
       "\n",
       "                                             languages  \\\n",
       "0    [{'iso639_1': 'ps', 'iso639_2': 'pus', 'name':...   \n",
       "1    [{'iso639_1': 'sv', 'iso639_2': 'swe', 'name':...   \n",
       "2    [{'iso639_1': 'sq', 'iso639_2': 'sqi', 'name':...   \n",
       "3    [{'iso639_1': 'ar', 'iso639_2': 'ara', 'name':...   \n",
       "4    [{'iso639_1': 'en', 'iso639_2': 'eng', 'name':...   \n",
       "..                                                 ...   \n",
       "245  [{'iso639_1': 'fr', 'iso639_2': 'fra', 'name':...   \n",
       "246  [{'iso639_1': 'es', 'iso639_2': 'spa', 'name':...   \n",
       "247  [{'iso639_1': 'ar', 'iso639_2': 'ara', 'name':...   \n",
       "248  [{'iso639_1': 'en', 'iso639_2': 'eng', 'name':...   \n",
       "249  [{'iso639_1': 'en', 'iso639_2': 'eng', 'name':...   \n",
       "\n",
       "                                          translations  \\\n",
       "0    {'br': 'Afeganistão', 'pt': 'Afeganistão', 'nl...   \n",
       "1    {'br': 'Ilhas de Aland', 'pt': 'Ilhas de Aland...   \n",
       "2    {'br': 'Albânia', 'pt': 'Albânia', 'nl': 'Alba...   \n",
       "3    {'br': 'Argélia', 'pt': 'Argélia', 'nl': 'Alge...   \n",
       "4    {'br': 'Samoa Americana', 'pt': 'Samoa America...   \n",
       "..                                                 ...   \n",
       "245  {'br': 'Wallis e Futuna', 'pt': 'Wallis e Futu...   \n",
       "246  {'br': 'Saara Ocidental', 'pt': 'Saara Ocident...   \n",
       "247  {'br': 'Iêmen', 'pt': 'Iémen', 'nl': 'Jemen', ...   \n",
       "248  {'br': 'Zâmbia', 'pt': 'Zâmbia', 'nl': 'Zambia...   \n",
       "249  {'br': 'Zimbabwe', 'pt': 'Zimbabué', 'nl': 'Zi...   \n",
       "\n",
       "                                                  flag  \\\n",
       "0    https://upload.wikimedia.org/wikipedia/commons...   \n",
       "1                           https://flagcdn.com/ax.svg   \n",
       "2                           https://flagcdn.com/al.svg   \n",
       "3                           https://flagcdn.com/dz.svg   \n",
       "4                           https://flagcdn.com/as.svg   \n",
       "..                                                 ...   \n",
       "245                         https://flagcdn.com/wf.svg   \n",
       "246                         https://flagcdn.com/eh.svg   \n",
       "247                         https://flagcdn.com/ye.svg   \n",
       "248                         https://flagcdn.com/zm.svg   \n",
       "249                         https://flagcdn.com/zw.svg   \n",
       "\n",
       "                                         regionalBlocs cioc independent  gini  \n",
       "0    [{'acronym': 'SAARC', 'name': 'South Asian Ass...  AFG        True   NaN  \n",
       "1        [{'acronym': 'EU', 'name': 'European Union'}]  NaN       False   NaN  \n",
       "2    [{'acronym': 'CEFTA', 'name': 'Central Europea...  ALB        True  33.2  \n",
       "3    [{'acronym': 'AU', 'name': 'African Union', 'o...  ALG        True  27.6  \n",
       "4                                                  NaN  ASA       False   NaN  \n",
       "..                                                 ...  ...         ...   ...  \n",
       "245                                                NaN  NaN       False   NaN  \n",
       "246  [{'acronym': 'AU', 'name': 'African Union', 'o...  NaN       False   NaN  \n",
       "247  [{'acronym': 'AL', 'name': 'Arab League', 'oth...  YEM        True  36.7  \n",
       "248  [{'acronym': 'AU', 'name': 'African Union', 'o...  ZAM        True  57.1  \n",
       "249  [{'acronym': 'AU', 'name': 'African Union', 'o...  ZIM        True  50.3  \n",
       "\n",
       "[250 rows x 26 columns]"
      ]
     },
     "execution_count": 232,
     "metadata": {},
     "output_type": "execute_result"
    }
   ],
   "source": [
    "df"
   ]
  },
  {
   "cell_type": "code",
   "execution_count": 237,
   "metadata": {},
   "outputs": [],
   "source": [
    "df[['name','capital','population']].to_csv('./county-capital-population.csv')"
   ]
  },
  {
   "cell_type": "code",
   "execution_count": 238,
   "metadata": {},
   "outputs": [],
   "source": [
    "df[['name','capital','population']].to_json('./county-capital-population.json')\n"
   ]
  },
  {
   "cell_type": "code",
   "execution_count": 262,
   "metadata": {},
   "outputs": [],
   "source": [
    "lst = [1, 2, 3, 0, -1]\n",
    "lst.append(4)"
   ]
  },
  {
   "cell_type": "code",
   "execution_count": 263,
   "metadata": {},
   "outputs": [
    {
     "data": {
      "text/plain": [
       "[1, 2, 3, 0, -1, 4]"
      ]
     },
     "execution_count": 263,
     "metadata": {},
     "output_type": "execute_result"
    }
   ],
   "source": [
    "lst"
   ]
  },
  {
   "cell_type": "code",
   "execution_count": 264,
   "metadata": {},
   "outputs": [
    {
     "name": "stdout",
     "output_type": "stream",
     "text": [
      "[4, -1, 0, 3, 2, 1]\n"
     ]
    }
   ],
   "source": [
    "copied_lst = lst.copy()\n",
    "copied_lst.reverse()\n",
    "print(copied_lst)"
   ]
  },
  {
   "cell_type": "code",
   "execution_count": 265,
   "metadata": {},
   "outputs": [
    {
     "data": {
      "text/plain": [
       "[1, 2, 3, 0, -1, 4]"
      ]
     },
     "execution_count": 265,
     "metadata": {},
     "output_type": "execute_result"
    }
   ],
   "source": [
    "lst"
   ]
  },
  {
   "cell_type": "code",
   "execution_count": 268,
   "metadata": {},
   "outputs": [
    {
     "data": {
      "text/plain": [
       "[4, 3, 2, 1, 0, -1]"
      ]
     },
     "execution_count": 268,
     "metadata": {},
     "output_type": "execute_result"
    }
   ],
   "source": [
    "sorted(lst, reverse=True)"
   ]
  },
  {
   "cell_type": "code",
   "execution_count": 267,
   "metadata": {},
   "outputs": [
    {
     "data": {
      "text/plain": [
       "[1, 2, 3, 0, -1, 4]"
      ]
     },
     "execution_count": 267,
     "metadata": {},
     "output_type": "execute_result"
    }
   ],
   "source": [
    "lst"
   ]
  },
  {
   "cell_type": "code",
   "execution_count": null,
   "metadata": {},
   "outputs": [],
   "source": []
  }
 ],
 "metadata": {
  "kernelspec": {
   "display_name": "Python 3",
   "language": "python",
   "name": "python3"
  },
  "language_info": {
   "codemirror_mode": {
    "name": "ipython",
    "version": 3
   },
   "file_extension": ".py",
   "mimetype": "text/x-python",
   "name": "python",
   "nbconvert_exporter": "python",
   "pygments_lexer": "ipython3",
   "version": "3.8.5"
  }
 },
 "nbformat": 4,
 "nbformat_minor": 4
}
